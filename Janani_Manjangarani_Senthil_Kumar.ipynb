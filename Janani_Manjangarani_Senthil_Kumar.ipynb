{
 "cells": [
  {
   "cell_type": "code",
   "execution_count": 1,
   "metadata": {
    "vscode": {
     "languageId": "r"
    }
   },
   "outputs": [],
   "source": [
    "\n",
    "suppressMessages(library(tidyverse))\n",
    "suppressMessages(library(tsibble))\n",
    "\n",
    "#for datavisualization\n",
    "suppressMessages(library(ggplot2))\n",
    "suppressMessages(library(dplyr))\n",
    "suppressMessages(library(zoo))   \n",
    "suppressMessages(library(forecast)) \n",
    "\n",
    "suppressMessages(library(gridExtra))\n",
    "\n",
    "suppressMessages(library(fable))\n",
    "suppressMessages(library(fabletools)) ## for add_model function\n",
    "suppressMessages(library(feasts))\n",
    "suppressMessages(library(lubridate))\n",
    "\n",
    "suppressMessages(library(Rmisc))\n",
    "suppressMessages(library(scales))\n",
    "suppressMessages(library(fpp3))\n",
    "suppressMessages(library(imputeTS))\n",
    "suppressMessages(library(prophet))\n",
    "options(warn = -1)\n"
   ]
  },
  {
   "cell_type": "markdown",
   "metadata": {},
   "source": [
    "Data Load and Performing initial transformation"
   ]
  },
  {
   "cell_type": "code",
   "execution_count": 2,
   "metadata": {
    "vscode": {
     "languageId": "r"
    }
   },
   "outputs": [
    {
     "data": {
      "text/html": [
       "<style>\n",
       ".list-inline {list-style: none; margin:0; padding: 0}\n",
       ".list-inline>li {display: inline-block}\n",
       ".list-inline>li:not(:last-child)::after {content: \"\\00b7\"; padding: 0 .5ex}\n",
       "</style>\n",
       "<ol class=list-inline><li>288385</li><li>10</li></ol>\n"
      ],
      "text/latex": [
       "\\begin{enumerate*}\n",
       "\\item 288385\n",
       "\\item 10\n",
       "\\end{enumerate*}\n"
      ],
      "text/markdown": [
       "1. 288385\n",
       "2. 10\n",
       "\n",
       "\n"
      ],
      "text/plain": [
       "[1] 288385     10"
      ]
     },
     "metadata": {},
     "output_type": "display_data"
    },
    {
     "data": {
      "text/html": [
       "<table class=\"dataframe\">\n",
       "<caption>A data.frame: 6 × 11</caption>\n",
       "<thead>\n",
       "\t<tr><th></th><th scope=col>median_listing_price</th><th scope=col>active_listing_count</th><th scope=col>new_listing_count</th><th scope=col>pending_listing_count</th><th scope=col>median_listing_price_per_square_foot</th><th scope=col>median_square_feet</th><th scope=col>average_listing_price</th><th scope=col>total_listing_count</th><th scope=col>county</th><th scope=col>state</th><th scope=col>month_date</th></tr>\n",
       "\t<tr><th></th><th scope=col>&lt;dbl&gt;</th><th scope=col>&lt;dbl&gt;</th><th scope=col>&lt;dbl&gt;</th><th scope=col>&lt;dbl&gt;</th><th scope=col>&lt;dbl&gt;</th><th scope=col>&lt;dbl&gt;</th><th scope=col>&lt;dbl&gt;</th><th scope=col>&lt;dbl&gt;</th><th scope=col>&lt;chr&gt;</th><th scope=col>&lt;chr&gt;</th><th scope=col>&lt;mth&gt;</th></tr>\n",
       "</thead>\n",
       "<tbody>\n",
       "\t<tr><th scope=row>1</th><td>425000</td><td> 12</td><td>  0</td><td> 1</td><td>289</td><td>3024</td><td>444336</td><td> 12</td><td>hartley</td><td>tx</td><td>2024 Mar</td></tr>\n",
       "\t<tr><th scope=row>2</th><td>309900</td><td> 21</td><td>  8</td><td>13</td><td>136</td><td>2016</td><td>397205</td><td> 35</td><td>rock   </td><td>mn</td><td>2024 Mar</td></tr>\n",
       "\t<tr><th scope=row>3</th><td>199000</td><td>165</td><td> 56</td><td>59</td><td>127</td><td>1633</td><td>306719</td><td>222</td><td>carter </td><td>ok</td><td>2024 Mar</td></tr>\n",
       "\t<tr><th scope=row>4</th><td>169000</td><td> 48</td><td> 12</td><td>25</td><td> 89</td><td>1898</td><td>187270</td><td> 71</td><td>mckean </td><td>pa</td><td>2024 Mar</td></tr>\n",
       "\t<tr><th scope=row>5</th><td>248950</td><td>236</td><td>128</td><td>67</td><td>124</td><td>1894</td><td>296370</td><td>303</td><td>etowah </td><td>al</td><td>2024 Mar</td></tr>\n",
       "\t<tr><th scope=row>6</th><td>679450</td><td>135</td><td> 76</td><td>80</td><td>227</td><td>2802</td><td>814852</td><td>211</td><td>dawson </td><td>ga</td><td>2024 Mar</td></tr>\n",
       "</tbody>\n",
       "</table>\n"
      ],
      "text/latex": [
       "A data.frame: 6 × 11\n",
       "\\begin{tabular}{r|lllllllllll}\n",
       "  & median\\_listing\\_price & active\\_listing\\_count & new\\_listing\\_count & pending\\_listing\\_count & median\\_listing\\_price\\_per\\_square\\_foot & median\\_square\\_feet & average\\_listing\\_price & total\\_listing\\_count & county & state & month\\_date\\\\\n",
       "  & <dbl> & <dbl> & <dbl> & <dbl> & <dbl> & <dbl> & <dbl> & <dbl> & <chr> & <chr> & <mth>\\\\\n",
       "\\hline\n",
       "\t1 & 425000 &  12 &   0 &  1 & 289 & 3024 & 444336 &  12 & hartley & tx & 2024 Mar\\\\\n",
       "\t2 & 309900 &  21 &   8 & 13 & 136 & 2016 & 397205 &  35 & rock    & mn & 2024 Mar\\\\\n",
       "\t3 & 199000 & 165 &  56 & 59 & 127 & 1633 & 306719 & 222 & carter  & ok & 2024 Mar\\\\\n",
       "\t4 & 169000 &  48 &  12 & 25 &  89 & 1898 & 187270 &  71 & mckean  & pa & 2024 Mar\\\\\n",
       "\t5 & 248950 & 236 & 128 & 67 & 124 & 1894 & 296370 & 303 & etowah  & al & 2024 Mar\\\\\n",
       "\t6 & 679450 & 135 &  76 & 80 & 227 & 2802 & 814852 & 211 & dawson  & ga & 2024 Mar\\\\\n",
       "\\end{tabular}\n"
      ],
      "text/markdown": [
       "\n",
       "A data.frame: 6 × 11\n",
       "\n",
       "| <!--/--> | median_listing_price &lt;dbl&gt; | active_listing_count &lt;dbl&gt; | new_listing_count &lt;dbl&gt; | pending_listing_count &lt;dbl&gt; | median_listing_price_per_square_foot &lt;dbl&gt; | median_square_feet &lt;dbl&gt; | average_listing_price &lt;dbl&gt; | total_listing_count &lt;dbl&gt; | county &lt;chr&gt; | state &lt;chr&gt; | month_date &lt;mth&gt; |\n",
       "|---|---|---|---|---|---|---|---|---|---|---|---|\n",
       "| 1 | 425000 |  12 |   0 |  1 | 289 | 3024 | 444336 |  12 | hartley | tx | 2024 Mar |\n",
       "| 2 | 309900 |  21 |   8 | 13 | 136 | 2016 | 397205 |  35 | rock    | mn | 2024 Mar |\n",
       "| 3 | 199000 | 165 |  56 | 59 | 127 | 1633 | 306719 | 222 | carter  | ok | 2024 Mar |\n",
       "| 4 | 169000 |  48 |  12 | 25 |  89 | 1898 | 187270 |  71 | mckean  | pa | 2024 Mar |\n",
       "| 5 | 248950 | 236 | 128 | 67 | 124 | 1894 | 296370 | 303 | etowah  | al | 2024 Mar |\n",
       "| 6 | 679450 | 135 |  76 | 80 | 227 | 2802 | 814852 | 211 | dawson  | ga | 2024 Mar |\n",
       "\n"
      ],
      "text/plain": [
       "  median_listing_price active_listing_count new_listing_count\n",
       "1 425000                12                    0              \n",
       "2 309900                21                    8              \n",
       "3 199000               165                   56              \n",
       "4 169000                48                   12              \n",
       "5 248950               236                  128              \n",
       "6 679450               135                   76              \n",
       "  pending_listing_count median_listing_price_per_square_foot median_square_feet\n",
       "1  1                    289                                  3024              \n",
       "2 13                    136                                  2016              \n",
       "3 59                    127                                  1633              \n",
       "4 25                     89                                  1898              \n",
       "5 67                    124                                  1894              \n",
       "6 80                    227                                  2802              \n",
       "  average_listing_price total_listing_count county  state month_date\n",
       "1 444336                 12                 hartley tx    2024 Mar  \n",
       "2 397205                 35                 rock    mn    2024 Mar  \n",
       "3 306719                222                 carter  ok    2024 Mar  \n",
       "4 187270                 71                 mckean  pa    2024 Mar  \n",
       "5 296370                303                 etowah  al    2024 Mar  \n",
       "6 814852                211                 dawson  ga    2024 Mar  "
      ]
     },
     "metadata": {},
     "output_type": "display_data"
    },
    {
     "data": {
      "text/html": [
       "<style>\n",
       ".list-inline {list-style: none; margin:0; padding: 0}\n",
       ".list-inline>li {display: inline-block}\n",
       ".list-inline>li:not(:last-child)::after {content: \"\\00b7\"; padding: 0 .5ex}\n",
       "</style>\n",
       "<ol class=list-inline><li>'median_listing_price'</li><li>'active_listing_count'</li><li>'new_listing_count'</li><li>'pending_listing_count'</li><li>'median_listing_price_per_square_foot'</li><li>'median_square_feet'</li><li>'average_listing_price'</li><li>'total_listing_count'</li><li>'county'</li><li>'state'</li><li>'month_date'</li></ol>\n"
      ],
      "text/latex": [
       "\\begin{enumerate*}\n",
       "\\item 'median\\_listing\\_price'\n",
       "\\item 'active\\_listing\\_count'\n",
       "\\item 'new\\_listing\\_count'\n",
       "\\item 'pending\\_listing\\_count'\n",
       "\\item 'median\\_listing\\_price\\_per\\_square\\_foot'\n",
       "\\item 'median\\_square\\_feet'\n",
       "\\item 'average\\_listing\\_price'\n",
       "\\item 'total\\_listing\\_count'\n",
       "\\item 'county'\n",
       "\\item 'state'\n",
       "\\item 'month\\_date'\n",
       "\\end{enumerate*}\n"
      ],
      "text/markdown": [
       "1. 'median_listing_price'\n",
       "2. 'active_listing_count'\n",
       "3. 'new_listing_count'\n",
       "4. 'pending_listing_count'\n",
       "5. 'median_listing_price_per_square_foot'\n",
       "6. 'median_square_feet'\n",
       "7. 'average_listing_price'\n",
       "8. 'total_listing_count'\n",
       "9. 'county'\n",
       "10. 'state'\n",
       "11. 'month_date'\n",
       "\n",
       "\n"
      ],
      "text/plain": [
       " [1] \"median_listing_price\"                \n",
       " [2] \"active_listing_count\"                \n",
       " [3] \"new_listing_count\"                   \n",
       " [4] \"pending_listing_count\"               \n",
       " [5] \"median_listing_price_per_square_foot\"\n",
       " [6] \"median_square_feet\"                  \n",
       " [7] \"average_listing_price\"               \n",
       " [8] \"total_listing_count\"                 \n",
       " [9] \"county\"                              \n",
       "[10] \"state\"                               \n",
       "[11] \"month_date\"                          "
      ]
     },
     "metadata": {},
     "output_type": "display_data"
    },
    {
     "data": {
      "text/html": [
       "<style>\n",
       ".list-inline {list-style: none; margin:0; padding: 0}\n",
       ".list-inline>li {display: inline-block}\n",
       ".list-inline>li:not(:last-child)::after {content: \"\\00b7\"; padding: 0 .5ex}\n",
       "</style>\n",
       "<ol class=list-inline><li>288385</li><li>11</li></ol>\n"
      ],
      "text/latex": [
       "\\begin{enumerate*}\n",
       "\\item 288385\n",
       "\\item 11\n",
       "\\end{enumerate*}\n"
      ],
      "text/markdown": [
       "1. 288385\n",
       "2. 11\n",
       "\n",
       "\n"
      ],
      "text/plain": [
       "[1] 288385     11"
      ]
     },
     "metadata": {},
     "output_type": "display_data"
    }
   ],
   "source": [
    "df <- read.csv('./data/data.csv')\n",
    "df %>% distinct() %>% dim() #Checking for duplicates#\n",
    "\n",
    "### Extract county, state, and create date variable\n",
    "# The `county_name` contains the `county` and `state`. Use `regex` to extract those into separate fields. Convert the `month_date_yyyymm` from an integer to a `monthly date`.\n",
    "\n",
    "df <-  df %>% \n",
    "mutate(county = str_extract(county_name, '^(.*)?, ([a-z]{2})$', group=1)) %>%\n",
    "mutate(state = str_extract(county_name, '^(.*)?, ([a-z]{2})$', group=2)) %>%\n",
    "mutate(month_date = tsibble::yearmonth(as.character(month_date_yyyymm), '%Y%m'))\n",
    "\n",
    "df$county_name <- NULL\n",
    "df$month_date_yyyymm <- NULL\n",
    "\n",
    "df %>% head()\n",
    "colnames(df)\n",
    "dim(df)"
   ]
  },
  {
   "cell_type": "code",
   "execution_count": 3,
   "metadata": {
    "vscode": {
     "languageId": "r"
    }
   },
   "outputs": [
    {
     "name": "stdout",
     "output_type": "stream",
     "text": [
      "                median_listing_price                 active_listing_count \n",
      "                                  63                                   45 \n",
      "                   new_listing_count                pending_listing_count \n",
      "                                  43                                23871 \n",
      "median_listing_price_per_square_foot                   median_square_feet \n",
      "                                 328                                  325 \n",
      "               average_listing_price                  total_listing_count \n",
      "                                  63                                   43 \n",
      "                              county                                state \n",
      "                                   0                                    0 \n",
      "                          month_date \n",
      "                                   0 \n"
     ]
    }
   ],
   "source": [
    "print(colSums(is.na(df)))"
   ]
  },
  {
   "cell_type": "markdown",
   "metadata": {},
   "source": [
    "Handling NULL values"
   ]
  },
  {
   "cell_type": "code",
   "execution_count": 4,
   "metadata": {
    "vscode": {
     "languageId": "r"
    }
   },
   "outputs": [
    {
     "name": "stdout",
     "output_type": "stream",
     "text": [
      "[1] \"Has nulls pending_listing_count\"\n"
     ]
    },
    {
     "data": {
      "text/html": [
       "FALSE"
      ],
      "text/latex": [
       "FALSE"
      ],
      "text/markdown": [
       "FALSE"
      ],
      "text/plain": [
       "[1] FALSE"
      ]
     },
     "metadata": {},
     "output_type": "display_data"
    },
    {
     "name": "stdout",
     "output_type": "stream",
     "text": [
      "[1] \"Has nulls new_listing_count\"\n"
     ]
    },
    {
     "data": {
      "text/html": [
       "FALSE"
      ],
      "text/latex": [
       "FALSE"
      ],
      "text/markdown": [
       "FALSE"
      ],
      "text/plain": [
       "[1] FALSE"
      ]
     },
     "metadata": {},
     "output_type": "display_data"
    },
    {
     "name": "stdout",
     "output_type": "stream",
     "text": [
      "[1] \"Has nulls active_listing_count\"\n"
     ]
    },
    {
     "data": {
      "text/html": [
       "FALSE"
      ],
      "text/latex": [
       "FALSE"
      ],
      "text/markdown": [
       "FALSE"
      ],
      "text/plain": [
       "[1] FALSE"
      ]
     },
     "metadata": {},
     "output_type": "display_data"
    },
    {
     "name": "stdout",
     "output_type": "stream",
     "text": [
      "[1] \"Has nulls median_listing_price\"\n"
     ]
    },
    {
     "data": {
      "text/html": [
       "FALSE"
      ],
      "text/latex": [
       "FALSE"
      ],
      "text/markdown": [
       "FALSE"
      ],
      "text/plain": [
       "[1] FALSE"
      ]
     },
     "metadata": {},
     "output_type": "display_data"
    }
   ],
   "source": [
    "library(dplyr)\n",
    "\n",
    "# Define a function to fill missing values within each state\n",
    "fill_pending_listing_count <- function(df) {\n",
    "  df <- df %>%\n",
    "    group_by(state) %>%\n",
    "    mutate(pending_listing_count = ifelse(is.na(pending_listing_count), \n",
    "                                          median(pending_listing_count, na.rm = TRUE), \n",
    "                                          pending_listing_count))\n",
    "  return(df)\n",
    "}\n",
    "df_filled <- fill_pending_listing_count(df)\n",
    "\n",
    "fill_active_listing_count <- function(df) {\n",
    "  df <- df %>%\n",
    "    group_by(state) %>%\n",
    "    mutate(active_listing_count = ifelse(is.na(active_listing_count), \n",
    "                                          median(active_listing_count, na.rm = TRUE), \n",
    "                                          active_listing_count))\n",
    "  return(df)\n",
    "}\n",
    "\n",
    "df_filled <- fill_active_listing_count(df_filled)\n",
    "\n",
    "fill_new_listing_count <- function(df) {\n",
    "  df <- df %>%\n",
    "    group_by(state) %>%\n",
    "    mutate(new_listing_count = ifelse(is.na(new_listing_count), \n",
    "                                          median(new_listing_count, na.rm = TRUE), \n",
    "                                          new_listing_count))\n",
    "  return(df)\n",
    "}\n",
    "\n",
    "df_filled <- fill_new_listing_count(df_filled)\n",
    "\n",
    "fill_median_listing_price <- function(df) {\n",
    "  df <- df %>%\n",
    "    group_by(state) %>%\n",
    "    mutate(median_listing_price = ifelse(is.na(median_listing_price), \n",
    "                                          mean(median_listing_price, na.rm = TRUE), \n",
    "                                          median_listing_price))\n",
    "  return(df)\n",
    "}\n",
    "\n",
    "df_filled <- fill_median_listing_price(df_filled)\n",
    "\n",
    "# Check the result\n",
    "# head(df_filled)\n",
    "print('Has nulls pending_listing_count')\n",
    "any(is.na(df_filled$pending_listing_count))\n",
    "print(\"Has nulls new_listing_count\")\n",
    "any(is.na(df_filled$new_listing_count))\n",
    "print(\"Has nulls active_listing_count\")\n",
    "any(is.na(df_filled$active_listing_count))\n",
    "print('Has nulls median_listing_price')\n",
    "any(is.na(df_filled$median_listing_price))\n",
    "\n",
    "df <- df_filled %>% select('state','county','month_date','median_listing_price','active_listing_count','new_listing_count','pending_listing_count')"
   ]
  },
  {
   "cell_type": "markdown",
   "metadata": {},
   "source": [
    "Checking for Duplicates in the dataset"
   ]
  },
  {
   "cell_type": "code",
   "execution_count": 5,
   "metadata": {
    "vscode": {
     "languageId": "r"
    }
   },
   "outputs": [
    {
     "name": "stderr",
     "output_type": "stream",
     "text": [
      "Using `month_date` as index variable.\n"
     ]
    },
    {
     "data": {
      "text/html": [
       "<style>\n",
       ".list-inline {list-style: none; margin:0; padding: 0}\n",
       ".list-inline>li {display: inline-block}\n",
       ".list-inline>li:not(:last-child)::after {content: \"\\00b7\"; padding: 0 .5ex}\n",
       "</style>\n",
       "<ol class=list-inline><li>288385</li><li>7</li></ol>\n"
      ],
      "text/latex": [
       "\\begin{enumerate*}\n",
       "\\item 288385\n",
       "\\item 7\n",
       "\\end{enumerate*}\n"
      ],
      "text/markdown": [
       "1. 288385\n",
       "2. 7\n",
       "\n",
       "\n"
      ],
      "text/plain": [
       "[1] 288385      7"
      ]
     },
     "metadata": {},
     "output_type": "display_data"
    },
    {
     "data": {
      "text/html": [
       "<style>\n",
       ".list-inline {list-style: none; margin:0; padding: 0}\n",
       ".list-inline>li {display: inline-block}\n",
       ".list-inline>li:not(:last-child)::after {content: \"\\00b7\"; padding: 0 .5ex}\n",
       "</style>\n",
       "<ol class=list-inline><li>288385</li><li>7</li></ol>\n"
      ],
      "text/latex": [
       "\\begin{enumerate*}\n",
       "\\item 288385\n",
       "\\item 7\n",
       "\\end{enumerate*}\n"
      ],
      "text/markdown": [
       "1. 288385\n",
       "2. 7\n",
       "\n",
       "\n"
      ],
      "text/plain": [
       "[1] 288385      7"
      ]
     },
     "metadata": {},
     "output_type": "display_data"
    }
   ],
   "source": [
    "df %>% duplicates() %>% dim()\n",
    "df %>% dim()"
   ]
  },
  {
   "cell_type": "code",
   "execution_count": 6,
   "metadata": {
    "vscode": {
     "languageId": "r"
    }
   },
   "outputs": [
    {
     "data": {
      "text/html": [
       "<table class=\"dataframe\">\n",
       "<caption>A grouped_ts: 6 × 7</caption>\n",
       "<thead>\n",
       "\t<tr><th scope=col>state</th><th scope=col>county</th><th scope=col>month_date</th><th scope=col>median_listing_price</th><th scope=col>active_listing_count</th><th scope=col>new_listing_count</th><th scope=col>pending_listing_count</th></tr>\n",
       "\t<tr><th scope=col>&lt;chr&gt;</th><th scope=col>&lt;chr&gt;</th><th scope=col>&lt;mth&gt;</th><th scope=col>&lt;dbl&gt;</th><th scope=col>&lt;dbl&gt;</th><th scope=col>&lt;dbl&gt;</th><th scope=col>&lt;dbl&gt;</th></tr>\n",
       "</thead>\n",
       "<tbody>\n",
       "\t<tr><td>ak</td><td>aleutians east</td><td>2016 Jul</td><td>485000</td><td>3</td><td>0</td><td>24</td></tr>\n",
       "\t<tr><td>ak</td><td>aleutians east</td><td>2016 Aug</td><td>342250</td><td>4</td><td>0</td><td>24</td></tr>\n",
       "\t<tr><td>ak</td><td>aleutians east</td><td>2016 Sep</td><td>342250</td><td>4</td><td>0</td><td>24</td></tr>\n",
       "\t<tr><td>ak</td><td>aleutians east</td><td>2016 Oct</td><td>199500</td><td>4</td><td>0</td><td>24</td></tr>\n",
       "\t<tr><td>ak</td><td>aleutians east</td><td>2016 Nov</td><td>342250</td><td>4</td><td>0</td><td>24</td></tr>\n",
       "\t<tr><td>ak</td><td>aleutians east</td><td>2016 Dec</td><td>342250</td><td>4</td><td>0</td><td>24</td></tr>\n",
       "</tbody>\n",
       "</table>\n"
      ],
      "text/latex": [
       "A grouped\\_ts: 6 × 7\n",
       "\\begin{tabular}{lllllll}\n",
       " state & county & month\\_date & median\\_listing\\_price & active\\_listing\\_count & new\\_listing\\_count & pending\\_listing\\_count\\\\\n",
       " <chr> & <chr> & <mth> & <dbl> & <dbl> & <dbl> & <dbl>\\\\\n",
       "\\hline\n",
       "\t ak & aleutians east & 2016 Jul & 485000 & 3 & 0 & 24\\\\\n",
       "\t ak & aleutians east & 2016 Aug & 342250 & 4 & 0 & 24\\\\\n",
       "\t ak & aleutians east & 2016 Sep & 342250 & 4 & 0 & 24\\\\\n",
       "\t ak & aleutians east & 2016 Oct & 199500 & 4 & 0 & 24\\\\\n",
       "\t ak & aleutians east & 2016 Nov & 342250 & 4 & 0 & 24\\\\\n",
       "\t ak & aleutians east & 2016 Dec & 342250 & 4 & 0 & 24\\\\\n",
       "\\end{tabular}\n"
      ],
      "text/markdown": [
       "\n",
       "A grouped_ts: 6 × 7\n",
       "\n",
       "| state &lt;chr&gt; | county &lt;chr&gt; | month_date &lt;mth&gt; | median_listing_price &lt;dbl&gt; | active_listing_count &lt;dbl&gt; | new_listing_count &lt;dbl&gt; | pending_listing_count &lt;dbl&gt; |\n",
       "|---|---|---|---|---|---|---|\n",
       "| ak | aleutians east | 2016 Jul | 485000 | 3 | 0 | 24 |\n",
       "| ak | aleutians east | 2016 Aug | 342250 | 4 | 0 | 24 |\n",
       "| ak | aleutians east | 2016 Sep | 342250 | 4 | 0 | 24 |\n",
       "| ak | aleutians east | 2016 Oct | 199500 | 4 | 0 | 24 |\n",
       "| ak | aleutians east | 2016 Nov | 342250 | 4 | 0 | 24 |\n",
       "| ak | aleutians east | 2016 Dec | 342250 | 4 | 0 | 24 |\n",
       "\n"
      ],
      "text/plain": [
       "  state county         month_date median_listing_price active_listing_count\n",
       "1 ak    aleutians east 2016 Jul   485000               3                   \n",
       "2 ak    aleutians east 2016 Aug   342250               4                   \n",
       "3 ak    aleutians east 2016 Sep   342250               4                   \n",
       "4 ak    aleutians east 2016 Oct   199500               4                   \n",
       "5 ak    aleutians east 2016 Nov   342250               4                   \n",
       "6 ak    aleutians east 2016 Dec   342250               4                   \n",
       "  new_listing_count pending_listing_count\n",
       "1 0                 24                   \n",
       "2 0                 24                   \n",
       "3 0                 24                   \n",
       "4 0                 24                   \n",
       "5 0                 24                   \n",
       "6 0                 24                   "
      ]
     },
     "metadata": {},
     "output_type": "display_data"
    },
    {
     "name": "stdout",
     "output_type": "stream",
     "text": [
      "[1] \"Dimension of data before identifying gaps - \"\n"
     ]
    },
    {
     "data": {
      "text/html": [
       "<style>\n",
       ".list-inline {list-style: none; margin:0; padding: 0}\n",
       ".list-inline>li {display: inline-block}\n",
       ".list-inline>li:not(:last-child)::after {content: \"\\00b7\"; padding: 0 .5ex}\n",
       "</style>\n",
       "<ol class=list-inline><li>288385</li><li>7</li></ol>\n"
      ],
      "text/latex": [
       "\\begin{enumerate*}\n",
       "\\item 288385\n",
       "\\item 7\n",
       "\\end{enumerate*}\n"
      ],
      "text/markdown": [
       "1. 288385\n",
       "2. 7\n",
       "\n",
       "\n"
      ],
      "text/plain": [
       "[1] 288385      7"
      ]
     },
     "metadata": {},
     "output_type": "display_data"
    },
    {
     "name": "stdout",
     "output_type": "stream",
     "text": [
      "[1] \"Dimension of data after identifying and filling gaps\"\n"
     ]
    },
    {
     "data": {
      "text/html": [
       "<style>\n",
       ".list-inline {list-style: none; margin:0; padding: 0}\n",
       ".list-inline>li {display: inline-block}\n",
       ".list-inline>li:not(:last-child)::after {content: \"\\00b7\"; padding: 0 .5ex}\n",
       "</style>\n",
       "<ol class=list-inline><li>290690</li><li>7</li></ol>\n"
      ],
      "text/latex": [
       "\\begin{enumerate*}\n",
       "\\item 290690\n",
       "\\item 7\n",
       "\\end{enumerate*}\n"
      ],
      "text/markdown": [
       "1. 290690\n",
       "2. 7\n",
       "\n",
       "\n"
      ],
      "text/plain": [
       "[1] 290690      7"
      ]
     },
     "metadata": {},
     "output_type": "display_data"
    },
    {
     "data": {
      "text/html": [
       "TRUE"
      ],
      "text/latex": [
       "TRUE"
      ],
      "text/markdown": [
       "TRUE"
      ],
      "text/plain": [
       "[1] TRUE"
      ]
     },
     "metadata": {},
     "output_type": "display_data"
    }
   ],
   "source": [
    "df_ts <- df %>% as_tsibble(index=month_date, key=c(state,county))\n",
    "df_ts %>% head()\n",
    "print('Dimension of data before identifying gaps - ')\n",
    "df_ts %>% dim()\n",
    "df_ts <- df_ts %>% fill_gaps()\n",
    "print('Dimension of data after identifying and filling gaps')\n",
    "df_ts %>% dim()\n",
    "any(is.na(df_ts$median_listing_price))"
   ]
  },
  {
   "cell_type": "code",
   "execution_count": 7,
   "metadata": {
    "vscode": {
     "languageId": "r"
    }
   },
   "outputs": [
    {
     "data": {
      "text/html": [
       "<style>\n",
       ".dl-inline {width: auto; margin:0; padding: 0}\n",
       ".dl-inline>dt, .dl-inline>dd {float: none; width: auto; display: inline-block}\n",
       ".dl-inline>dt::after {content: \":\\0020\"; padding-right: .5ex}\n",
       ".dl-inline>dt:not(:first-of-type) {padding-left: .5ex}\n",
       "</style><dl class=dl-inline><dt>state</dt><dd>0</dd><dt>county</dt><dd>0</dd><dt>month_date</dt><dd>0</dd><dt>median_listing_price</dt><dd>2305</dd><dt>active_listing_count</dt><dd>2305</dd><dt>new_listing_count</dt><dd>2305</dd><dt>pending_listing_count</dt><dd>2305</dd></dl>\n"
      ],
      "text/latex": [
       "\\begin{description*}\n",
       "\\item[state] 0\n",
       "\\item[county] 0\n",
       "\\item[month\\textbackslash{}\\_date] 0\n",
       "\\item[median\\textbackslash{}\\_listing\\textbackslash{}\\_price] 2305\n",
       "\\item[active\\textbackslash{}\\_listing\\textbackslash{}\\_count] 2305\n",
       "\\item[new\\textbackslash{}\\_listing\\textbackslash{}\\_count] 2305\n",
       "\\item[pending\\textbackslash{}\\_listing\\textbackslash{}\\_count] 2305\n",
       "\\end{description*}\n"
      ],
      "text/markdown": [
       "state\n",
       ":   0county\n",
       ":   0month_date\n",
       ":   0median_listing_price\n",
       ":   2305active_listing_count\n",
       ":   2305new_listing_count\n",
       ":   2305pending_listing_count\n",
       ":   2305\n",
       "\n"
      ],
      "text/plain": [
       "                state                county            month_date \n",
       "                    0                     0                     0 \n",
       " median_listing_price  active_listing_count     new_listing_count \n",
       "                 2305                  2305                  2305 \n",
       "pending_listing_count \n",
       "                 2305 "
      ]
     },
     "metadata": {},
     "output_type": "display_data"
    }
   ],
   "source": [
    "colSums(is.na(df_ts))\n"
   ]
  },
  {
   "cell_type": "markdown",
   "metadata": {},
   "source": [
    "Handling Gaps using **linear interpolation**"
   ]
  },
  {
   "cell_type": "code",
   "execution_count": 8,
   "metadata": {
    "vscode": {
     "languageId": "r"
    }
   },
   "outputs": [
    {
     "name": "stdout",
     "output_type": "stream",
     "text": [
      "\u001b[90m# A tsibble: 1 x 7 [1M]\u001b[39m\n",
      "\u001b[90m# Key:       state, county [1]\u001b[39m\n",
      "\u001b[90m# Groups:    state [1]\u001b[39m\n",
      "  state county         month_date median_listing_price active_listing_count\n",
      "  \u001b[3m\u001b[90m<chr>\u001b[39m\u001b[23m \u001b[3m\u001b[90m<chr>\u001b[39m\u001b[23m               \u001b[3m\u001b[90m<mth>\u001b[39m\u001b[23m                \u001b[3m\u001b[90m<dbl>\u001b[39m\u001b[23m                \u001b[3m\u001b[90m<dbl>\u001b[39m\u001b[23m\n",
      "\u001b[90m1\u001b[39m ak    aleutians east   2016 Jul               \u001b[4m4\u001b[24m\u001b[4m8\u001b[24m\u001b[4m5\u001b[24m000                    3\n",
      "\u001b[90m# ℹ 2 more variables: new_listing_count <dbl>, pending_listing_count <dbl>\u001b[39m\n"
     ]
    },
    {
     "data": {
      "text/html": [
       "<style>\n",
       ".dl-inline {width: auto; margin:0; padding: 0}\n",
       ".dl-inline>dt, .dl-inline>dd {float: none; width: auto; display: inline-block}\n",
       ".dl-inline>dt::after {content: \":\\0020\"; padding-right: .5ex}\n",
       ".dl-inline>dt:not(:first-of-type) {padding-left: .5ex}\n",
       "</style><dl class=dl-inline><dt>state</dt><dd>0</dd><dt>county</dt><dd>0</dd><dt>month_date</dt><dd>0</dd><dt>median_listing_price</dt><dd>0</dd><dt>active_listing_count</dt><dd>0</dd><dt>new_listing_count</dt><dd>0</dd><dt>pending_listing_count</dt><dd>0</dd></dl>\n"
      ],
      "text/latex": [
       "\\begin{description*}\n",
       "\\item[state] 0\n",
       "\\item[county] 0\n",
       "\\item[month\\textbackslash{}\\_date] 0\n",
       "\\item[median\\textbackslash{}\\_listing\\textbackslash{}\\_price] 0\n",
       "\\item[active\\textbackslash{}\\_listing\\textbackslash{}\\_count] 0\n",
       "\\item[new\\textbackslash{}\\_listing\\textbackslash{}\\_count] 0\n",
       "\\item[pending\\textbackslash{}\\_listing\\textbackslash{}\\_count] 0\n",
       "\\end{description*}\n"
      ],
      "text/markdown": [
       "state\n",
       ":   0county\n",
       ":   0month_date\n",
       ":   0median_listing_price\n",
       ":   0active_listing_count\n",
       ":   0new_listing_count\n",
       ":   0pending_listing_count\n",
       ":   0\n",
       "\n"
      ],
      "text/plain": [
       "                state                county            month_date \n",
       "                    0                     0                     0 \n",
       " median_listing_price  active_listing_count     new_listing_count \n",
       "                    0                     0                     0 \n",
       "pending_listing_count \n",
       "                    0 "
      ]
     },
     "metadata": {},
     "output_type": "display_data"
    }
   ],
   "source": [
    "df_ts %>% head(1) %>% print()\n",
    "df_ts_interpolated <- df_ts %>%\n",
    "  mutate(\n",
    "    median_listing_price = na.approx(median_listing_price),\n",
    "    active_listing_count = na.approx(active_listing_count),\n",
    "    new_listing_count = na.approx(new_listing_count),\n",
    "    pending_listing_count = na.approx(pending_listing_count)\n",
    "  )\n",
    "colSums(is.na(df_ts_interpolated))"
   ]
  },
  {
   "cell_type": "code",
   "execution_count": 9,
   "metadata": {
    "vscode": {
     "languageId": "r"
    }
   },
   "outputs": [],
   "source": [
    "write.csv(df_ts_interpolated %>% as.data.frame(), './data/df_after_filling_nulls.csv',row.names=FALSE)"
   ]
  },
  {
   "cell_type": "code",
   "execution_count": 10,
   "metadata": {
    "vscode": {
     "languageId": "r"
    }
   },
   "outputs": [
    {
     "data": {
      "text/html": [
       "<style>\n",
       ".list-inline {list-style: none; margin:0; padding: 0}\n",
       ".list-inline>li {display: inline-block}\n",
       ".list-inline>li:not(:last-child)::after {content: \"\\00b7\"; padding: 0 .5ex}\n",
       "</style>\n",
       "<ol class=list-inline><li>290690</li><li>7</li></ol>\n"
      ],
      "text/latex": [
       "\\begin{enumerate*}\n",
       "\\item 290690\n",
       "\\item 7\n",
       "\\end{enumerate*}\n"
      ],
      "text/markdown": [
       "1. 290690\n",
       "2. 7\n",
       "\n",
       "\n"
      ],
      "text/plain": [
       "[1] 290690      7"
      ]
     },
     "metadata": {},
     "output_type": "display_data"
    },
    {
     "data": {
      "text/html": [
       "<style>\n",
       ".dl-inline {width: auto; margin:0; padding: 0}\n",
       ".dl-inline>dt, .dl-inline>dd {float: none; width: auto; display: inline-block}\n",
       ".dl-inline>dt::after {content: \":\\0020\"; padding-right: .5ex}\n",
       ".dl-inline>dt:not(:first-of-type) {padding-left: .5ex}\n",
       "</style><dl class=dl-inline><dt>state</dt><dd>0</dd><dt>county</dt><dd>0</dd><dt>month_date</dt><dd>0</dd><dt>median_listing_price</dt><dd>0</dd><dt>active_listing_count</dt><dd>0</dd><dt>new_listing_count</dt><dd>0</dd><dt>pending_listing_count</dt><dd>0</dd></dl>\n"
      ],
      "text/latex": [
       "\\begin{description*}\n",
       "\\item[state] 0\n",
       "\\item[county] 0\n",
       "\\item[month\\textbackslash{}\\_date] 0\n",
       "\\item[median\\textbackslash{}\\_listing\\textbackslash{}\\_price] 0\n",
       "\\item[active\\textbackslash{}\\_listing\\textbackslash{}\\_count] 0\n",
       "\\item[new\\textbackslash{}\\_listing\\textbackslash{}\\_count] 0\n",
       "\\item[pending\\textbackslash{}\\_listing\\textbackslash{}\\_count] 0\n",
       "\\end{description*}\n"
      ],
      "text/markdown": [
       "state\n",
       ":   0county\n",
       ":   0month_date\n",
       ":   0median_listing_price\n",
       ":   0active_listing_count\n",
       ":   0new_listing_count\n",
       ":   0pending_listing_count\n",
       ":   0\n",
       "\n"
      ],
      "text/plain": [
       "                state                county            month_date \n",
       "                    0                     0                     0 \n",
       " median_listing_price  active_listing_count     new_listing_count \n",
       "                    0                     0                     0 \n",
       "pending_listing_count \n",
       "                    0 "
      ]
     },
     "metadata": {},
     "output_type": "display_data"
    },
    {
     "data": {
      "text/html": [
       "<table class=\"dataframe\">\n",
       "<caption>A data.frame: 2 × 7</caption>\n",
       "<thead>\n",
       "\t<tr><th></th><th scope=col>state</th><th scope=col>county</th><th scope=col>month_date</th><th scope=col>median_listing_price</th><th scope=col>active_listing_count</th><th scope=col>new_listing_count</th><th scope=col>pending_listing_count</th></tr>\n",
       "\t<tr><th></th><th scope=col>&lt;chr&gt;</th><th scope=col>&lt;chr&gt;</th><th scope=col>&lt;mth&gt;</th><th scope=col>&lt;dbl&gt;</th><th scope=col>&lt;dbl&gt;</th><th scope=col>&lt;dbl&gt;</th><th scope=col>&lt;dbl&gt;</th></tr>\n",
       "</thead>\n",
       "<tbody>\n",
       "\t<tr><th scope=row>1</th><td>ak</td><td>aleutians east</td><td>2016 Jul</td><td>485000</td><td>3</td><td>0</td><td>24</td></tr>\n",
       "\t<tr><th scope=row>2</th><td>ak</td><td>aleutians east</td><td>2016 Aug</td><td>342250</td><td>4</td><td>0</td><td>24</td></tr>\n",
       "</tbody>\n",
       "</table>\n"
      ],
      "text/latex": [
       "A data.frame: 2 × 7\n",
       "\\begin{tabular}{r|lllllll}\n",
       "  & state & county & month\\_date & median\\_listing\\_price & active\\_listing\\_count & new\\_listing\\_count & pending\\_listing\\_count\\\\\n",
       "  & <chr> & <chr> & <mth> & <dbl> & <dbl> & <dbl> & <dbl>\\\\\n",
       "\\hline\n",
       "\t1 & ak & aleutians east & 2016 Jul & 485000 & 3 & 0 & 24\\\\\n",
       "\t2 & ak & aleutians east & 2016 Aug & 342250 & 4 & 0 & 24\\\\\n",
       "\\end{tabular}\n"
      ],
      "text/markdown": [
       "\n",
       "A data.frame: 2 × 7\n",
       "\n",
       "| <!--/--> | state &lt;chr&gt; | county &lt;chr&gt; | month_date &lt;mth&gt; | median_listing_price &lt;dbl&gt; | active_listing_count &lt;dbl&gt; | new_listing_count &lt;dbl&gt; | pending_listing_count &lt;dbl&gt; |\n",
       "|---|---|---|---|---|---|---|---|\n",
       "| 1 | ak | aleutians east | 2016 Jul | 485000 | 3 | 0 | 24 |\n",
       "| 2 | ak | aleutians east | 2016 Aug | 342250 | 4 | 0 | 24 |\n",
       "\n"
      ],
      "text/plain": [
       "  state county         month_date median_listing_price active_listing_count\n",
       "1 ak    aleutians east 2016 Jul   485000               3                   \n",
       "2 ak    aleutians east 2016 Aug   342250               4                   \n",
       "  new_listing_count pending_listing_count\n",
       "1 0                 24                   \n",
       "2 0                 24                   "
      ]
     },
     "metadata": {},
     "output_type": "display_data"
    }
   ],
   "source": [
    "df = read.csv('./data/df_after_filling_nulls.csv')\n",
    "df %>% dim()\n",
    "colSums(is.na(df))\n",
    "df <- df %>% mutate(month_date = tsibble::yearmonth(as.character(month_date), '%Y%m'))\n",
    "df %>% head(2)\n",
    "df_ts <- df %>% as_tsibble(index=month_date, key = c(state,county))"
   ]
  },
  {
   "cell_type": "markdown",
   "metadata": {},
   "source": [
    "Visualising the charts"
   ]
  },
  {
   "cell_type": "code",
   "execution_count": 11,
   "metadata": {
    "vscode": {
     "languageId": "r"
    }
   },
   "outputs": [
    {
     "name": "stderr",
     "output_type": "stream",
     "text": [
      "\u001b[1m\u001b[22mSaving 6.67 x 6.67 in image\n"
     ]
    },
    {
     "name": "stdout",
     "output_type": "stream",
     "text": [
      "[1] \"Count of NULLS in each columns chosen ... \"\n",
      " median_listing_price  active_listing_count     new_listing_count \n",
      "                    0                     0                     0 \n",
      "pending_listing_count            month_date                 state \n",
      "                    0                     0                     0 \n",
      "               county \n",
      "                    0 \n"
     ]
    },
    {
     "data": {
      "text/html": [
       "<style>\n",
       ".list-inline {list-style: none; margin:0; padding: 0}\n",
       ".list-inline>li {display: inline-block}\n",
       ".list-inline>li:not(:last-child)::after {content: \"\\00b7\"; padding: 0 .5ex}\n",
       "</style>\n",
       "<ol class=list-inline><li>290690</li><li>7</li></ol>\n"
      ],
      "text/latex": [
       "\\begin{enumerate*}\n",
       "\\item 290690\n",
       "\\item 7\n",
       "\\end{enumerate*}\n"
      ],
      "text/markdown": [
       "1. 290690\n",
       "2. 7\n",
       "\n",
       "\n"
      ],
      "text/plain": [
       "[1] 290690      7"
      ]
     },
     "metadata": {},
     "output_type": "display_data"
    },
    {
     "name": "stdout",
     "output_type": "stream",
     "text": [
      "[1] \"Post handling nulls\"\n"
     ]
    },
    {
     "data": {
      "text/html": [
       "<table class=\"dataframe\">\n",
       "<caption>A tbl_ts: 2 × 11</caption>\n",
       "<thead>\n",
       "\t<tr><th scope=col>state</th><th scope=col>county</th><th scope=col>month_date</th><th scope=col>median_listing_price</th><th scope=col>active_listing_count</th><th scope=col>new_listing_count</th><th scope=col>pending_listing_count</th><th scope=col>median_listing_price_nc</th><th scope=col>active_listing_count_nc</th><th scope=col>new_listing_count_nc</th><th scope=col>pending_listing_count_nc</th></tr>\n",
       "\t<tr><th scope=col>&lt;chr&gt;</th><th scope=col>&lt;chr&gt;</th><th scope=col>&lt;mth&gt;</th><th scope=col>&lt;dbl&gt;</th><th scope=col>&lt;dbl&gt;</th><th scope=col>&lt;dbl&gt;</th><th scope=col>&lt;dbl&gt;</th><th scope=col>&lt;dbl&gt;</th><th scope=col>&lt;dbl&gt;</th><th scope=col>&lt;dbl&gt;</th><th scope=col>&lt;dbl&gt;</th></tr>\n",
       "</thead>\n",
       "<tbody>\n",
       "\t<tr><td>ak</td><td>aleutians east</td><td>2016 Jul</td><td>485000</td><td>3</td><td>0</td><td>24</td><td>485000</td><td>3</td><td>0</td><td>24</td></tr>\n",
       "\t<tr><td>ak</td><td>aleutians east</td><td>2016 Aug</td><td>342250</td><td>4</td><td>0</td><td>24</td><td>342250</td><td>4</td><td>0</td><td>24</td></tr>\n",
       "</tbody>\n",
       "</table>\n"
      ],
      "text/latex": [
       "A tbl\\_ts: 2 × 11\n",
       "\\begin{tabular}{lllllllllll}\n",
       " state & county & month\\_date & median\\_listing\\_price & active\\_listing\\_count & new\\_listing\\_count & pending\\_listing\\_count & median\\_listing\\_price\\_nc & active\\_listing\\_count\\_nc & new\\_listing\\_count\\_nc & pending\\_listing\\_count\\_nc\\\\\n",
       " <chr> & <chr> & <mth> & <dbl> & <dbl> & <dbl> & <dbl> & <dbl> & <dbl> & <dbl> & <dbl>\\\\\n",
       "\\hline\n",
       "\t ak & aleutians east & 2016 Jul & 485000 & 3 & 0 & 24 & 485000 & 3 & 0 & 24\\\\\n",
       "\t ak & aleutians east & 2016 Aug & 342250 & 4 & 0 & 24 & 342250 & 4 & 0 & 24\\\\\n",
       "\\end{tabular}\n"
      ],
      "text/markdown": [
       "\n",
       "A tbl_ts: 2 × 11\n",
       "\n",
       "| state &lt;chr&gt; | county &lt;chr&gt; | month_date &lt;mth&gt; | median_listing_price &lt;dbl&gt; | active_listing_count &lt;dbl&gt; | new_listing_count &lt;dbl&gt; | pending_listing_count &lt;dbl&gt; | median_listing_price_nc &lt;dbl&gt; | active_listing_count_nc &lt;dbl&gt; | new_listing_count_nc &lt;dbl&gt; | pending_listing_count_nc &lt;dbl&gt; |\n",
       "|---|---|---|---|---|---|---|---|---|---|---|\n",
       "| ak | aleutians east | 2016 Jul | 485000 | 3 | 0 | 24 | 485000 | 3 | 0 | 24 |\n",
       "| ak | aleutians east | 2016 Aug | 342250 | 4 | 0 | 24 | 342250 | 4 | 0 | 24 |\n",
       "\n"
      ],
      "text/plain": [
       "  state county         month_date median_listing_price active_listing_count\n",
       "1 ak    aleutians east 2016 Jul   485000               3                   \n",
       "2 ak    aleutians east 2016 Aug   342250               4                   \n",
       "  new_listing_count pending_listing_count median_listing_price_nc\n",
       "1 0                 24                    485000                 \n",
       "2 0                 24                    342250                 \n",
       "  active_listing_count_nc new_listing_count_nc pending_listing_count_nc\n",
       "1 3                       0                    24                      \n",
       "2 4                       0                    24                      "
      ]
     },
     "metadata": {},
     "output_type": "display_data"
    },
    {
     "name": "stdout",
     "output_type": "stream",
     "text": [
      "[1] \"Post handling NULLS .... \"\n"
     ]
    },
    {
     "name": "stderr",
     "output_type": "stream",
     "text": [
      "\u001b[1m\u001b[22mSaving 6.67 x 6.67 in image\n"
     ]
    },
    {
     "data": {
      "image/png": "[encoded data removed]",
      "text/plain": [
       "plot without title"
      ]
     },
     "metadata": {
      "image/png": {
       "height": 420,
       "width": 420
      }
     },
     "output_type": "display_data"
    },
    {
     "data": {
      "image/png": "[encoded data removed]",
      "text/plain": [
       "plot without title"
      ]
     },
     "metadata": {
      "image/png": {
       "height": 420,
       "width": 420
      }
     },
     "output_type": "display_data"
    }
   ],
   "source": [
    "ts_data <- ts(df_ts$median_listing_price, frequency = 12, start = c(year(min(df$month_date)), month(min(df$month_date))))\n",
    "p1 <- autoplot(ts_data) + labs(title = \"Median Listing Price\")\n",
    "ts_data <- ts(df_ts$active_listing_count, frequency = 12, start = c(year(min(df$month_date)), month(min(df$month_date))))\n",
    "p2 <- autoplot(ts_data) + labs(title = \"Active Listing Price\")\n",
    "ts_data <- ts(df_ts$new_listing_count, frequency = 12, start = c(year(min(df$month_date)), month(min(df$month_date))))\n",
    "p3 <- autoplot(ts_data) + labs(title = \"New Listing Price\")\n",
    "ts_data <- ts(df_ts$pending_listing_count, frequency = 12, start = c(year(min(df$month_date)), month(min(df$month_date))))\n",
    "p4 <- autoplot(ts_data) + labs(title = \"Pending Listing Price\")\n",
    "ggsave('./plots/Initial_data.png',grid.arrange(p1,p2,p3,p4,ncol = 2))\n",
    "\n",
    "\n",
    "print('Count of NULLS in each columns chosen ... ')\n",
    "print(colSums(is.na(df_ts %>% select(median_listing_price,active_listing_count,new_listing_count,pending_listing_count))))\n",
    "dim(df_ts)\n",
    "\n",
    "\n",
    "# Replace NA with median for each specified column\n",
    "df_ts$median_listing_price_nc <- df_ts$median_listing_price\n",
    "df_ts$active_listing_count_nc<- df_ts$active_listing_count\n",
    "df_ts$new_listing_count_nc <- df_ts$new_listing_count\n",
    "df_ts$pending_listing_count_nc <- df_ts$pending_listing_count\n",
    "\n",
    "# Replace NA with median for each specified column\n",
    "df_ts$median_listing_price_nc[is.na(df_ts$median_listing_price_nc)] <- mean(df_ts$median_listing_price, na.rm = TRUE)\n",
    "df_ts$active_listing_count_nc[is.na(df_ts$active_listing_count_nc)] <- median(df_ts$active_listing_count, na.rm = TRUE)\n",
    "df_ts$new_listing_count_nc[is.na(df_ts$new_listing_count_nc)] <- median(df_ts$new_listing_count, na.rm = TRUE)\n",
    "df_ts$pending_listing_count_nc[is.na(df_ts$pending_listing_count_nc)] <- median(df_ts$pending_listing_count, na.rm = TRUE)\n",
    "print('Post handling nulls')\n",
    "df_ts %>% head(2)\n",
    "\n",
    "print('Post handling NULLS .... ')\n",
    "ts_data <- ts(df_ts$median_listing_price_nc, frequency = 12, start = c(year(min(df_ts$month_date)), month(min(df_ts$month_date))))\n",
    "p1 <- autoplot(ts_data) + labs(title = \"Median Listing Price after handling nulls\")\n",
    "ts_data <- ts(df_ts$active_listing_count_nc, frequency = 12, start = c(year(min(df_ts$month_date)), month(min(df_ts$month_date))))\n",
    "p2 <- autoplot(ts_data) + labs(title = \"Active Listing Price after handling nulls\")\n",
    "ts_data <- ts(df_ts$new_listing_count_nc, frequency = 12, start = c(year(min(df_ts$month_date)), month(min(df_ts$month_date))))\n",
    "p3 <- autoplot(ts_data) + labs(title = \"New Listing Price after handling nulls\")\n",
    "ts_data <- ts(df_ts$pending_listing_count_nc, frequency = 12, start = c(year(min(df_ts$month_date)), month(min(df_ts$month_date))))\n",
    "p4 <- autoplot(ts_data) + labs(title = \"Pending Listing Price after handling nulls\")\n",
    "ggsave('./plots/data_after_filling_missing_values.png',grid.arrange(p1,p2,p3,p4,ncol = 2))\n"
   ]
  },
  {
   "cell_type": "code",
   "execution_count": 12,
   "metadata": {
    "vscode": {
     "languageId": "r"
    }
   },
   "outputs": [
    {
     "data": {
      "text/html": [
       "<style>\n",
       ".dl-inline {width: auto; margin:0; padding: 0}\n",
       ".dl-inline>dt, .dl-inline>dd {float: none; width: auto; display: inline-block}\n",
       ".dl-inline>dt::after {content: \":\\0020\"; padding-right: .5ex}\n",
       ".dl-inline>dt:not(:first-of-type) {padding-left: .5ex}\n",
       "</style><dl class=dl-inline><dt>state</dt><dd>0</dd><dt>county</dt><dd>0</dd><dt>month_date</dt><dd>0</dd><dt>median_listing_price</dt><dd>0</dd><dt>active_listing_count</dt><dd>0</dd><dt>new_listing_count</dt><dd>0</dd><dt>pending_listing_count</dt><dd>0</dd><dt>median_listing_price_nc</dt><dd>0</dd><dt>active_listing_count_nc</dt><dd>0</dd><dt>new_listing_count_nc</dt><dd>0</dd><dt>pending_listing_count_nc</dt><dd>0</dd></dl>\n"
      ],
      "text/latex": [
       "\\begin{description*}\n",
       "\\item[state] 0\n",
       "\\item[county] 0\n",
       "\\item[month\\textbackslash{}\\_date] 0\n",
       "\\item[median\\textbackslash{}\\_listing\\textbackslash{}\\_price] 0\n",
       "\\item[active\\textbackslash{}\\_listing\\textbackslash{}\\_count] 0\n",
       "\\item[new\\textbackslash{}\\_listing\\textbackslash{}\\_count] 0\n",
       "\\item[pending\\textbackslash{}\\_listing\\textbackslash{}\\_count] 0\n",
       "\\item[median\\textbackslash{}\\_listing\\textbackslash{}\\_price\\textbackslash{}\\_nc] 0\n",
       "\\item[active\\textbackslash{}\\_listing\\textbackslash{}\\_count\\textbackslash{}\\_nc] 0\n",
       "\\item[new\\textbackslash{}\\_listing\\textbackslash{}\\_count\\textbackslash{}\\_nc] 0\n",
       "\\item[pending\\textbackslash{}\\_listing\\textbackslash{}\\_count\\textbackslash{}\\_nc] 0\n",
       "\\end{description*}\n"
      ],
      "text/markdown": [
       "state\n",
       ":   0county\n",
       ":   0month_date\n",
       ":   0median_listing_price\n",
       ":   0active_listing_count\n",
       ":   0new_listing_count\n",
       ":   0pending_listing_count\n",
       ":   0median_listing_price_nc\n",
       ":   0active_listing_count_nc\n",
       ":   0new_listing_count_nc\n",
       ":   0pending_listing_count_nc\n",
       ":   0\n",
       "\n"
      ],
      "text/plain": [
       "                   state                   county               month_date \n",
       "                       0                        0                        0 \n",
       "    median_listing_price     active_listing_count        new_listing_count \n",
       "                       0                        0                        0 \n",
       "   pending_listing_count  median_listing_price_nc  active_listing_count_nc \n",
       "                       0                        0                        0 \n",
       "    new_listing_count_nc pending_listing_count_nc \n",
       "                       0                        0 "
      ]
     },
     "metadata": {},
     "output_type": "display_data"
    }
   ],
   "source": [
    "colSums(is.na(df_ts))"
   ]
  },
  {
   "cell_type": "markdown",
   "metadata": {},
   "source": [
    "Checking for outliers at lower hierarchy"
   ]
  },
  {
   "cell_type": "code",
   "execution_count": 13,
   "metadata": {
    "vscode": {
     "languageId": "r"
    }
   },
   "outputs": [],
   "source": [
    "# Function to detect outliers using IQR\n",
    "detect_outliers_IQR <- function(x) {\n",
    "  iqr <- IQR(x)\n",
    "  lower_bound <- quantile(x, 0.25) - 1.5 * iqr\n",
    "  upper_bound <- quantile(x, 0.75) + 1.5 * iqr\n",
    "  outliers <- x[x < lower_bound | x > upper_bound]\n",
    "  return(outliers)\n",
    "}\n",
    "\n",
    "# Group data by state and year, and then apply outlier detection function\n",
    "outliers <- lapply(unique(df$state), function(state) {\n",
    "  lapply(unique(df$year), function(year) {\n",
    "    subset <- df[df$state == state & df$year == year, relevant_columns]\n",
    "    outliers <- lapply(subset, detect_outliers_IQR)\n",
    "    list(state = state, year = year, outliers = outliers)\n",
    "  })\n",
    "})\n",
    "\n",
    "# Print outliers for each state and year\n",
    "for (state_outliers in outliers) {\n",
    "  for (year_outliers in state_outliers) {\n",
    "    state <- year_outliers$state\n",
    "    year <- year_outliers$year\n",
    "    cat(\"Outliers in '\", state, \"' for year '\", year, \"':\\n\")\n",
    "    for (i in seq_along(relevant_columns)) {\n",
    "      col <- relevant_columns[i]\n",
    "      outlier_values <- year_outliers$outliers[[i]]\n",
    "      num_outliers <- length(outlier_values)\n",
    "      cat(\"  - \", col, \": Number of outliers: \", num_outliers, \"\\n\")\n",
    "      if (num_outliers > 0) {\n",
    "        cat(\"    Outlier values: \", toString(outlier_values), \"\\n\")\n",
    "      }\n",
    "    }\n",
    "  }\n",
    "}\n"
   ]
  },
  {
   "cell_type": "code",
   "execution_count": 14,
   "metadata": {
    "vscode": {
     "languageId": "r"
    }
   },
   "outputs": [],
   "source": [
    "write.csv(df_ts,'./data/data_after_filling_nulls.csv',row.names=FALSE)"
   ]
  },
  {
   "cell_type": "code",
   "execution_count": 19,
   "metadata": {
    "vscode": {
     "languageId": "r"
    }
   },
   "outputs": [
    {
     "data": {
      "text/html": [
       "<style>\n",
       ".list-inline {list-style: none; margin:0; padding: 0}\n",
       ".list-inline>li {display: inline-block}\n",
       ".list-inline>li:not(:last-child)::after {content: \"\\00b7\"; padding: 0 .5ex}\n",
       "</style>\n",
       "<ol class=list-inline><li>290690</li><li>11</li></ol>\n"
      ],
      "text/latex": [
       "\\begin{enumerate*}\n",
       "\\item 290690\n",
       "\\item 11\n",
       "\\end{enumerate*}\n"
      ],
      "text/markdown": [
       "1. 290690\n",
       "2. 11\n",
       "\n",
       "\n"
      ],
      "text/plain": [
       "[1] 290690     11"
      ]
     },
     "metadata": {},
     "output_type": "display_data"
    },
    {
     "data": {
      "text/html": [
       "<style>\n",
       ".dl-inline {width: auto; margin:0; padding: 0}\n",
       ".dl-inline>dt, .dl-inline>dd {float: none; width: auto; display: inline-block}\n",
       ".dl-inline>dt::after {content: \":\\0020\"; padding-right: .5ex}\n",
       ".dl-inline>dt:not(:first-of-type) {padding-left: .5ex}\n",
       "</style><dl class=dl-inline><dt>state</dt><dd>0</dd><dt>county</dt><dd>0</dd><dt>month_date</dt><dd>0</dd><dt>median_listing_price</dt><dd>0</dd><dt>active_listing_count</dt><dd>0</dd><dt>new_listing_count</dt><dd>0</dd><dt>pending_listing_count</dt><dd>0</dd><dt>median_listing_price_nc</dt><dd>0</dd><dt>active_listing_count_nc</dt><dd>0</dd><dt>new_listing_count_nc</dt><dd>0</dd><dt>pending_listing_count_nc</dt><dd>0</dd></dl>\n"
      ],
      "text/latex": [
       "\\begin{description*}\n",
       "\\item[state] 0\n",
       "\\item[county] 0\n",
       "\\item[month\\textbackslash{}\\_date] 0\n",
       "\\item[median\\textbackslash{}\\_listing\\textbackslash{}\\_price] 0\n",
       "\\item[active\\textbackslash{}\\_listing\\textbackslash{}\\_count] 0\n",
       "\\item[new\\textbackslash{}\\_listing\\textbackslash{}\\_count] 0\n",
       "\\item[pending\\textbackslash{}\\_listing\\textbackslash{}\\_count] 0\n",
       "\\item[median\\textbackslash{}\\_listing\\textbackslash{}\\_price\\textbackslash{}\\_nc] 0\n",
       "\\item[active\\textbackslash{}\\_listing\\textbackslash{}\\_count\\textbackslash{}\\_nc] 0\n",
       "\\item[new\\textbackslash{}\\_listing\\textbackslash{}\\_count\\textbackslash{}\\_nc] 0\n",
       "\\item[pending\\textbackslash{}\\_listing\\textbackslash{}\\_count\\textbackslash{}\\_nc] 0\n",
       "\\end{description*}\n"
      ],
      "text/markdown": [
       "state\n",
       ":   0county\n",
       ":   0month_date\n",
       ":   0median_listing_price\n",
       ":   0active_listing_count\n",
       ":   0new_listing_count\n",
       ":   0pending_listing_count\n",
       ":   0median_listing_price_nc\n",
       ":   0active_listing_count_nc\n",
       ":   0new_listing_count_nc\n",
       ":   0pending_listing_count_nc\n",
       ":   0\n",
       "\n"
      ],
      "text/plain": [
       "                   state                   county               month_date \n",
       "                       0                        0                        0 \n",
       "    median_listing_price     active_listing_count        new_listing_count \n",
       "                       0                        0                        0 \n",
       "   pending_listing_count  median_listing_price_nc  active_listing_count_nc \n",
       "                       0                        0                        0 \n",
       "    new_listing_count_nc pending_listing_count_nc \n",
       "                       0                        0 "
      ]
     },
     "metadata": {},
     "output_type": "display_data"
    }
   ],
   "source": [
    "df = read.csv('./data/data_after_filling_nulls.csv')\n",
    "df %>% dim()\n",
    "colSums(is.na(df))\n",
    "df <- df %>% mutate(month_date = tsibble::yearmonth(as.character(month_date), '%Y%m'))\n",
    "\n",
    "df <- df %>% \n",
    "        select(-median_listing_price_nc,\n",
    "                -active_listing_count_nc,\n",
    "                -new_listing_count_nc,\n",
    "                -pending_listing_count_nc\n",
    "            )"
   ]
  },
  {
   "cell_type": "markdown",
   "metadata": {},
   "source": [
    "Data Aggregation natital and State wise"
   ]
  },
  {
   "cell_type": "code",
   "execution_count": 18,
   "metadata": {
    "vscode": {
     "languageId": "r"
    }
   },
   "outputs": [
    {
     "name": "stdout",
     "output_type": "stream",
     "text": [
      "  state month_date median_listing_price.sum median_listing_price.mean\n",
      "1    ak   2016 Jul                6703400.0                  257823.1\n",
      "2    al   2016 Jul               10948380.0                  163408.7\n",
      "  new_listing_count.sum new_listing_count.mean active_listing_count.sum\n",
      "1            1184.00000               45.53846                3795.0000\n",
      "2            7480.00000              111.64179               30457.0000\n",
      "  active_listing_count.mean pending_listing_count.sum\n",
      "1                  145.9615                 555.00000\n",
      "2                  454.5821                2665.00000\n",
      "  pending_listing_count.mean\n",
      "1                   21.34615\n",
      "2                   39.77612\n"
     ]
    },
    {
     "data": {
      "text/html": [
       "<table class=\"dataframe\">\n",
       "<caption>A data.frame: 2 × 5</caption>\n",
       "<thead>\n",
       "\t<tr><th></th><th scope=col>month_date</th><th scope=col>median_listing_price</th><th scope=col>new_listing_count</th><th scope=col>active_listing_count</th><th scope=col>pending_listing_count</th></tr>\n",
       "\t<tr><th></th><th scope=col>&lt;mth&gt;</th><th scope=col>&lt;dbl[,2]&gt;</th><th scope=col>&lt;dbl[,2]&gt;</th><th scope=col>&lt;dbl[,2]&gt;</th><th scope=col>&lt;dbl[,2]&gt;</th></tr>\n",
       "</thead>\n",
       "<tbody>\n",
       "\t<tr><th scope=row>1</th><td>2016 Jul</td><td>605055310, 196510.3</td><td>497388.0, 161.5421</td><td>1463458, 475.3030</td><td>428460.0, 139.1556</td></tr>\n",
       "\t<tr><th scope=row>2</th><td>2016 Aug</td><td>593072493, 192368.6</td><td>464936.7, 150.8066</td><td>1456822, 472.5339</td><td>407334.1, 132.1226</td></tr>\n",
       "</tbody>\n",
       "</table>\n"
      ],
      "text/latex": [
       "A data.frame: 2 × 5\n",
       "\\begin{tabular}{r|lllll}\n",
       "  & month\\_date & median\\_listing\\_price & new\\_listing\\_count & active\\_listing\\_count & pending\\_listing\\_count\\\\\n",
       "  & <mth> & <dbl{[},2{]}> & <dbl{[},2{]}> & <dbl{[},2{]}> & <dbl{[},2{]}>\\\\\n",
       "\\hline\n",
       "\t1 & 2016 Jul & 605055310, 196510.3 & 497388.0, 161.5421 & 1463458, 475.3030 & 428460.0, 139.1556\\\\\n",
       "\t2 & 2016 Aug & 593072493, 192368.6 & 464936.7, 150.8066 & 1456822, 472.5339 & 407334.1, 132.1226\\\\\n",
       "\\end{tabular}\n"
      ],
      "text/markdown": [
       "\n",
       "A data.frame: 2 × 5\n",
       "\n",
       "| <!--/--> | month_date &lt;mth&gt; | median_listing_price &lt;dbl[,2]&gt; | new_listing_count &lt;dbl[,2]&gt; | active_listing_count &lt;dbl[,2]&gt; | pending_listing_count &lt;dbl[,2]&gt; |\n",
       "|---|---|---|---|---|---|\n",
       "| 1 | 2016 Jul | 605055310, 196510.3 | 497388.0, 161.5421 | 1463458, 475.3030 | 428460.0, 139.1556 |\n",
       "| 2 | 2016 Aug | 593072493, 192368.6 | 464936.7, 150.8066 | 1456822, 472.5339 | 407334.1, 132.1226 |\n",
       "\n"
      ],
      "text/plain": [
       "  month_date median_listing_price new_listing_count  active_listing_count\n",
       "1 2016 Jul   605055310, 196510.3  497388.0, 161.5421 1463458, 475.3030   \n",
       "2 2016 Aug   593072493, 192368.6  464936.7, 150.8066 1456822, 472.5339   \n",
       "  pending_listing_count\n",
       "1 428460.0, 139.1556   \n",
       "2 407334.1, 132.1226   "
      ]
     },
     "metadata": {},
     "output_type": "display_data"
    }
   ],
   "source": [
    "result <- aggregate(\n",
    "    cbind(\n",
    "      median_listing_price, \n",
    "      new_listing_count, \n",
    "      active_listing_count, \n",
    "      pending_listing_count\n",
    "    ) ~ state + month_date,\n",
    "    df, \n",
    "    FUN = function(x) c(sum = sum(x), mean = mean(x))\n",
    "  )\n",
    "result %>% head(2) %>% print()\n",
    "# print(result %>% head(2))\n",
    "\n",
    "result$median_listing_price <- result$median_listing_price[, 2]\n",
    "result$active_listing_count <- result$active_listing_count[, 1] ## getting sum for counts\n",
    "result$new_listing_count <- result$new_listing_count[, 1]\n",
    "result$pending_listing_count <- result$pending_listing_count[, 1]\n",
    "\n",
    "write.csv(result,'./data/state_wise_aggregate.csv',row.names = FALSE)\n",
    "# df %>% filter(month_date ==yearmonth(as.character('2016 Jul'))) %>% select(active_listing_count) %>% sum()\n",
    "\n",
    "# sum(df[df['month_date']=='2016 Jul']['active_listing_count'])\n",
    "result <- aggregate(\n",
    "    cbind(\n",
    "      median_listing_price, \n",
    "      new_listing_count, \n",
    "      active_listing_count, \n",
    "      pending_listing_count\n",
    "    ) ~ month_date,\n",
    "    df, \n",
    "    FUN = function(x) c(sum = sum(x), mean = mean(x))\n",
    "  )\n",
    "result %>% head(2)\n",
    "result$median_listing_price <- result$median_listing_price[, 2]\n",
    "result$active_listing_count <- result$active_listing_count[, 1] ## getting sum for counts\n",
    "result$new_listing_count <- result$new_listing_count[, 1]\n",
    "result$pending_listing_count <- result$pending_listing_count[, 1]\n",
    "# result %>% head(2)\n",
    "write.csv(result,'./data/national_aggregate.csv',row.names = FALSE)"
   ]
  },
  {
   "cell_type": "markdown",
   "metadata": {},
   "source": [
    "Working on national aggregates"
   ]
  },
  {
   "cell_type": "code",
   "execution_count": 23,
   "metadata": {
    "vscode": {
     "languageId": "r"
    }
   },
   "outputs": [
    {
     "data": {
      "text/html": [
       "<style>\n",
       ".list-inline {list-style: none; margin:0; padding: 0}\n",
       ".list-inline>li {display: inline-block}\n",
       ".list-inline>li:not(:last-child)::after {content: \"\\00b7\"; padding: 0 .5ex}\n",
       "</style>\n",
       "<ol class=list-inline><li>93</li><li>5</li></ol>\n"
      ],
      "text/latex": [
       "\\begin{enumerate*}\n",
       "\\item 93\n",
       "\\item 5\n",
       "\\end{enumerate*}\n"
      ],
      "text/markdown": [
       "1. 93\n",
       "2. 5\n",
       "\n",
       "\n"
      ],
      "text/plain": [
       "[1] 93  5"
      ]
     },
     "metadata": {},
     "output_type": "display_data"
    },
    {
     "data": {
      "text/html": [
       "<style>\n",
       ".list-inline {list-style: none; margin:0; padding: 0}\n",
       ".list-inline>li {display: inline-block}\n",
       ".list-inline>li:not(:last-child)::after {content: \"\\00b7\"; padding: 0 .5ex}\n",
       "</style>\n",
       "<ol class=list-inline><li>0</li><li>1</li></ol>\n"
      ],
      "text/latex": [
       "\\begin{enumerate*}\n",
       "\\item 0\n",
       "\\item 1\n",
       "\\end{enumerate*}\n"
      ],
      "text/markdown": [
       "1. 0\n",
       "2. 1\n",
       "\n",
       "\n"
      ],
      "text/plain": [
       "[1] 0 1"
      ]
     },
     "metadata": {},
     "output_type": "display_data"
    },
    {
     "data": {
      "text/html": [
       "<table class=\"dataframe\">\n",
       "<caption>A data.frame: 2 × 5</caption>\n",
       "<thead>\n",
       "\t<tr><th></th><th scope=col>month_date</th><th scope=col>median_listing_price</th><th scope=col>new_listing_count</th><th scope=col>active_listing_count</th><th scope=col>pending_listing_count</th></tr>\n",
       "\t<tr><th></th><th scope=col>&lt;mth&gt;</th><th scope=col>&lt;dbl&gt;</th><th scope=col>&lt;dbl&gt;</th><th scope=col>&lt;dbl&gt;</th><th scope=col>&lt;dbl&gt;</th></tr>\n",
       "</thead>\n",
       "<tbody>\n",
       "\t<tr><th scope=row>1</th><td>2016 Jul</td><td>196510.3</td><td>497388.0</td><td>1463458</td><td>428460.0</td></tr>\n",
       "\t<tr><th scope=row>2</th><td>2016 Aug</td><td>192368.6</td><td>464936.7</td><td>1456822</td><td>407334.1</td></tr>\n",
       "</tbody>\n",
       "</table>\n"
      ],
      "text/latex": [
       "A data.frame: 2 × 5\n",
       "\\begin{tabular}{r|lllll}\n",
       "  & month\\_date & median\\_listing\\_price & new\\_listing\\_count & active\\_listing\\_count & pending\\_listing\\_count\\\\\n",
       "  & <mth> & <dbl> & <dbl> & <dbl> & <dbl>\\\\\n",
       "\\hline\n",
       "\t1 & 2016 Jul & 196510.3 & 497388.0 & 1463458 & 428460.0\\\\\n",
       "\t2 & 2016 Aug & 192368.6 & 464936.7 & 1456822 & 407334.1\\\\\n",
       "\\end{tabular}\n"
      ],
      "text/markdown": [
       "\n",
       "A data.frame: 2 × 5\n",
       "\n",
       "| <!--/--> | month_date &lt;mth&gt; | median_listing_price &lt;dbl&gt; | new_listing_count &lt;dbl&gt; | active_listing_count &lt;dbl&gt; | pending_listing_count &lt;dbl&gt; |\n",
       "|---|---|---|---|---|---|\n",
       "| 1 | 2016 Jul | 196510.3 | 497388.0 | 1463458 | 428460.0 |\n",
       "| 2 | 2016 Aug | 192368.6 | 464936.7 | 1456822 | 407334.1 |\n",
       "\n"
      ],
      "text/plain": [
       "  month_date median_listing_price new_listing_count active_listing_count\n",
       "1 2016 Jul   196510.3             497388.0          1463458             \n",
       "2 2016 Aug   192368.6             464936.7          1456822             \n",
       "  pending_listing_count\n",
       "1 428460.0             \n",
       "2 407334.1             "
      ]
     },
     "metadata": {},
     "output_type": "display_data"
    }
   ],
   "source": [
    "df <- read.csv('./data/national_aggregate.csv')\n",
    "df %>% dim()\n",
    "df <- df %>%\n",
    "    mutate(month_date = tsibble::yearmonth(as.character(month_date), '%Y%m')) \n",
    "df_ts <- df %>% as_tsibble(index=month_date)\n",
    "df_ts %>% has_gaps() %>% filter(.gaps == TRUE) %>% dim()\n",
    "df %>% head(2)"
   ]
  },
  {
   "cell_type": "markdown",
   "metadata": {},
   "source": [
    "Visualizing original data"
   ]
  },
  {
   "cell_type": "code",
   "execution_count": 24,
   "metadata": {
    "vscode": {
     "languageId": "r"
    }
   },
   "outputs": [
    {
     "data": {
      "image/png": "[encoded data removed]",
      "text/plain": [
       "plot without title"
      ]
     },
     "metadata": {
      "image/png": {
       "height": 420,
       "width": 420
      }
     },
     "output_type": "display_data"
    }
   ],
   "source": [
    "p1 <- df_ts %>% autoplot(median_listing_price)\n",
    "p2 <- df_ts %>% autoplot(active_listing_count)\n",
    "p3 <- df_ts %>% autoplot(new_listing_count)\n",
    "p4 <- df_ts %>% autoplot(pending_listing_count)\n",
    "\n",
    "grid.arrange(p1,p2,p3,p4,ncol=2)"
   ]
  },
  {
   "cell_type": "markdown",
   "metadata": {},
   "source": [
    "Splitting train vs test data"
   ]
  },
  {
   "cell_type": "code",
   "execution_count": 25,
   "metadata": {
    "vscode": {
     "languageId": "r"
    }
   },
   "outputs": [
    {
     "data": {
      "text/html": [
       "<style>\n",
       ".list-inline {list-style: none; margin:0; padding: 0}\n",
       ".list-inline>li {display: inline-block}\n",
       ".list-inline>li:not(:last-child)::after {content: \"\\00b7\"; padding: 0 .5ex}\n",
       "</style>\n",
       "<ol class=list-inline><li>93</li><li>5</li></ol>\n"
      ],
      "text/latex": [
       "\\begin{enumerate*}\n",
       "\\item 93\n",
       "\\item 5\n",
       "\\end{enumerate*}\n"
      ],
      "text/markdown": [
       "1. 93\n",
       "2. 5\n",
       "\n",
       "\n"
      ],
      "text/plain": [
       "[1] 93  5"
      ]
     },
     "metadata": {},
     "output_type": "display_data"
    },
    {
     "data": {
      "text/html": [
       "<table class=\"dataframe\">\n",
       "<caption>A tbl_ts: 2 × 5</caption>\n",
       "<thead>\n",
       "\t<tr><th scope=col>month_date</th><th scope=col>median_listing_price</th><th scope=col>new_listing_count</th><th scope=col>active_listing_count</th><th scope=col>pending_listing_count</th></tr>\n",
       "\t<tr><th scope=col>&lt;mth&gt;</th><th scope=col>&lt;dbl&gt;</th><th scope=col>&lt;dbl&gt;</th><th scope=col>&lt;dbl&gt;</th><th scope=col>&lt;dbl&gt;</th></tr>\n",
       "</thead>\n",
       "<tbody>\n",
       "\t<tr><td>2023 Feb</td><td>318395.3</td><td>300078.5</td><td>577328.3</td><td>371916.4</td></tr>\n",
       "\t<tr><td>2023 Mar</td><td>324956.6</td><td>340008.9</td><td>560567.5</td><td>399111.3</td></tr>\n",
       "</tbody>\n",
       "</table>\n"
      ],
      "text/latex": [
       "A tbl\\_ts: 2 × 5\n",
       "\\begin{tabular}{lllll}\n",
       " month\\_date & median\\_listing\\_price & new\\_listing\\_count & active\\_listing\\_count & pending\\_listing\\_count\\\\\n",
       " <mth> & <dbl> & <dbl> & <dbl> & <dbl>\\\\\n",
       "\\hline\n",
       "\t 2023 Feb & 318395.3 & 300078.5 & 577328.3 & 371916.4\\\\\n",
       "\t 2023 Mar & 324956.6 & 340008.9 & 560567.5 & 399111.3\\\\\n",
       "\\end{tabular}\n"
      ],
      "text/markdown": [
       "\n",
       "A tbl_ts: 2 × 5\n",
       "\n",
       "| month_date &lt;mth&gt; | median_listing_price &lt;dbl&gt; | new_listing_count &lt;dbl&gt; | active_listing_count &lt;dbl&gt; | pending_listing_count &lt;dbl&gt; |\n",
       "|---|---|---|---|---|\n",
       "| 2023 Feb | 318395.3 | 300078.5 | 577328.3 | 371916.4 |\n",
       "| 2023 Mar | 324956.6 | 340008.9 | 560567.5 | 399111.3 |\n",
       "\n"
      ],
      "text/plain": [
       "  month_date median_listing_price new_listing_count active_listing_count\n",
       "1 2023 Feb   318395.3             300078.5          577328.3            \n",
       "2 2023 Mar   324956.6             340008.9          560567.5            \n",
       "  pending_listing_count\n",
       "1 371916.4             \n",
       "2 399111.3             "
      ]
     },
     "metadata": {},
     "output_type": "display_data"
    },
    {
     "data": {
      "text/html": [
       "<table class=\"dataframe\">\n",
       "<caption>A tbl_ts: 2 × 5</caption>\n",
       "<thead>\n",
       "\t<tr><th scope=col>month_date</th><th scope=col>median_listing_price</th><th scope=col>new_listing_count</th><th scope=col>active_listing_count</th><th scope=col>pending_listing_count</th></tr>\n",
       "\t<tr><th scope=col>&lt;mth&gt;</th><th scope=col>&lt;dbl&gt;</th><th scope=col>&lt;dbl&gt;</th><th scope=col>&lt;dbl&gt;</th><th scope=col>&lt;dbl&gt;</th></tr>\n",
       "</thead>\n",
       "<tbody>\n",
       "\t<tr><td>2023 Apr</td><td>331608.8</td><td>369932.6</td><td>558027.8</td><td>431913.0</td></tr>\n",
       "\t<tr><td>2023 May</td><td>333812.7</td><td>401928.1</td><td>579572.7</td><td>460178.3</td></tr>\n",
       "</tbody>\n",
       "</table>\n"
      ],
      "text/latex": [
       "A tbl\\_ts: 2 × 5\n",
       "\\begin{tabular}{lllll}\n",
       " month\\_date & median\\_listing\\_price & new\\_listing\\_count & active\\_listing\\_count & pending\\_listing\\_count\\\\\n",
       " <mth> & <dbl> & <dbl> & <dbl> & <dbl>\\\\\n",
       "\\hline\n",
       "\t 2023 Apr & 331608.8 & 369932.6 & 558027.8 & 431913.0\\\\\n",
       "\t 2023 May & 333812.7 & 401928.1 & 579572.7 & 460178.3\\\\\n",
       "\\end{tabular}\n"
      ],
      "text/markdown": [
       "\n",
       "A tbl_ts: 2 × 5\n",
       "\n",
       "| month_date &lt;mth&gt; | median_listing_price &lt;dbl&gt; | new_listing_count &lt;dbl&gt; | active_listing_count &lt;dbl&gt; | pending_listing_count &lt;dbl&gt; |\n",
       "|---|---|---|---|---|\n",
       "| 2023 Apr | 331608.8 | 369932.6 | 558027.8 | 431913.0 |\n",
       "| 2023 May | 333812.7 | 401928.1 | 579572.7 | 460178.3 |\n",
       "\n"
      ],
      "text/plain": [
       "  month_date median_listing_price new_listing_count active_listing_count\n",
       "1 2023 Apr   331608.8             369932.6          558027.8            \n",
       "2 2023 May   333812.7             401928.1          579572.7            \n",
       "  pending_listing_count\n",
       "1 431913.0             \n",
       "2 460178.3             "
      ]
     },
     "metadata": {},
     "output_type": "display_data"
    }
   ],
   "source": [
    "df_ts %>% dim()\n",
    "df_train <- df_ts %>% \n",
    "    filter(month_date <=  yearmonth(as.character('2023 Mar'), format = '%Y %m'))\n",
    "df_test <- df_ts %>% \n",
    "    filter(month_date >  yearmonth(as.character('2023 Mar'), format = '%Y %m'))\n",
    "\n",
    "df_train %>% tail(2)\n",
    "df_test %>% head(2)"
   ]
  },
  {
   "cell_type": "markdown",
   "metadata": {},
   "source": [
    "Visualizing seasonality"
   ]
  },
  {
   "cell_type": "code",
   "execution_count": 26,
   "metadata": {
    "vscode": {
     "languageId": "r"
    }
   },
   "outputs": [
    {
     "data": {
      "image/png": "[encoded data removed]",
      "text/plain": [
       "plot without title"
      ]
     },
     "metadata": {
      "image/png": {
       "height": 420,
       "width": 420
      }
     },
     "output_type": "display_data"
    }
   ],
   "source": [
    "df_train_mlp = ts(\n",
    "    df_train$median_listing_price,\n",
    "    start=c(year(df_train$month_date[0]) , month(df_train$month_date[1])),\n",
    "    frequency = 12\n",
    "    )\n",
    "df_train_alc = ts(\n",
    "    df_train$active_listing_count,\n",
    "    start=c(year(df_train$month_date[0]) , month(df_train$month_date[1])),\n",
    "    frequency = 12\n",
    "    )\n",
    "df_train_nlc = ts(\n",
    "    df_train$new_listing_count,\n",
    "    start=c(year(df_train$month_date[0]) , month(df_train$month_date[1])),\n",
    "    frequency = 12\n",
    "    )\n",
    "df_train_plc = ts(\n",
    "    df_train$pending_listing_count,\n",
    "    start=c(year(df_train$month_date[0]) , month(df_train$month_date[1])),\n",
    "    frequency = 12\n",
    "    )\n",
    "p1 <- df_train_mlp %>% ggseasonplot()\n",
    "p2 <- df_train_alc %>% ggseasonplot()\n",
    "p3 <- df_train_nlc %>% ggseasonplot()\n",
    "p4 <- df_train_plc %>% ggseasonplot()\n",
    "grid.arrange(p1,p2,p3,p4,ncol=2)"
   ]
  },
  {
   "cell_type": "markdown",
   "metadata": {},
   "source": [
    "Fitting models and performing insample forecast (2023 Apr to 2024 Mar)"
   ]
  },
  {
   "cell_type": "code",
   "execution_count": 27,
   "metadata": {
    "vscode": {
     "languageId": "r"
    }
   },
   "outputs": [
    {
     "name": "stdout",
     "output_type": "stream",
     "text": [
      "[1] \"Report for Median Listing Price\"\n"
     ]
    },
    {
     "data": {
      "text/html": [
       "<table class=\"dataframe\">\n",
       "<caption>A tibble: 3 × 5</caption>\n",
       "<thead>\n",
       "\t<tr><th scope=col>.model</th><th scope=col>AIC</th><th scope=col>AICc</th><th scope=col>BIC</th><th scope=col>r_squared</th></tr>\n",
       "\t<tr><th scope=col>&lt;chr&gt;</th><th scope=col>&lt;dbl&gt;</th><th scope=col>&lt;dbl&gt;</th><th scope=col>&lt;dbl&gt;</th><th scope=col>&lt;dbl&gt;</th></tr>\n",
       "</thead>\n",
       "<tbody>\n",
       "\t<tr><td>stlm_s </td><td>1749.872</td><td>1755.305</td><td>1781.000</td><td>0.005471485</td></tr>\n",
       "\t<tr><td>stlm_t </td><td>1545.325</td><td>1545.636</td><td>1552.508</td><td>0.898108765</td></tr>\n",
       "\t<tr><td>stlm_st</td><td>1562.702</td><td>1569.066</td><td>1596.225</td><td>0.903760298</td></tr>\n",
       "</tbody>\n",
       "</table>\n"
      ],
      "text/latex": [
       "A tibble: 3 × 5\n",
       "\\begin{tabular}{lllll}\n",
       " .model & AIC & AICc & BIC & r\\_squared\\\\\n",
       " <chr> & <dbl> & <dbl> & <dbl> & <dbl>\\\\\n",
       "\\hline\n",
       "\t stlm\\_s  & 1749.872 & 1755.305 & 1781.000 & 0.005471485\\\\\n",
       "\t stlm\\_t  & 1545.325 & 1545.636 & 1552.508 & 0.898108765\\\\\n",
       "\t stlm\\_st & 1562.702 & 1569.066 & 1596.225 & 0.903760298\\\\\n",
       "\\end{tabular}\n"
      ],
      "text/markdown": [
       "\n",
       "A tibble: 3 × 5\n",
       "\n",
       "| .model &lt;chr&gt; | AIC &lt;dbl&gt; | AICc &lt;dbl&gt; | BIC &lt;dbl&gt; | r_squared &lt;dbl&gt; |\n",
       "|---|---|---|---|---|\n",
       "| stlm_s  | 1749.872 | 1755.305 | 1781.000 | 0.005471485 |\n",
       "| stlm_t  | 1545.325 | 1545.636 | 1552.508 | 0.898108765 |\n",
       "| stlm_st | 1562.702 | 1569.066 | 1596.225 | 0.903760298 |\n",
       "\n"
      ],
      "text/plain": [
       "  .model  AIC      AICc     BIC      r_squared  \n",
       "1 stlm_s  1749.872 1755.305 1781.000 0.005471485\n",
       "2 stlm_t  1545.325 1545.636 1552.508 0.898108765\n",
       "3 stlm_st 1562.702 1569.066 1596.225 0.903760298"
      ]
     },
     "metadata": {},
     "output_type": "display_data"
    },
    {
     "name": "stdout",
     "output_type": "stream",
     "text": [
      "[1] \"Report for Active Listing Count\"\n"
     ]
    },
    {
     "data": {
      "text/html": [
       "<table class=\"dataframe\">\n",
       "<caption>A tibble: 3 × 5</caption>\n",
       "<thead>\n",
       "\t<tr><th scope=col>.model</th><th scope=col>AIC</th><th scope=col>AICc</th><th scope=col>BIC</th><th scope=col>r_squared</th></tr>\n",
       "\t<tr><th scope=col>&lt;chr&gt;</th><th scope=col>&lt;dbl&gt;</th><th scope=col>&lt;dbl&gt;</th><th scope=col>&lt;dbl&gt;</th><th scope=col>&lt;dbl&gt;</th></tr>\n",
       "</thead>\n",
       "<tbody>\n",
       "\t<tr><td>stlm_s </td><td>2077.373</td><td>2082.806</td><td>2108.501</td><td>0.08318014</td></tr>\n",
       "\t<tr><td>stlm_t </td><td>1942.970</td><td>1943.282</td><td>1950.154</td><td>0.77669746</td></tr>\n",
       "\t<tr><td>stlm_st</td><td>1945.888</td><td>1952.252</td><td>1979.410</td><td>0.82356673</td></tr>\n",
       "</tbody>\n",
       "</table>\n"
      ],
      "text/latex": [
       "A tibble: 3 × 5\n",
       "\\begin{tabular}{lllll}\n",
       " .model & AIC & AICc & BIC & r\\_squared\\\\\n",
       " <chr> & <dbl> & <dbl> & <dbl> & <dbl>\\\\\n",
       "\\hline\n",
       "\t stlm\\_s  & 2077.373 & 2082.806 & 2108.501 & 0.08318014\\\\\n",
       "\t stlm\\_t  & 1942.970 & 1943.282 & 1950.154 & 0.77669746\\\\\n",
       "\t stlm\\_st & 1945.888 & 1952.252 & 1979.410 & 0.82356673\\\\\n",
       "\\end{tabular}\n"
      ],
      "text/markdown": [
       "\n",
       "A tibble: 3 × 5\n",
       "\n",
       "| .model &lt;chr&gt; | AIC &lt;dbl&gt; | AICc &lt;dbl&gt; | BIC &lt;dbl&gt; | r_squared &lt;dbl&gt; |\n",
       "|---|---|---|---|---|\n",
       "| stlm_s  | 2077.373 | 2082.806 | 2108.501 | 0.08318014 |\n",
       "| stlm_t  | 1942.970 | 1943.282 | 1950.154 | 0.77669746 |\n",
       "| stlm_st | 1945.888 | 1952.252 | 1979.410 | 0.82356673 |\n",
       "\n"
      ],
      "text/plain": [
       "  .model  AIC      AICc     BIC      r_squared \n",
       "1 stlm_s  2077.373 2082.806 2108.501 0.08318014\n",
       "2 stlm_t  1942.970 1943.282 1950.154 0.77669746\n",
       "3 stlm_st 1945.888 1952.252 1979.410 0.82356673"
      ]
     },
     "metadata": {},
     "output_type": "display_data"
    },
    {
     "name": "stdout",
     "output_type": "stream",
     "text": [
      "[1] \"Report for New Listing Count\"\n"
     ]
    },
    {
     "data": {
      "text/html": [
       "<table class=\"dataframe\">\n",
       "<caption>A tibble: 3 × 5</caption>\n",
       "<thead>\n",
       "\t<tr><th scope=col>.model</th><th scope=col>AIC</th><th scope=col>AICc</th><th scope=col>BIC</th><th scope=col>r_squared</th></tr>\n",
       "\t<tr><th scope=col>&lt;chr&gt;</th><th scope=col>&lt;dbl&gt;</th><th scope=col>&lt;dbl&gt;</th><th scope=col>&lt;dbl&gt;</th><th scope=col>&lt;dbl&gt;</th></tr>\n",
       "</thead>\n",
       "<tbody>\n",
       "\t<tr><td>stlm_s </td><td>1731.889</td><td>1737.322</td><td>1763.017</td><td>0.81218647</td></tr>\n",
       "\t<tr><td>stlm_t </td><td>1841.555</td><td>1841.867</td><td>1848.739</td><td>0.06899401</td></tr>\n",
       "\t<tr><td>stlm_st</td><td>1706.931</td><td>1713.294</td><td>1740.453</td><td>0.86535705</td></tr>\n",
       "</tbody>\n",
       "</table>\n"
      ],
      "text/latex": [
       "A tibble: 3 × 5\n",
       "\\begin{tabular}{lllll}\n",
       " .model & AIC & AICc & BIC & r\\_squared\\\\\n",
       " <chr> & <dbl> & <dbl> & <dbl> & <dbl>\\\\\n",
       "\\hline\n",
       "\t stlm\\_s  & 1731.889 & 1737.322 & 1763.017 & 0.81218647\\\\\n",
       "\t stlm\\_t  & 1841.555 & 1841.867 & 1848.739 & 0.06899401\\\\\n",
       "\t stlm\\_st & 1706.931 & 1713.294 & 1740.453 & 0.86535705\\\\\n",
       "\\end{tabular}\n"
      ],
      "text/markdown": [
       "\n",
       "A tibble: 3 × 5\n",
       "\n",
       "| .model &lt;chr&gt; | AIC &lt;dbl&gt; | AICc &lt;dbl&gt; | BIC &lt;dbl&gt; | r_squared &lt;dbl&gt; |\n",
       "|---|---|---|---|---|\n",
       "| stlm_s  | 1731.889 | 1737.322 | 1763.017 | 0.81218647 |\n",
       "| stlm_t  | 1841.555 | 1841.867 | 1848.739 | 0.06899401 |\n",
       "| stlm_st | 1706.931 | 1713.294 | 1740.453 | 0.86535705 |\n",
       "\n"
      ],
      "text/plain": [
       "  .model  AIC      AICc     BIC      r_squared \n",
       "1 stlm_s  1731.889 1737.322 1763.017 0.81218647\n",
       "2 stlm_t  1841.555 1841.867 1848.739 0.06899401\n",
       "3 stlm_st 1706.931 1713.294 1740.453 0.86535705"
      ]
     },
     "metadata": {},
     "output_type": "display_data"
    },
    {
     "name": "stdout",
     "output_type": "stream",
     "text": [
      "[1] \"Report for Pending Listing Count\"\n"
     ]
    },
    {
     "data": {
      "text/html": [
       "<table class=\"dataframe\">\n",
       "<caption>A tibble: 3 × 5</caption>\n",
       "<thead>\n",
       "\t<tr><th scope=col>.model</th><th scope=col>AIC</th><th scope=col>AICc</th><th scope=col>BIC</th><th scope=col>r_squared</th></tr>\n",
       "\t<tr><th scope=col>&lt;chr&gt;</th><th scope=col>&lt;dbl&gt;</th><th scope=col>&lt;dbl&gt;</th><th scope=col>&lt;dbl&gt;</th><th scope=col>&lt;dbl&gt;</th></tr>\n",
       "</thead>\n",
       "<tbody>\n",
       "\t<tr><td>stlm_s </td><td>1873.729</td><td>1879.162</td><td>1904.857</td><td>0.2598862</td></tr>\n",
       "\t<tr><td>stlm_t </td><td>1854.590</td><td>1854.901</td><td>1861.773</td><td>0.2519835</td></tr>\n",
       "\t<tr><td>stlm_st</td><td>1836.851</td><td>1843.215</td><td>1870.373</td><td>0.5420211</td></tr>\n",
       "</tbody>\n",
       "</table>\n"
      ],
      "text/latex": [
       "A tibble: 3 × 5\n",
       "\\begin{tabular}{lllll}\n",
       " .model & AIC & AICc & BIC & r\\_squared\\\\\n",
       " <chr> & <dbl> & <dbl> & <dbl> & <dbl>\\\\\n",
       "\\hline\n",
       "\t stlm\\_s  & 1873.729 & 1879.162 & 1904.857 & 0.2598862\\\\\n",
       "\t stlm\\_t  & 1854.590 & 1854.901 & 1861.773 & 0.2519835\\\\\n",
       "\t stlm\\_st & 1836.851 & 1843.215 & 1870.373 & 0.5420211\\\\\n",
       "\\end{tabular}\n"
      ],
      "text/markdown": [
       "\n",
       "A tibble: 3 × 5\n",
       "\n",
       "| .model &lt;chr&gt; | AIC &lt;dbl&gt; | AICc &lt;dbl&gt; | BIC &lt;dbl&gt; | r_squared &lt;dbl&gt; |\n",
       "|---|---|---|---|---|\n",
       "| stlm_s  | 1873.729 | 1879.162 | 1904.857 | 0.2598862 |\n",
       "| stlm_t  | 1854.590 | 1854.901 | 1861.773 | 0.2519835 |\n",
       "| stlm_st | 1836.851 | 1843.215 | 1870.373 | 0.5420211 |\n",
       "\n"
      ],
      "text/plain": [
       "  .model  AIC      AICc     BIC      r_squared\n",
       "1 stlm_s  1873.729 1879.162 1904.857 0.2598862\n",
       "2 stlm_t  1854.590 1854.901 1861.773 0.2519835\n",
       "3 stlm_st 1836.851 1843.215 1870.373 0.5420211"
      ]
     },
     "metadata": {},
     "output_type": "display_data"
    },
    {
     "data": {
      "image/png": "[encoded data removed]",
      "text/plain": [
       "plot without title"
      ]
     },
     "metadata": {
      "image/png": {
       "height": 420,
       "width": 420
      }
     },
     "output_type": "display_data"
    }
   ],
   "source": [
    "fit_mlp <- df_train %>% \n",
    "    model(\n",
    "        stlm_s = TSLM(median_listing_price ~ season()),\n",
    "        stlm_t = TSLM(median_listing_price ~ trend()),\n",
    "        stlm_st = TSLM(median_listing_price ~ season() + trend())\n",
    "    )\n",
    "print('Report for Median Listing Price')\n",
    "fit_mlp %>% report() %>%\n",
    "    select(.model, AIC, AICc, BIC, r_squared)\n",
    "frcst_mlp <- fit_mlp %>% forecast(h = 12)\n",
    "# frcst_mlp %>% head(2)\n",
    "\n",
    "fit_alc <- df_train %>% \n",
    "    model(\n",
    "        stlm_s = TSLM(active_listing_count ~ season()),\n",
    "        stlm_t = TSLM(active_listing_count ~ trend()),\n",
    "        stlm_st = TSLM(active_listing_count ~ season() + trend())\n",
    "    )\n",
    "print('Report for Active Listing Count')\n",
    "fit_alc %>% report() %>%\n",
    "    select(.model, AIC, AICc, BIC, r_squared)\n",
    "frcst_alc <- fit_alc %>% forecast(h = 12)\n",
    "# frcst_alc %>% head(2)\n",
    "\n",
    "\n",
    "fit_nlc <- df_train %>% \n",
    "    model(\n",
    "        stlm_s = TSLM(new_listing_count ~ season()),\n",
    "        stlm_t = TSLM(new_listing_count ~ trend()),\n",
    "        stlm_st = TSLM(new_listing_count ~ season() + trend())\n",
    "    )\n",
    "print('Report for New Listing Count')\n",
    "fit_nlc %>% report() %>%\n",
    "    select(.model, AIC, AICc, BIC, r_squared)\n",
    "frcst_nlc <- fit_nlc %>% forecast(h = 12)\n",
    "# frcst_nlc %>% head(2)\n",
    "\n",
    "fit_plc <- df_train %>% \n",
    "    model(\n",
    "        stlm_s = TSLM(pending_listing_count ~ season()),\n",
    "        stlm_t = TSLM(pending_listing_count ~ trend()),\n",
    "        stlm_st = TSLM(pending_listing_count ~ season() + trend())\n",
    "    )\n",
    "print('Report for Pending Listing Count')\n",
    "fit_plc %>% report() %>%\n",
    "    select(.model, AIC, AICc, BIC, r_squared)\n",
    "frcst_plc <- fit_plc %>% forecast(h = 12)\n",
    "# frcst_plc %>% head(2)\n",
    "\n",
    "p1 <- ggplot(data = df_train, aes(x = month_date)) +\n",
    "    geom_line(aes(y = median_listing_price))+\n",
    "    geom_line(data = df_test, aes(y = median_listing_price), color ='red') +\n",
    "    geom_line(data = frcst_mlp %>% filter(.model == 'stlm_s'), aes(y = .mean),color = 'blue') +\n",
    "    geom_line(data = frcst_mlp %>% filter(.model == 'stlm_t'), aes(y = .mean),color = 'green') +\n",
    "    geom_line(data = frcst_mlp %>% filter(.model == 'stlm_st'), aes(y = .mean),color = 'orange')+\n",
    "    geom_text(data = NULL,aes(x = Inf, y = Inf, label = 'Median Listing Price'),vjust = -1)\n",
    "\n",
    "\n",
    "p2 <- ggplot(data = df_train, aes(x = month_date)) +\n",
    "    geom_line(aes(y = active_listing_count))+\n",
    "    geom_line(data = df_test, aes(y = active_listing_count), color ='red') +\n",
    "    geom_line(data = frcst_alc %>% filter(.model == 'stlm_s'), aes(y = .mean),color = 'blue') +\n",
    "    geom_line(data = frcst_alc %>% filter(.model == 'stlm_t'), aes(y = .mean),color = 'green') +\n",
    "    geom_line(data = frcst_alc %>% filter(.model == 'stlm_st'), aes(y = .mean),color = 'orange') +\n",
    "    geom_text(data = NULL,aes(x = Inf, y = Inf,label = 'Active Listing Count'),vjust = -1)\n",
    "\n",
    "\n",
    "p3 <- ggplot(data = df_train, aes(x = month_date)) +\n",
    "    geom_line(aes(y = new_listing_count))+\n",
    "    geom_line(data = df_test, aes(y = new_listing_count), color ='red') +\n",
    "    geom_line(data = frcst_nlc %>% filter(.model == 'stlm_s'), aes(y = .mean),color = 'blue') +\n",
    "    geom_line(data = frcst_nlc %>% filter(.model == 'stlm_t'), aes(y = .mean),color = 'green') +\n",
    "    geom_line(data = frcst_nlc %>% filter(.model == 'stlm_st'), aes(y = .mean),color = 'orange') +\n",
    "    geom_text(data = NULL,aes(x = Inf, y = Inf,label = 'new Listing Count'),vjust = -1)\n",
    "\n",
    "p4 <- ggplot(data = df_train, aes(x = month_date)) +\n",
    "    geom_line(aes(y = pending_listing_count))+\n",
    "    geom_line(data = df_test, aes(y = pending_listing_count), color ='red') +\n",
    "    geom_line(data = frcst_plc %>% filter(.model == 'stlm_s'), aes(y = .mean),color = 'blue') +\n",
    "    geom_line(data = frcst_plc %>% filter(.model == 'stlm_t'), aes(y = .mean),color = 'green') +\n",
    "    geom_line(data = frcst_plc %>% filter(.model == 'stlm_st'), aes(y = .mean),color = 'orange') +\n",
    "    geom_text(data = NULL,aes(x = Inf, y = Inf,label = 'pending Listing Count'),vjust = -1)\n",
    "\n",
    "grid.arrange(p1,p2,p3,p4,ncol = 2)"
   ]
  },
  {
   "cell_type": "code",
   "execution_count": 28,
   "metadata": {
    "vscode": {
     "languageId": "r"
    }
   },
   "outputs": [
    {
     "data": {
      "text/html": [
       "<table class=\"dataframe\">\n",
       "<caption>A tbl_ts: 2 × 5</caption>\n",
       "<thead>\n",
       "\t<tr><th scope=col>month_date</th><th scope=col>median_listing_price</th><th scope=col>new_listing_count</th><th scope=col>active_listing_count</th><th scope=col>pending_listing_count</th></tr>\n",
       "\t<tr><th scope=col>&lt;mth&gt;</th><th scope=col>&lt;dbl&gt;</th><th scope=col>&lt;dbl&gt;</th><th scope=col>&lt;dbl&gt;</th><th scope=col>&lt;dbl&gt;</th></tr>\n",
       "</thead>\n",
       "<tbody>\n",
       "\t<tr><td>2023 Apr</td><td>311274.2</td><td>449580.5</td><td>354020.6</td><td>581547.7</td></tr>\n",
       "\t<tr><td>2023 May</td><td>315551.6</td><td>492576.0</td><td>392582.4</td><td>609867.4</td></tr>\n",
       "</tbody>\n",
       "</table>\n"
      ],
      "text/latex": [
       "A tbl\\_ts: 2 × 5\n",
       "\\begin{tabular}{lllll}\n",
       " month\\_date & median\\_listing\\_price & new\\_listing\\_count & active\\_listing\\_count & pending\\_listing\\_count\\\\\n",
       " <mth> & <dbl> & <dbl> & <dbl> & <dbl>\\\\\n",
       "\\hline\n",
       "\t 2023 Apr & 311274.2 & 449580.5 & 354020.6 & 581547.7\\\\\n",
       "\t 2023 May & 315551.6 & 492576.0 & 392582.4 & 609867.4\\\\\n",
       "\\end{tabular}\n"
      ],
      "text/markdown": [
       "\n",
       "A tbl_ts: 2 × 5\n",
       "\n",
       "| month_date &lt;mth&gt; | median_listing_price &lt;dbl&gt; | new_listing_count &lt;dbl&gt; | active_listing_count &lt;dbl&gt; | pending_listing_count &lt;dbl&gt; |\n",
       "|---|---|---|---|---|\n",
       "| 2023 Apr | 311274.2 | 449580.5 | 354020.6 | 581547.7 |\n",
       "| 2023 May | 315551.6 | 492576.0 | 392582.4 | 609867.4 |\n",
       "\n"
      ],
      "text/plain": [
       "  month_date median_listing_price new_listing_count active_listing_count\n",
       "1 2023 Apr   311274.2             449580.5          354020.6            \n",
       "2 2023 May   315551.6             492576.0          392582.4            \n",
       "  pending_listing_count\n",
       "1 581547.7             \n",
       "2 609867.4             "
      ]
     },
     "metadata": {},
     "output_type": "display_data"
    }
   ],
   "source": [
    "df_test$median_listing_price <- frcst_mlp %>%\n",
    "    filter(.model == 'stlm_st') %>%\n",
    "    mutate(median_listing_price_frcst = .mean) %>% as.data.frame() %>%\n",
    "    select(median_listing_price_frcst) %>% unlist()\n",
    "\n",
    "df_test$active_listing_count <- frcst_alc %>%\n",
    "    filter(.model == 'stlm_st') %>%\n",
    "    mutate(active_listing_count_frcst = .mean) %>% as.data.frame() %>%\n",
    "    select(active_listing_count_frcst) %>% unlist()\n",
    "\n",
    "df_test$new_listing_count <- frcst_nlc %>%\n",
    "    filter(.model == 'stlm_st') %>%\n",
    "    mutate(new_listing_count_frcst = .mean) %>% as.data.frame() %>%\n",
    "    select(new_listing_count_frcst) %>% unlist()\n",
    "\n",
    "df_test$pending_listing_count <- frcst_plc %>%\n",
    "    filter(.model == 'stlm_st') %>%\n",
    "    mutate(pending_listing_count_frcst = .mean) %>% as.data.frame() %>%\n",
    "    select(pending_listing_count_frcst) %>% unlist()\n",
    "df_test %>% head(2)"
   ]
  },
  {
   "cell_type": "code",
   "execution_count": 29,
   "metadata": {
    "vscode": {
     "languageId": "r"
    }
   },
   "outputs": [
    {
     "data": {
      "image/png": "[encoded data removed]",
      "text/plain": [
       "plot without title"
      ]
     },
     "metadata": {
      "image/png": {
       "height": 420,
       "width": 420
      }
     },
     "output_type": "display_data"
    }
   ],
   "source": [
    "combined_df <- bind_rows(df_train,df_test)\n",
    "p1 <- ggplot(data = combined_df,aes(x = month_date,y = median_listing_price))+\n",
    "geom_line()\n",
    "\n",
    "p2 <- ggplot(data = combined_df,aes(x = month_date,y = active_listing_count))+\n",
    "geom_line()\n",
    "\n",
    "p3 <- ggplot(data = combined_df,aes(x = month_date,y = new_listing_count))+\n",
    "geom_line()\n",
    "\n",
    "p4 <- ggplot(data = combined_df,aes(x = month_date,y = pending_listing_count))+\n",
    "geom_line()\n",
    "\n",
    "grid.arrange(p1,p2,p3,p4,ncol = 2)"
   ]
  },
  {
   "cell_type": "code",
   "execution_count": 30,
   "metadata": {
    "vscode": {
     "languageId": "r"
    }
   },
   "outputs": [],
   "source": [
    "df_train <- combined_df"
   ]
  },
  {
   "cell_type": "markdown",
   "metadata": {},
   "source": [
    "Performing out of sample forecast using train + insample forecasted data"
   ]
  },
  {
   "cell_type": "code",
   "execution_count": 31,
   "metadata": {
    "vscode": {
     "languageId": "r"
    }
   },
   "outputs": [
    {
     "name": "stdout",
     "output_type": "stream",
     "text": [
      "[1] \"Median Listing Price\"\n"
     ]
    },
    {
     "data": {
      "text/html": [
       "<table class=\"dataframe\">\n",
       "<caption>A tibble: 3 × 5</caption>\n",
       "<thead>\n",
       "\t<tr><th scope=col>.model</th><th scope=col>AIC</th><th scope=col>AICc</th><th scope=col>BIC</th><th scope=col>r_squared</th></tr>\n",
       "\t<tr><th scope=col>&lt;chr&gt;</th><th scope=col>&lt;dbl&gt;</th><th scope=col>&lt;dbl&gt;</th><th scope=col>&lt;dbl&gt;</th><th scope=col>&lt;dbl&gt;</th></tr>\n",
       "</thead>\n",
       "<tbody>\n",
       "\t<tr><td>stlm_s </td><td>2028.064</td><td>2032.671</td><td>2060.988</td><td>0.004290953</td></tr>\n",
       "\t<tr><td>stlm_t </td><td>1761.281</td><td>1761.551</td><td>1768.879</td><td>0.929903177</td></tr>\n",
       "\t<tr><td>stlm_st</td><td>1777.218</td><td>1782.602</td><td>1812.674</td><td>0.934327491</td></tr>\n",
       "</tbody>\n",
       "</table>\n"
      ],
      "text/latex": [
       "A tibble: 3 × 5\n",
       "\\begin{tabular}{lllll}\n",
       " .model & AIC & AICc & BIC & r\\_squared\\\\\n",
       " <chr> & <dbl> & <dbl> & <dbl> & <dbl>\\\\\n",
       "\\hline\n",
       "\t stlm\\_s  & 2028.064 & 2032.671 & 2060.988 & 0.004290953\\\\\n",
       "\t stlm\\_t  & 1761.281 & 1761.551 & 1768.879 & 0.929903177\\\\\n",
       "\t stlm\\_st & 1777.218 & 1782.602 & 1812.674 & 0.934327491\\\\\n",
       "\\end{tabular}\n"
      ],
      "text/markdown": [
       "\n",
       "A tibble: 3 × 5\n",
       "\n",
       "| .model &lt;chr&gt; | AIC &lt;dbl&gt; | AICc &lt;dbl&gt; | BIC &lt;dbl&gt; | r_squared &lt;dbl&gt; |\n",
       "|---|---|---|---|---|\n",
       "| stlm_s  | 2028.064 | 2032.671 | 2060.988 | 0.004290953 |\n",
       "| stlm_t  | 1761.281 | 1761.551 | 1768.879 | 0.929903177 |\n",
       "| stlm_st | 1777.218 | 1782.602 | 1812.674 | 0.934327491 |\n",
       "\n"
      ],
      "text/plain": [
       "  .model  AIC      AICc     BIC      r_squared  \n",
       "1 stlm_s  2028.064 2032.671 2060.988 0.004290953\n",
       "2 stlm_t  1761.281 1761.551 1768.879 0.929903177\n",
       "3 stlm_st 1777.218 1782.602 1812.674 0.934327491"
      ]
     },
     "metadata": {},
     "output_type": "display_data"
    },
    {
     "name": "stdout",
     "output_type": "stream",
     "text": [
      "[1] \"Active Listing Count\"\n"
     ]
    },
    {
     "data": {
      "text/html": [
       "<table class=\"dataframe\">\n",
       "<caption>A tibble: 3 × 5</caption>\n",
       "<thead>\n",
       "\t<tr><th scope=col>.model</th><th scope=col>AIC</th><th scope=col>AICc</th><th scope=col>BIC</th><th scope=col>r_squared</th></tr>\n",
       "\t<tr><th scope=col>&lt;chr&gt;</th><th scope=col>&lt;dbl&gt;</th><th scope=col>&lt;dbl&gt;</th><th scope=col>&lt;dbl&gt;</th><th scope=col>&lt;dbl&gt;</th></tr>\n",
       "</thead>\n",
       "<tbody>\n",
       "\t<tr><td>stlm_s </td><td>2400.893</td><td>2405.501</td><td>2433.817</td><td>0.06821617</td></tr>\n",
       "\t<tr><td>stlm_t </td><td>2219.912</td><td>2220.182</td><td>2227.510</td><td>0.83497063</td></tr>\n",
       "\t<tr><td>stlm_st</td><td>2217.172</td><td>2222.556</td><td>2252.628</td><td>0.87351870</td></tr>\n",
       "</tbody>\n",
       "</table>\n"
      ],
      "text/latex": [
       "A tibble: 3 × 5\n",
       "\\begin{tabular}{lllll}\n",
       " .model & AIC & AICc & BIC & r\\_squared\\\\\n",
       " <chr> & <dbl> & <dbl> & <dbl> & <dbl>\\\\\n",
       "\\hline\n",
       "\t stlm\\_s  & 2400.893 & 2405.501 & 2433.817 & 0.06821617\\\\\n",
       "\t stlm\\_t  & 2219.912 & 2220.182 & 2227.510 & 0.83497063\\\\\n",
       "\t stlm\\_st & 2217.172 & 2222.556 & 2252.628 & 0.87351870\\\\\n",
       "\\end{tabular}\n"
      ],
      "text/markdown": [
       "\n",
       "A tibble: 3 × 5\n",
       "\n",
       "| .model &lt;chr&gt; | AIC &lt;dbl&gt; | AICc &lt;dbl&gt; | BIC &lt;dbl&gt; | r_squared &lt;dbl&gt; |\n",
       "|---|---|---|---|---|\n",
       "| stlm_s  | 2400.893 | 2405.501 | 2433.817 | 0.06821617 |\n",
       "| stlm_t  | 2219.912 | 2220.182 | 2227.510 | 0.83497063 |\n",
       "| stlm_st | 2217.172 | 2222.556 | 2252.628 | 0.87351870 |\n",
       "\n"
      ],
      "text/plain": [
       "  .model  AIC      AICc     BIC      r_squared \n",
       "1 stlm_s  2400.893 2405.501 2433.817 0.06821617\n",
       "2 stlm_t  2219.912 2220.182 2227.510 0.83497063\n",
       "3 stlm_st 2217.172 2222.556 2252.628 0.87351870"
      ]
     },
     "metadata": {},
     "output_type": "display_data"
    },
    {
     "name": "stdout",
     "output_type": "stream",
     "text": [
      "[1] \"New Listing Count\"\n"
     ]
    },
    {
     "data": {
      "text/html": [
       "<table class=\"dataframe\">\n",
       "<caption>A tibble: 3 × 5</caption>\n",
       "<thead>\n",
       "\t<tr><th scope=col>.model</th><th scope=col>AIC</th><th scope=col>AICc</th><th scope=col>BIC</th><th scope=col>r_squared</th></tr>\n",
       "\t<tr><th scope=col>&lt;chr&gt;</th><th scope=col>&lt;dbl&gt;</th><th scope=col>&lt;dbl&gt;</th><th scope=col>&lt;dbl&gt;</th><th scope=col>&lt;dbl&gt;</th></tr>\n",
       "</thead>\n",
       "<tbody>\n",
       "\t<tr><td>stlm_s </td><td>1984.475</td><td>1989.082</td><td>2017.398</td><td>0.81261364</td></tr>\n",
       "\t<tr><td>stlm_t </td><td>2111.879</td><td>2112.148</td><td>2119.477</td><td>0.08569621</td></tr>\n",
       "\t<tr><td>stlm_st</td><td>1942.813</td><td>1948.198</td><td>1978.270</td><td>0.88282197</td></tr>\n",
       "</tbody>\n",
       "</table>\n"
      ],
      "text/latex": [
       "A tibble: 3 × 5\n",
       "\\begin{tabular}{lllll}\n",
       " .model & AIC & AICc & BIC & r\\_squared\\\\\n",
       " <chr> & <dbl> & <dbl> & <dbl> & <dbl>\\\\\n",
       "\\hline\n",
       "\t stlm\\_s  & 1984.475 & 1989.082 & 2017.398 & 0.81261364\\\\\n",
       "\t stlm\\_t  & 2111.879 & 2112.148 & 2119.477 & 0.08569621\\\\\n",
       "\t stlm\\_st & 1942.813 & 1948.198 & 1978.270 & 0.88282197\\\\\n",
       "\\end{tabular}\n"
      ],
      "text/markdown": [
       "\n",
       "A tibble: 3 × 5\n",
       "\n",
       "| .model &lt;chr&gt; | AIC &lt;dbl&gt; | AICc &lt;dbl&gt; | BIC &lt;dbl&gt; | r_squared &lt;dbl&gt; |\n",
       "|---|---|---|---|---|\n",
       "| stlm_s  | 1984.475 | 1989.082 | 2017.398 | 0.81261364 |\n",
       "| stlm_t  | 2111.879 | 2112.148 | 2119.477 | 0.08569621 |\n",
       "| stlm_st | 1942.813 | 1948.198 | 1978.270 | 0.88282197 |\n",
       "\n"
      ],
      "text/plain": [
       "  .model  AIC      AICc     BIC      r_squared \n",
       "1 stlm_s  1984.475 1989.082 2017.398 0.81261364\n",
       "2 stlm_t  2111.879 2112.148 2119.477 0.08569621\n",
       "3 stlm_st 1942.813 1948.198 1978.270 0.88282197"
      ]
     },
     "metadata": {},
     "output_type": "display_data"
    },
    {
     "name": "stdout",
     "output_type": "stream",
     "text": [
      "[1] \"Pending Listing Count\"\n"
     ]
    },
    {
     "data": {
      "text/html": [
       "<table class=\"dataframe\">\n",
       "<caption>A tibble: 3 × 5</caption>\n",
       "<thead>\n",
       "\t<tr><th scope=col>.model</th><th scope=col>AIC</th><th scope=col>AICc</th><th scope=col>BIC</th><th scope=col>r_squared</th></tr>\n",
       "\t<tr><th scope=col>&lt;chr&gt;</th><th scope=col>&lt;dbl&gt;</th><th scope=col>&lt;dbl&gt;</th><th scope=col>&lt;dbl&gt;</th><th scope=col>&lt;dbl&gt;</th></tr>\n",
       "</thead>\n",
       "<tbody>\n",
       "\t<tr><td>stlm_s </td><td>2151.356</td><td>2155.963</td><td>2184.280</td><td>0.2521218</td></tr>\n",
       "\t<tr><td>stlm_t </td><td>2120.849</td><td>2121.119</td><td>2128.447</td><td>0.3320157</td></tr>\n",
       "\t<tr><td>stlm_st</td><td>2091.981</td><td>2097.366</td><td>2127.437</td><td>0.6134370</td></tr>\n",
       "</tbody>\n",
       "</table>\n"
      ],
      "text/latex": [
       "A tibble: 3 × 5\n",
       "\\begin{tabular}{lllll}\n",
       " .model & AIC & AICc & BIC & r\\_squared\\\\\n",
       " <chr> & <dbl> & <dbl> & <dbl> & <dbl>\\\\\n",
       "\\hline\n",
       "\t stlm\\_s  & 2151.356 & 2155.963 & 2184.280 & 0.2521218\\\\\n",
       "\t stlm\\_t  & 2120.849 & 2121.119 & 2128.447 & 0.3320157\\\\\n",
       "\t stlm\\_st & 2091.981 & 2097.366 & 2127.437 & 0.6134370\\\\\n",
       "\\end{tabular}\n"
      ],
      "text/markdown": [
       "\n",
       "A tibble: 3 × 5\n",
       "\n",
       "| .model &lt;chr&gt; | AIC &lt;dbl&gt; | AICc &lt;dbl&gt; | BIC &lt;dbl&gt; | r_squared &lt;dbl&gt; |\n",
       "|---|---|---|---|---|\n",
       "| stlm_s  | 2151.356 | 2155.963 | 2184.280 | 0.2521218 |\n",
       "| stlm_t  | 2120.849 | 2121.119 | 2128.447 | 0.3320157 |\n",
       "| stlm_st | 2091.981 | 2097.366 | 2127.437 | 0.6134370 |\n",
       "\n"
      ],
      "text/plain": [
       "  .model  AIC      AICc     BIC      r_squared\n",
       "1 stlm_s  2151.356 2155.963 2184.280 0.2521218\n",
       "2 stlm_t  2120.849 2121.119 2128.447 0.3320157\n",
       "3 stlm_st 2091.981 2097.366 2127.437 0.6134370"
      ]
     },
     "metadata": {},
     "output_type": "display_data"
    },
    {
     "data": {
      "image/png": "[encoded data removed]",
      "text/plain": [
       "plot without title"
      ]
     },
     "metadata": {
      "image/png": {
       "height": 420,
       "width": 420
      }
     },
     "output_type": "display_data"
    }
   ],
   "source": [
    "fit_mlp <- df_train %>% \n",
    "    model(\n",
    "        stlm_s = TSLM(median_listing_price ~ season()),\n",
    "        stlm_t = TSLM(median_listing_price ~ trend()),\n",
    "        stlm_st = TSLM(median_listing_price ~ season() + trend())\n",
    "    )\n",
    "\n",
    "print('Median Listing Price')\n",
    "fit_mlp %>% report() %>%\n",
    "    select(.model, AIC, AICc, BIC, r_squared)\n",
    "frcst_mlp <- fit_mlp %>% forecast(h = 12)\n",
    "# frcst_mlp %>% head(2)\n",
    "\n",
    "fit_alc <- df_train %>% \n",
    "    model(\n",
    "        stlm_s = TSLM(active_listing_count ~ season()),\n",
    "        stlm_t = TSLM(active_listing_count ~ trend()),\n",
    "        stlm_st = TSLM(active_listing_count ~ season() + trend())\n",
    "    )\n",
    "print('Active Listing Count')\n",
    "fit_alc %>% report() %>%\n",
    "    select(.model, AIC, AICc, BIC, r_squared)\n",
    "frcst_alc <- fit_alc %>% forecast(h = 12)\n",
    "# frcst_alc %>% head(2)\n",
    "\n",
    "\n",
    "fit_nlc <- df_train %>% \n",
    "    model(\n",
    "        stlm_s = TSLM(new_listing_count ~ season()),\n",
    "        stlm_t = TSLM(new_listing_count ~ trend()),\n",
    "        stlm_st = TSLM(new_listing_count ~ season() + trend())\n",
    "    )\n",
    "print('New Listing Count')\n",
    "fit_nlc %>% report() %>%\n",
    "    select(.model, AIC, AICc, BIC, r_squared)\n",
    "frcst_nlc <- fit_nlc %>% forecast(h = 12)\n",
    "# frcst_nlc %>% head(2)\n",
    "\n",
    "fit_plc <- df_train %>% \n",
    "    model(\n",
    "        stlm_s = TSLM(pending_listing_count ~ season()),\n",
    "        stlm_t = TSLM(pending_listing_count ~ trend()),\n",
    "        stlm_st = TSLM(pending_listing_count ~ season() + trend())\n",
    "    )\n",
    "print('Pending Listing Count')\n",
    "fit_plc %>% report() %>%\n",
    "    select(.model, AIC, AICc, BIC, r_squared)\n",
    "frcst_plc <- fit_plc %>% forecast(h = 12)\n",
    "# frcst_plc %>% head(2)\n",
    "\n",
    "p1 <- ggplot(data = df_train, aes(x = month_date)) +\n",
    "        geom_line(aes(y = median_listing_price))+\n",
    "        geom_line(data = df_test, aes(y = median_listing_price), color ='red') +\n",
    "        geom_line(data = frcst_mlp %>% filter(.model == 'stlm_s'), aes(y = .mean),color = 'blue') +\n",
    "        geom_line(data = frcst_mlp %>% filter(.model == 'stlm_t'), aes(y = .mean),color = 'green') +\n",
    "        geom_line(data = frcst_mlp %>% filter(.model == 'stlm_st'), aes(y = .mean),color = 'orange')+\n",
    "        geom_text(data = NULL,aes(x = Inf, y = Inf, label = 'Median Listing Price'),vjust = -1)\n",
    "\n",
    "\n",
    "p2 <- ggplot(data = df_train, aes(x = month_date)) +\n",
    "    geom_line(aes(y = active_listing_count))+\n",
    "    geom_line(data = df_test, aes(y = active_listing_count), color ='red') +\n",
    "    geom_line(data = frcst_alc %>% filter(.model == 'stlm_s'), aes(y = .mean),color = 'blue') +\n",
    "    geom_line(data = frcst_alc %>% filter(.model == 'stlm_t'), aes(y = .mean),color = 'green') +\n",
    "    geom_line(data = frcst_alc %>% filter(.model == 'stlm_st'), aes(y = .mean),color = 'orange') +\n",
    "    geom_text(data = NULL,aes(x = Inf, y = Inf,label = 'Active Listing Count'),vjust = -1)\n",
    "\n",
    "\n",
    "p3 <- ggplot(data = df_train, aes(x = month_date)) +\n",
    "    geom_line(aes(y = new_listing_count))+\n",
    "    geom_line(data = df_test, aes(y = new_listing_count), color ='red') +\n",
    "    geom_line(data = frcst_nlc %>% filter(.model == 'stlm_s'), aes(y = .mean),color = 'blue') +\n",
    "    geom_line(data = frcst_nlc %>% filter(.model == 'stlm_t'), aes(y = .mean),color = 'green') +\n",
    "    geom_line(data = frcst_nlc %>% filter(.model == 'stlm_st'), aes(y = .mean),color = 'orange') +\n",
    "    geom_text(data = NULL,aes(x = Inf, y = Inf,label = 'new Listing Count'),vjust = -1)\n",
    "\n",
    "p4 <- ggplot(data = df_train, aes(x = month_date)) +\n",
    "    geom_line(aes(y = pending_listing_count))+\n",
    "    geom_line(data = df_test, aes(y = pending_listing_count), color ='red') +\n",
    "    geom_line(data = frcst_plc %>% filter(.model == 'stlm_s'), aes(y = .mean),color = 'blue') +\n",
    "    geom_line(data = frcst_plc %>% filter(.model == 'stlm_t'), aes(y = .mean),color = 'green') +\n",
    "    geom_line(data = frcst_plc %>% filter(.model == 'stlm_st'), aes(y = .mean),color = 'orange') +\n",
    "    geom_text(data = NULL,aes(x = Inf, y = Inf,label = 'pending Listing Count'),vjust = -1)\n",
    "\n",
    "grid.arrange(p1,p2,p3,p4,ncol = 2)"
   ]
  },
  {
   "cell_type": "markdown",
   "metadata": {},
   "source": [
    "Based on the metrics TSLM ~ season() + trend() seems to be working well."
   ]
  },
  {
   "cell_type": "code",
   "execution_count": 32,
   "metadata": {
    "vscode": {
     "languageId": "r"
    }
   },
   "outputs": [
    {
     "data": {
      "image/png": "[encoded data removed]",
      "text/plain": [
       "plot without title"
      ]
     },
     "metadata": {
      "image/png": {
       "height": 420,
       "width": 420
      }
     },
     "output_type": "display_data"
    }
   ],
   "source": [
    "\n",
    "p1 <- ggplot(data = df_train, aes(x = month_date)) +\n",
    "    geom_line(aes(y = median_listing_price))+\n",
    "    geom_line(data = frcst_mlp %>% filter(.model == 'stlm_st'), aes(y = .mean),color = 'orange')+\n",
    "    geom_text(data = NULL,aes(x = Inf, y = Inf, label = 'Median Listing Price'),vjust = -1)\n",
    "\n",
    "\n",
    "p2 <- ggplot(data = df_train, aes(x = month_date)) +\n",
    "    geom_line(aes(y = active_listing_count))+\n",
    "    geom_line(data = frcst_alc %>% filter(.model == 'stlm_st'), aes(y = .mean),color = 'orange') +\n",
    "    geom_text(data = NULL,aes(x = Inf, y = Inf,label = 'Active Listing Count'),vjust = -1)\n",
    "\n",
    "\n",
    "p3 <- ggplot(data = df_train, aes(x = month_date)) +\n",
    "    geom_line(aes(y = new_listing_count))+\n",
    "    geom_line(data = frcst_nlc %>% filter(.model == 'stlm_st'), aes(y = .mean),color = 'orange') +\n",
    "    geom_text(data = NULL,aes(x = Inf, y = Inf,label = 'new Listing Count'),vjust = -1)\n",
    "\n",
    "p4 <- ggplot(data = df_train, aes(x = month_date)) +\n",
    "    geom_line(aes(y = pending_listing_count))+\n",
    "    geom_line(data = frcst_plc %>% filter(.model == 'stlm_st'), aes(y = .mean),color = 'orange') +\n",
    "    geom_text(data = NULL,aes(x = Inf, y = Inf,label = 'pending Listing Count'),vjust = -1)\n",
    "\n",
    "grid.arrange(p1,p2,p3,p4,ncol = 2)"
   ]
  },
  {
   "cell_type": "markdown",
   "metadata": {},
   "source": [
    "Verifying if we have any negative forecast. Used Logarithmic and sqrt transformations to avoid the negative forecat"
   ]
  },
  {
   "cell_type": "code",
   "execution_count": 33,
   "metadata": {
    "vscode": {
     "languageId": "r"
    }
   },
   "outputs": [
    {
     "data": {
      "text/html": [
       "<style>\n",
       ".list-inline {list-style: none; margin:0; padding: 0}\n",
       ".list-inline>li {display: inline-block}\n",
       ".list-inline>li:not(:last-child)::after {content: \"\\00b7\"; padding: 0 .5ex}\n",
       "</style>\n",
       "<ol class=list-inline><li>0</li><li>4</li></ol>\n"
      ],
      "text/latex": [
       "\\begin{enumerate*}\n",
       "\\item 0\n",
       "\\item 4\n",
       "\\end{enumerate*}\n"
      ],
      "text/markdown": [
       "1. 0\n",
       "2. 4\n",
       "\n",
       "\n"
      ],
      "text/plain": [
       "[1] 0 4"
      ]
     },
     "metadata": {},
     "output_type": "display_data"
    },
    {
     "data": {
      "text/html": [
       "<style>\n",
       ".list-inline {list-style: none; margin:0; padding: 0}\n",
       ".list-inline>li {display: inline-block}\n",
       ".list-inline>li:not(:last-child)::after {content: \"\\00b7\"; padding: 0 .5ex}\n",
       "</style>\n",
       "<ol class=list-inline><li>0</li><li>4</li></ol>\n"
      ],
      "text/latex": [
       "\\begin{enumerate*}\n",
       "\\item 0\n",
       "\\item 4\n",
       "\\end{enumerate*}\n"
      ],
      "text/markdown": [
       "1. 0\n",
       "2. 4\n",
       "\n",
       "\n"
      ],
      "text/plain": [
       "[1] 0 4"
      ]
     },
     "metadata": {},
     "output_type": "display_data"
    },
    {
     "data": {
      "text/html": [
       "<style>\n",
       ".list-inline {list-style: none; margin:0; padding: 0}\n",
       ".list-inline>li {display: inline-block}\n",
       ".list-inline>li:not(:last-child)::after {content: \"\\00b7\"; padding: 0 .5ex}\n",
       "</style>\n",
       "<ol class=list-inline><li>0</li><li>4</li></ol>\n"
      ],
      "text/latex": [
       "\\begin{enumerate*}\n",
       "\\item 0\n",
       "\\item 4\n",
       "\\end{enumerate*}\n"
      ],
      "text/markdown": [
       "1. 0\n",
       "2. 4\n",
       "\n",
       "\n"
      ],
      "text/plain": [
       "[1] 0 4"
      ]
     },
     "metadata": {},
     "output_type": "display_data"
    },
    {
     "data": {
      "text/html": [
       "<style>\n",
       ".list-inline {list-style: none; margin:0; padding: 0}\n",
       ".list-inline>li {display: inline-block}\n",
       ".list-inline>li:not(:last-child)::after {content: \"\\00b7\"; padding: 0 .5ex}\n",
       "</style>\n",
       "<ol class=list-inline><li>0</li><li>4</li></ol>\n"
      ],
      "text/latex": [
       "\\begin{enumerate*}\n",
       "\\item 0\n",
       "\\item 4\n",
       "\\end{enumerate*}\n"
      ],
      "text/markdown": [
       "1. 0\n",
       "2. 4\n",
       "\n",
       "\n"
      ],
      "text/plain": [
       "[1] 0 4"
      ]
     },
     "metadata": {},
     "output_type": "display_data"
    }
   ],
   "source": [
    "frcst_mlp %>% filter(.model == 'stlm_st') %>% filter(.mean <= 0) %>% dim()\n",
    "frcst_alc %>% filter(.model == 'stlm_st') %>% filter(.mean <= 0) %>% dim()\n",
    "frcst_nlc %>% filter(.model == 'stlm_st') %>% filter(.mean <= 0) %>% dim()\n",
    "frcst_plc %>% filter(.model == 'stlm_st') %>% filter(.mean <= 0) %>% dim()"
   ]
  },
  {
   "cell_type": "markdown",
   "metadata": {},
   "source": [
    "Working on state aggregate"
   ]
  },
  {
   "cell_type": "code",
   "execution_count": 34,
   "metadata": {
    "vscode": {
     "languageId": "r"
    }
   },
   "outputs": [
    {
     "data": {
      "text/html": [
       "<style>\n",
       ".list-inline {list-style: none; margin:0; padding: 0}\n",
       ".list-inline>li {display: inline-block}\n",
       ".list-inline>li:not(:last-child)::after {content: \"\\00b7\"; padding: 0 .5ex}\n",
       "</style>\n",
       "<ol class=list-inline><li>0</li><li>2</li></ol>\n"
      ],
      "text/latex": [
       "\\begin{enumerate*}\n",
       "\\item 0\n",
       "\\item 2\n",
       "\\end{enumerate*}\n"
      ],
      "text/markdown": [
       "1. 0\n",
       "2. 2\n",
       "\n",
       "\n"
      ],
      "text/plain": [
       "[1] 0 2"
      ]
     },
     "metadata": {},
     "output_type": "display_data"
    },
    {
     "data": {
      "text/html": [
       "<table class=\"dataframe\">\n",
       "<caption>A tbl_ts: 6 × 3</caption>\n",
       "<thead>\n",
       "\t<tr><th scope=col>state</th><th scope=col>month_date</th><th scope=col>active_listing_count</th></tr>\n",
       "\t<tr><th scope=col>&lt;chr&gt;</th><th scope=col>&lt;mth&gt;</th><th scope=col>&lt;dbl&gt;</th></tr>\n",
       "</thead>\n",
       "<tbody>\n",
       "\t<tr><td>de</td><td>2016 Jul</td><td>7010</td></tr>\n",
       "\t<tr><td>de</td><td>2016 Aug</td><td>6972</td></tr>\n",
       "\t<tr><td>de</td><td>2016 Sep</td><td>6943</td></tr>\n",
       "\t<tr><td>de</td><td>2016 Oct</td><td>6911</td></tr>\n",
       "\t<tr><td>de</td><td>2016 Nov</td><td>6680</td></tr>\n",
       "\t<tr><td>de</td><td>2016 Dec</td><td>6177</td></tr>\n",
       "</tbody>\n",
       "</table>\n"
      ],
      "text/latex": [
       "A tbl\\_ts: 6 × 3\n",
       "\\begin{tabular}{lll}\n",
       " state & month\\_date & active\\_listing\\_count\\\\\n",
       " <chr> & <mth> & <dbl>\\\\\n",
       "\\hline\n",
       "\t de & 2016 Jul & 7010\\\\\n",
       "\t de & 2016 Aug & 6972\\\\\n",
       "\t de & 2016 Sep & 6943\\\\\n",
       "\t de & 2016 Oct & 6911\\\\\n",
       "\t de & 2016 Nov & 6680\\\\\n",
       "\t de & 2016 Dec & 6177\\\\\n",
       "\\end{tabular}\n"
      ],
      "text/markdown": [
       "\n",
       "A tbl_ts: 6 × 3\n",
       "\n",
       "| state &lt;chr&gt; | month_date &lt;mth&gt; | active_listing_count &lt;dbl&gt; |\n",
       "|---|---|---|\n",
       "| de | 2016 Jul | 7010 |\n",
       "| de | 2016 Aug | 6972 |\n",
       "| de | 2016 Sep | 6943 |\n",
       "| de | 2016 Oct | 6911 |\n",
       "| de | 2016 Nov | 6680 |\n",
       "| de | 2016 Dec | 6177 |\n",
       "\n"
      ],
      "text/plain": [
       "  state month_date active_listing_count\n",
       "1 de    2016 Jul   7010                \n",
       "2 de    2016 Aug   6972                \n",
       "3 de    2016 Sep   6943                \n",
       "4 de    2016 Oct   6911                \n",
       "5 de    2016 Nov   6680                \n",
       "6 de    2016 Dec   6177                "
      ]
     },
     "metadata": {},
     "output_type": "display_data"
    }
   ],
   "source": [
    "state_df <- read.csv('./data/state_wise_aggregate.csv')\n",
    "state_df <- state_df %>% mutate(month_date = yearmonth(as.character(month_date),format = '%Y %m'))\n",
    "state_df <- state_df %>% filter(state %in% c('md','va','pa','de','nj')) %>% select(state,month_date,active_listing_count)\n",
    "state_df_ts <- state_df %>% as_tsibble(index=month_date, key = state)\n",
    "state_df_ts %>% has_gaps() %>% filter(.gaps==TRUE) %>% dim()\n",
    "state_df_ts %>% head()"
   ]
  },
  {
   "cell_type": "markdown",
   "metadata": {},
   "source": [
    "Splitting train vs test data (insample forecast - 2023 Apr to 2024 Mar)"
   ]
  },
  {
   "cell_type": "code",
   "execution_count": 35,
   "metadata": {
    "vscode": {
     "languageId": "r"
    }
   },
   "outputs": [
    {
     "name": "stdout",
     "output_type": "stream",
     "text": [
      "[1] \"Active Listing Count MD\"\n"
     ]
    },
    {
     "data": {
      "text/html": [
       "<table class=\"dataframe\">\n",
       "<caption>A tibble: 3 × 5</caption>\n",
       "<thead>\n",
       "\t<tr><th scope=col>.model</th><th scope=col>AIC</th><th scope=col>AICc</th><th scope=col>BIC</th><th scope=col>r_squared</th></tr>\n",
       "\t<tr><th scope=col>&lt;chr&gt;</th><th scope=col>&lt;dbl&gt;</th><th scope=col>&lt;dbl&gt;</th><th scope=col>&lt;dbl&gt;</th><th scope=col>&lt;dbl&gt;</th></tr>\n",
       "</thead>\n",
       "<tbody>\n",
       "\t<tr><td>stlm_s </td><td>1447.915</td><td>1453.348</td><td>1479.043</td><td>0.09030789</td></tr>\n",
       "\t<tr><td>stlm_t </td><td>1294.966</td><td>1295.278</td><td>1302.149</td><td>0.82377615</td></tr>\n",
       "\t<tr><td>stlm_st</td><td>1289.179</td><td>1295.543</td><td>1322.701</td><td>0.87495075</td></tr>\n",
       "</tbody>\n",
       "</table>\n"
      ],
      "text/latex": [
       "A tibble: 3 × 5\n",
       "\\begin{tabular}{lllll}\n",
       " .model & AIC & AICc & BIC & r\\_squared\\\\\n",
       " <chr> & <dbl> & <dbl> & <dbl> & <dbl>\\\\\n",
       "\\hline\n",
       "\t stlm\\_s  & 1447.915 & 1453.348 & 1479.043 & 0.09030789\\\\\n",
       "\t stlm\\_t  & 1294.966 & 1295.278 & 1302.149 & 0.82377615\\\\\n",
       "\t stlm\\_st & 1289.179 & 1295.543 & 1322.701 & 0.87495075\\\\\n",
       "\\end{tabular}\n"
      ],
      "text/markdown": [
       "\n",
       "A tibble: 3 × 5\n",
       "\n",
       "| .model &lt;chr&gt; | AIC &lt;dbl&gt; | AICc &lt;dbl&gt; | BIC &lt;dbl&gt; | r_squared &lt;dbl&gt; |\n",
       "|---|---|---|---|---|\n",
       "| stlm_s  | 1447.915 | 1453.348 | 1479.043 | 0.09030789 |\n",
       "| stlm_t  | 1294.966 | 1295.278 | 1302.149 | 0.82377615 |\n",
       "| stlm_st | 1289.179 | 1295.543 | 1322.701 | 0.87495075 |\n",
       "\n"
      ],
      "text/plain": [
       "  .model  AIC      AICc     BIC      r_squared \n",
       "1 stlm_s  1447.915 1453.348 1479.043 0.09030789\n",
       "2 stlm_t  1294.966 1295.278 1302.149 0.82377615\n",
       "3 stlm_st 1289.179 1295.543 1322.701 0.87495075"
      ]
     },
     "metadata": {},
     "output_type": "display_data"
    },
    {
     "data": {
      "text/html": [
       "<table class=\"dataframe\">\n",
       "<caption>A fbl_ts: 2 × 5</caption>\n",
       "<thead>\n",
       "\t<tr><th scope=col>state</th><th scope=col>.model</th><th scope=col>month_date</th><th scope=col>active_listing_count</th><th scope=col>.mean</th></tr>\n",
       "\t<tr><th scope=col>&lt;chr&gt;</th><th scope=col>&lt;chr&gt;</th><th scope=col>&lt;mth&gt;</th><th scope=col>&lt;dist&gt;</th><th scope=col>&lt;dbl&gt;</th></tr>\n",
       "</thead>\n",
       "<tbody>\n",
       "\t<tr><td>md</td><td>stlm_s</td><td>2023 Apr</td><td>N(14658, 5.8e+07)</td><td>14658.17</td></tr>\n",
       "\t<tr><td>md</td><td>stlm_s</td><td>2023 May</td><td>N(15667, 5.8e+07)</td><td>15666.83</td></tr>\n",
       "</tbody>\n",
       "</table>\n"
      ],
      "text/latex": [
       "A fbl\\_ts: 2 × 5\n",
       "\\begin{tabular}{lllll}\n",
       " state & .model & month\\_date & active\\_listing\\_count & .mean\\\\\n",
       " <chr> & <chr> & <mth> & <dist> & <dbl>\\\\\n",
       "\\hline\n",
       "\t md & stlm\\_s & 2023 Apr & N(14658, 5.8e+07) & 14658.17\\\\\n",
       "\t md & stlm\\_s & 2023 May & N(15667, 5.8e+07) & 15666.83\\\\\n",
       "\\end{tabular}\n"
      ],
      "text/markdown": [
       "\n",
       "A fbl_ts: 2 × 5\n",
       "\n",
       "| state &lt;chr&gt; | .model &lt;chr&gt; | month_date &lt;mth&gt; | active_listing_count &lt;dist&gt; | .mean &lt;dbl&gt; |\n",
       "|---|---|---|---|---|\n",
       "| md | stlm_s | 2023 Apr | N(14658, 5.8e+07) | 14658.17 |\n",
       "| md | stlm_s | 2023 May | N(15667, 5.8e+07) | 15666.83 |\n",
       "\n"
      ],
      "text/plain": [
       "  state .model month_date active_listing_count .mean   \n",
       "1 md    stlm_s 2023 Apr   N(14658, 5.8e+07)    14658.17\n",
       "2 md    stlm_s 2023 May   N(15667, 5.8e+07)    15666.83"
      ]
     },
     "metadata": {},
     "output_type": "display_data"
    },
    {
     "name": "stdout",
     "output_type": "stream",
     "text": [
      "[1] \"Checking for negative forecast for md\"\n"
     ]
    },
    {
     "data": {
      "text/html": [
       "<table class=\"dataframe\">\n",
       "<caption>A fbl_ts: 0 × 5</caption>\n",
       "<thead>\n",
       "\t<tr><th scope=col>state</th><th scope=col>.model</th><th scope=col>month_date</th><th scope=col>active_listing_count</th><th scope=col>.mean</th></tr>\n",
       "\t<tr><th scope=col>&lt;chr&gt;</th><th scope=col>&lt;chr&gt;</th><th scope=col>&lt;mth&gt;</th><th scope=col>&lt;dist&gt;</th><th scope=col>&lt;dbl&gt;</th></tr>\n",
       "</thead>\n",
       "<tbody>\n",
       "</tbody>\n",
       "</table>\n"
      ],
      "text/latex": [
       "A fbl\\_ts: 0 × 5\n",
       "\\begin{tabular}{lllll}\n",
       " state & .model & month\\_date & active\\_listing\\_count & .mean\\\\\n",
       " <chr> & <chr> & <mth> & <dist> & <dbl>\\\\\n",
       "\\hline\n",
       "\\end{tabular}\n"
      ],
      "text/markdown": [
       "\n",
       "A fbl_ts: 0 × 5\n",
       "\n",
       "| state &lt;chr&gt; | .model &lt;chr&gt; | month_date &lt;mth&gt; | active_listing_count &lt;dist&gt; | .mean &lt;dbl&gt; |\n",
       "|---|---|---|---|---|\n",
       "\n"
      ],
      "text/plain": [
       "     state .model month_date active_listing_count .mean"
      ]
     },
     "metadata": {},
     "output_type": "display_data"
    },
    {
     "name": "stdout",
     "output_type": "stream",
     "text": [
      "[1] \"Active Listing Count VA\"\n"
     ]
    },
    {
     "data": {
      "text/html": [
       "<table class=\"dataframe\">\n",
       "<caption>A tibble: 3 × 5</caption>\n",
       "<thead>\n",
       "\t<tr><th scope=col>.model</th><th scope=col>AIC</th><th scope=col>AICc</th><th scope=col>BIC</th><th scope=col>r_squared</th></tr>\n",
       "\t<tr><th scope=col>&lt;chr&gt;</th><th scope=col>&lt;dbl&gt;</th><th scope=col>&lt;dbl&gt;</th><th scope=col>&lt;dbl&gt;</th><th scope=col>&lt;dbl&gt;</th></tr>\n",
       "</thead>\n",
       "<tbody>\n",
       "\t<tr><td>stlm_s </td><td>1531.455</td><td>1536.8873</td><td>1562.5823</td><td>0.08087724</td></tr>\n",
       "\t<tr><td>stlm_t </td><td>1347.836</td><td>1348.1474</td><td>1355.0191</td><td>0.87807152</td></tr>\n",
       "\t<tr><td>stlm_st</td><td>-256.940</td><td>-250.5764</td><td>-223.4177</td><td>0.88616142</td></tr>\n",
       "</tbody>\n",
       "</table>\n"
      ],
      "text/latex": [
       "A tibble: 3 × 5\n",
       "\\begin{tabular}{lllll}\n",
       " .model & AIC & AICc & BIC & r\\_squared\\\\\n",
       " <chr> & <dbl> & <dbl> & <dbl> & <dbl>\\\\\n",
       "\\hline\n",
       "\t stlm\\_s  & 1531.455 & 1536.8873 & 1562.5823 & 0.08087724\\\\\n",
       "\t stlm\\_t  & 1347.836 & 1348.1474 & 1355.0191 & 0.87807152\\\\\n",
       "\t stlm\\_st & -256.940 & -250.5764 & -223.4177 & 0.88616142\\\\\n",
       "\\end{tabular}\n"
      ],
      "text/markdown": [
       "\n",
       "A tibble: 3 × 5\n",
       "\n",
       "| .model &lt;chr&gt; | AIC &lt;dbl&gt; | AICc &lt;dbl&gt; | BIC &lt;dbl&gt; | r_squared &lt;dbl&gt; |\n",
       "|---|---|---|---|---|\n",
       "| stlm_s  | 1531.455 | 1536.8873 | 1562.5823 | 0.08087724 |\n",
       "| stlm_t  | 1347.836 | 1348.1474 | 1355.0191 | 0.87807152 |\n",
       "| stlm_st | -256.940 | -250.5764 | -223.4177 | 0.88616142 |\n",
       "\n"
      ],
      "text/plain": [
       "  .model  AIC      AICc      BIC       r_squared \n",
       "1 stlm_s  1531.455 1536.8873 1562.5823 0.08087724\n",
       "2 stlm_t  1347.836 1348.1474 1355.0191 0.87807152\n",
       "3 stlm_st -256.940 -250.5764 -223.4177 0.88616142"
      ]
     },
     "metadata": {},
     "output_type": "display_data"
    },
    {
     "data": {
      "text/html": [
       "<table class=\"dataframe\">\n",
       "<caption>A fbl_ts: 2 × 5</caption>\n",
       "<thead>\n",
       "\t<tr><th scope=col>state</th><th scope=col>.model</th><th scope=col>month_date</th><th scope=col>active_listing_count</th><th scope=col>.mean</th></tr>\n",
       "\t<tr><th scope=col>&lt;chr&gt;</th><th scope=col>&lt;chr&gt;</th><th scope=col>&lt;mth&gt;</th><th scope=col>&lt;dist&gt;</th><th scope=col>&lt;dbl&gt;</th></tr>\n",
       "</thead>\n",
       "<tbody>\n",
       "\t<tr><td>va</td><td>stlm_s</td><td>2023 Apr</td><td>N(24303, 1.6e+08)</td><td>24302.53</td></tr>\n",
       "\t<tr><td>va</td><td>stlm_s</td><td>2023 May</td><td>N(25755, 1.6e+08)</td><td>25754.84</td></tr>\n",
       "</tbody>\n",
       "</table>\n"
      ],
      "text/latex": [
       "A fbl\\_ts: 2 × 5\n",
       "\\begin{tabular}{lllll}\n",
       " state & .model & month\\_date & active\\_listing\\_count & .mean\\\\\n",
       " <chr> & <chr> & <mth> & <dist> & <dbl>\\\\\n",
       "\\hline\n",
       "\t va & stlm\\_s & 2023 Apr & N(24303, 1.6e+08) & 24302.53\\\\\n",
       "\t va & stlm\\_s & 2023 May & N(25755, 1.6e+08) & 25754.84\\\\\n",
       "\\end{tabular}\n"
      ],
      "text/markdown": [
       "\n",
       "A fbl_ts: 2 × 5\n",
       "\n",
       "| state &lt;chr&gt; | .model &lt;chr&gt; | month_date &lt;mth&gt; | active_listing_count &lt;dist&gt; | .mean &lt;dbl&gt; |\n",
       "|---|---|---|---|---|\n",
       "| va | stlm_s | 2023 Apr | N(24303, 1.6e+08) | 24302.53 |\n",
       "| va | stlm_s | 2023 May | N(25755, 1.6e+08) | 25754.84 |\n",
       "\n"
      ],
      "text/plain": [
       "  state .model month_date active_listing_count .mean   \n",
       "1 va    stlm_s 2023 Apr   N(24303, 1.6e+08)    24302.53\n",
       "2 va    stlm_s 2023 May   N(25755, 1.6e+08)    25754.84"
      ]
     },
     "metadata": {},
     "output_type": "display_data"
    },
    {
     "name": "stdout",
     "output_type": "stream",
     "text": [
      "[1] \"Checking for negative forecast for va\"\n"
     ]
    },
    {
     "data": {
      "text/html": [
       "<table class=\"dataframe\">\n",
       "<caption>A fbl_ts: 0 × 5</caption>\n",
       "<thead>\n",
       "\t<tr><th scope=col>state</th><th scope=col>.model</th><th scope=col>month_date</th><th scope=col>active_listing_count</th><th scope=col>.mean</th></tr>\n",
       "\t<tr><th scope=col>&lt;chr&gt;</th><th scope=col>&lt;chr&gt;</th><th scope=col>&lt;mth&gt;</th><th scope=col>&lt;dist&gt;</th><th scope=col>&lt;dbl&gt;</th></tr>\n",
       "</thead>\n",
       "<tbody>\n",
       "</tbody>\n",
       "</table>\n"
      ],
      "text/latex": [
       "A fbl\\_ts: 0 × 5\n",
       "\\begin{tabular}{lllll}\n",
       " state & .model & month\\_date & active\\_listing\\_count & .mean\\\\\n",
       " <chr> & <chr> & <mth> & <dist> & <dbl>\\\\\n",
       "\\hline\n",
       "\\end{tabular}\n"
      ],
      "text/markdown": [
       "\n",
       "A fbl_ts: 0 × 5\n",
       "\n",
       "| state &lt;chr&gt; | .model &lt;chr&gt; | month_date &lt;mth&gt; | active_listing_count &lt;dist&gt; | .mean &lt;dbl&gt; |\n",
       "|---|---|---|---|---|\n",
       "\n"
      ],
      "text/plain": [
       "     state .model month_date active_listing_count .mean"
      ]
     },
     "metadata": {},
     "output_type": "display_data"
    },
    {
     "name": "stdout",
     "output_type": "stream",
     "text": [
      "[1] \"Active Listing Count PA\"\n"
     ]
    },
    {
     "data": {
      "text/html": [
       "<table class=\"dataframe\">\n",
       "<caption>A tibble: 3 × 5</caption>\n",
       "<thead>\n",
       "\t<tr><th scope=col>.model</th><th scope=col>AIC</th><th scope=col>AICc</th><th scope=col>BIC</th><th scope=col>r_squared</th></tr>\n",
       "\t<tr><th scope=col>&lt;chr&gt;</th><th scope=col>&lt;dbl&gt;</th><th scope=col>&lt;dbl&gt;</th><th scope=col>&lt;dbl&gt;</th><th scope=col>&lt;dbl&gt;</th></tr>\n",
       "</thead>\n",
       "<tbody>\n",
       "\t<tr><td>stlm_s </td><td>1570.277</td><td>1575.710</td><td>1601.405</td><td>0.07729799</td></tr>\n",
       "\t<tr><td>stlm_t </td><td>1380.699</td><td>1381.011</td><td>1387.883</td><td>0.88627888</td></tr>\n",
       "\t<tr><td>stlm_st</td><td>1366.361</td><td>1372.725</td><td>1399.884</td><td>0.92738788</td></tr>\n",
       "</tbody>\n",
       "</table>\n"
      ],
      "text/latex": [
       "A tibble: 3 × 5\n",
       "\\begin{tabular}{lllll}\n",
       " .model & AIC & AICc & BIC & r\\_squared\\\\\n",
       " <chr> & <dbl> & <dbl> & <dbl> & <dbl>\\\\\n",
       "\\hline\n",
       "\t stlm\\_s  & 1570.277 & 1575.710 & 1601.405 & 0.07729799\\\\\n",
       "\t stlm\\_t  & 1380.699 & 1381.011 & 1387.883 & 0.88627888\\\\\n",
       "\t stlm\\_st & 1366.361 & 1372.725 & 1399.884 & 0.92738788\\\\\n",
       "\\end{tabular}\n"
      ],
      "text/markdown": [
       "\n",
       "A tibble: 3 × 5\n",
       "\n",
       "| .model &lt;chr&gt; | AIC &lt;dbl&gt; | AICc &lt;dbl&gt; | BIC &lt;dbl&gt; | r_squared &lt;dbl&gt; |\n",
       "|---|---|---|---|---|\n",
       "| stlm_s  | 1570.277 | 1575.710 | 1601.405 | 0.07729799 |\n",
       "| stlm_t  | 1380.699 | 1381.011 | 1387.883 | 0.88627888 |\n",
       "| stlm_st | 1366.361 | 1372.725 | 1399.884 | 0.92738788 |\n",
       "\n"
      ],
      "text/plain": [
       "  .model  AIC      AICc     BIC      r_squared \n",
       "1 stlm_s  1570.277 1575.710 1601.405 0.07729799\n",
       "2 stlm_t  1380.699 1381.011 1387.883 0.88627888\n",
       "3 stlm_st 1366.361 1372.725 1399.884 0.92738788"
      ]
     },
     "metadata": {},
     "output_type": "display_data"
    },
    {
     "data": {
      "text/html": [
       "<table class=\"dataframe\">\n",
       "<caption>A fbl_ts: 2 × 5</caption>\n",
       "<thead>\n",
       "\t<tr><th scope=col>state</th><th scope=col>.model</th><th scope=col>month_date</th><th scope=col>active_listing_count</th><th scope=col>.mean</th></tr>\n",
       "\t<tr><th scope=col>&lt;chr&gt;</th><th scope=col>&lt;chr&gt;</th><th scope=col>&lt;mth&gt;</th><th scope=col>&lt;dist&gt;</th><th scope=col>&lt;dbl&gt;</th></tr>\n",
       "</thead>\n",
       "<tbody>\n",
       "\t<tr><td>pa</td><td>stlm_s</td><td>2023 Apr</td><td>N(30525, 2.6e+08)</td><td>30525.50</td></tr>\n",
       "\t<tr><td>pa</td><td>stlm_s</td><td>2023 May</td><td>N(32198, 2.6e+08)</td><td>32198.17</td></tr>\n",
       "</tbody>\n",
       "</table>\n"
      ],
      "text/latex": [
       "A fbl\\_ts: 2 × 5\n",
       "\\begin{tabular}{lllll}\n",
       " state & .model & month\\_date & active\\_listing\\_count & .mean\\\\\n",
       " <chr> & <chr> & <mth> & <dist> & <dbl>\\\\\n",
       "\\hline\n",
       "\t pa & stlm\\_s & 2023 Apr & N(30525, 2.6e+08) & 30525.50\\\\\n",
       "\t pa & stlm\\_s & 2023 May & N(32198, 2.6e+08) & 32198.17\\\\\n",
       "\\end{tabular}\n"
      ],
      "text/markdown": [
       "\n",
       "A fbl_ts: 2 × 5\n",
       "\n",
       "| state &lt;chr&gt; | .model &lt;chr&gt; | month_date &lt;mth&gt; | active_listing_count &lt;dist&gt; | .mean &lt;dbl&gt; |\n",
       "|---|---|---|---|---|\n",
       "| pa | stlm_s | 2023 Apr | N(30525, 2.6e+08) | 30525.50 |\n",
       "| pa | stlm_s | 2023 May | N(32198, 2.6e+08) | 32198.17 |\n",
       "\n"
      ],
      "text/plain": [
       "  state .model month_date active_listing_count .mean   \n",
       "1 pa    stlm_s 2023 Apr   N(30525, 2.6e+08)    30525.50\n",
       "2 pa    stlm_s 2023 May   N(32198, 2.6e+08)    32198.17"
      ]
     },
     "metadata": {},
     "output_type": "display_data"
    },
    {
     "name": "stdout",
     "output_type": "stream",
     "text": [
      "[1] \"Checking for negative forecast for pa\"\n"
     ]
    },
    {
     "data": {
      "text/html": [
       "<table class=\"dataframe\">\n",
       "<caption>A fbl_ts: 0 × 5</caption>\n",
       "<thead>\n",
       "\t<tr><th scope=col>state</th><th scope=col>.model</th><th scope=col>month_date</th><th scope=col>active_listing_count</th><th scope=col>.mean</th></tr>\n",
       "\t<tr><th scope=col>&lt;chr&gt;</th><th scope=col>&lt;chr&gt;</th><th scope=col>&lt;mth&gt;</th><th scope=col>&lt;dist&gt;</th><th scope=col>&lt;dbl&gt;</th></tr>\n",
       "</thead>\n",
       "<tbody>\n",
       "</tbody>\n",
       "</table>\n"
      ],
      "text/latex": [
       "A fbl\\_ts: 0 × 5\n",
       "\\begin{tabular}{lllll}\n",
       " state & .model & month\\_date & active\\_listing\\_count & .mean\\\\\n",
       " <chr> & <chr> & <mth> & <dist> & <dbl>\\\\\n",
       "\\hline\n",
       "\\end{tabular}\n"
      ],
      "text/markdown": [
       "\n",
       "A fbl_ts: 0 × 5\n",
       "\n",
       "| state &lt;chr&gt; | .model &lt;chr&gt; | month_date &lt;mth&gt; | active_listing_count &lt;dist&gt; | .mean &lt;dbl&gt; |\n",
       "|---|---|---|---|---|\n",
       "\n"
      ],
      "text/plain": [
       "     state .model month_date active_listing_count .mean"
      ]
     },
     "metadata": {},
     "output_type": "display_data"
    },
    {
     "name": "stdout",
     "output_type": "stream",
     "text": [
      "[1] \"Active Listing Count DE\"\n"
     ]
    },
    {
     "data": {
      "text/html": [
       "<table class=\"dataframe\">\n",
       "<caption>A tibble: 4 × 5</caption>\n",
       "<thead>\n",
       "\t<tr><th scope=col>.model</th><th scope=col>AIC</th><th scope=col>AICc</th><th scope=col>BIC</th><th scope=col>r_squared</th></tr>\n",
       "\t<tr><th scope=col>&lt;chr&gt;</th><th scope=col>&lt;dbl&gt;</th><th scope=col>&lt;dbl&gt;</th><th scope=col>&lt;dbl&gt;</th><th scope=col>&lt;dbl&gt;</th></tr>\n",
       "</thead>\n",
       "<tbody>\n",
       "\t<tr><td>stlm_s      </td><td>1242.1778</td><td>1247.6107</td><td>1273.3057</td><td>0.02990764</td></tr>\n",
       "\t<tr><td>stlm_t      </td><td>-242.4915</td><td>-242.1798</td><td>-235.3081</td><td>0.85206912</td></tr>\n",
       "\t<tr><td>stlm_st     </td><td>-226.4110</td><td>-220.0474</td><td>-192.8887</td><td>0.86249444</td></tr>\n",
       "\t<tr><td>stlm_st_sqrt</td><td> 289.4848</td><td> 295.8484</td><td> 323.0071</td><td>0.89819870</td></tr>\n",
       "</tbody>\n",
       "</table>\n"
      ],
      "text/latex": [
       "A tibble: 4 × 5\n",
       "\\begin{tabular}{lllll}\n",
       " .model & AIC & AICc & BIC & r\\_squared\\\\\n",
       " <chr> & <dbl> & <dbl> & <dbl> & <dbl>\\\\\n",
       "\\hline\n",
       "\t stlm\\_s       & 1242.1778 & 1247.6107 & 1273.3057 & 0.02990764\\\\\n",
       "\t stlm\\_t       & -242.4915 & -242.1798 & -235.3081 & 0.85206912\\\\\n",
       "\t stlm\\_st      & -226.4110 & -220.0474 & -192.8887 & 0.86249444\\\\\n",
       "\t stlm\\_st\\_sqrt &  289.4848 &  295.8484 &  323.0071 & 0.89819870\\\\\n",
       "\\end{tabular}\n"
      ],
      "text/markdown": [
       "\n",
       "A tibble: 4 × 5\n",
       "\n",
       "| .model &lt;chr&gt; | AIC &lt;dbl&gt; | AICc &lt;dbl&gt; | BIC &lt;dbl&gt; | r_squared &lt;dbl&gt; |\n",
       "|---|---|---|---|---|\n",
       "| stlm_s       | 1242.1778 | 1247.6107 | 1273.3057 | 0.02990764 |\n",
       "| stlm_t       | -242.4915 | -242.1798 | -235.3081 | 0.85206912 |\n",
       "| stlm_st      | -226.4110 | -220.0474 | -192.8887 | 0.86249444 |\n",
       "| stlm_st_sqrt |  289.4848 |  295.8484 |  323.0071 | 0.89819870 |\n",
       "\n"
      ],
      "text/plain": [
       "  .model       AIC       AICc      BIC       r_squared \n",
       "1 stlm_s       1242.1778 1247.6107 1273.3057 0.02990764\n",
       "2 stlm_t       -242.4915 -242.1798 -235.3081 0.85206912\n",
       "3 stlm_st      -226.4110 -220.0474 -192.8887 0.86249444\n",
       "4 stlm_st_sqrt  289.4848  295.8484  323.0071 0.89819870"
      ]
     },
     "metadata": {},
     "output_type": "display_data"
    },
    {
     "data": {
      "text/html": [
       "<table class=\"dataframe\">\n",
       "<caption>A fbl_ts: 2 × 5</caption>\n",
       "<thead>\n",
       "\t<tr><th scope=col>state</th><th scope=col>.model</th><th scope=col>month_date</th><th scope=col>active_listing_count</th><th scope=col>.mean</th></tr>\n",
       "\t<tr><th scope=col>&lt;chr&gt;</th><th scope=col>&lt;chr&gt;</th><th scope=col>&lt;mth&gt;</th><th scope=col>&lt;dist&gt;</th><th scope=col>&lt;dbl&gt;</th></tr>\n",
       "</thead>\n",
       "<tbody>\n",
       "\t<tr><td>de</td><td>stlm_s</td><td>2023 Apr</td><td>N(3699, 4542710)</td><td>3699.167</td></tr>\n",
       "\t<tr><td>de</td><td>stlm_s</td><td>2023 May</td><td>N(3763, 4542710)</td><td>3763.000</td></tr>\n",
       "</tbody>\n",
       "</table>\n"
      ],
      "text/latex": [
       "A fbl\\_ts: 2 × 5\n",
       "\\begin{tabular}{lllll}\n",
       " state & .model & month\\_date & active\\_listing\\_count & .mean\\\\\n",
       " <chr> & <chr> & <mth> & <dist> & <dbl>\\\\\n",
       "\\hline\n",
       "\t de & stlm\\_s & 2023 Apr & N(3699, 4542710) & 3699.167\\\\\n",
       "\t de & stlm\\_s & 2023 May & N(3763, 4542710) & 3763.000\\\\\n",
       "\\end{tabular}\n"
      ],
      "text/markdown": [
       "\n",
       "A fbl_ts: 2 × 5\n",
       "\n",
       "| state &lt;chr&gt; | .model &lt;chr&gt; | month_date &lt;mth&gt; | active_listing_count &lt;dist&gt; | .mean &lt;dbl&gt; |\n",
       "|---|---|---|---|---|\n",
       "| de | stlm_s | 2023 Apr | N(3699, 4542710) | 3699.167 |\n",
       "| de | stlm_s | 2023 May | N(3763, 4542710) | 3763.000 |\n",
       "\n"
      ],
      "text/plain": [
       "  state .model month_date active_listing_count .mean   \n",
       "1 de    stlm_s 2023 Apr   N(3699, 4542710)     3699.167\n",
       "2 de    stlm_s 2023 May   N(3763, 4542710)     3763.000"
      ]
     },
     "metadata": {},
     "output_type": "display_data"
    },
    {
     "name": "stdout",
     "output_type": "stream",
     "text": [
      "[1] \"Checking for negative forecast for de\"\n"
     ]
    },
    {
     "data": {
      "text/html": [
       "<table class=\"dataframe\">\n",
       "<caption>A fbl_ts: 0 × 5</caption>\n",
       "<thead>\n",
       "\t<tr><th scope=col>state</th><th scope=col>.model</th><th scope=col>month_date</th><th scope=col>active_listing_count</th><th scope=col>.mean</th></tr>\n",
       "\t<tr><th scope=col>&lt;chr&gt;</th><th scope=col>&lt;chr&gt;</th><th scope=col>&lt;mth&gt;</th><th scope=col>&lt;dist&gt;</th><th scope=col>&lt;dbl&gt;</th></tr>\n",
       "</thead>\n",
       "<tbody>\n",
       "</tbody>\n",
       "</table>\n"
      ],
      "text/latex": [
       "A fbl\\_ts: 0 × 5\n",
       "\\begin{tabular}{lllll}\n",
       " state & .model & month\\_date & active\\_listing\\_count & .mean\\\\\n",
       " <chr> & <chr> & <mth> & <dist> & <dbl>\\\\\n",
       "\\hline\n",
       "\\end{tabular}\n"
      ],
      "text/markdown": [
       "\n",
       "A fbl_ts: 0 × 5\n",
       "\n",
       "| state &lt;chr&gt; | .model &lt;chr&gt; | month_date &lt;mth&gt; | active_listing_count &lt;dist&gt; | .mean &lt;dbl&gt; |\n",
       "|---|---|---|---|---|\n",
       "\n"
      ],
      "text/plain": [
       "     state .model month_date active_listing_count .mean"
      ]
     },
     "metadata": {},
     "output_type": "display_data"
    },
    {
     "name": "stdout",
     "output_type": "stream",
     "text": [
      "[1] \"Active Listing Count NJ\"\n"
     ]
    },
    {
     "data": {
      "text/html": [
       "<table class=\"dataframe\">\n",
       "<caption>A tibble: 3 × 5</caption>\n",
       "<thead>\n",
       "\t<tr><th scope=col>.model</th><th scope=col>AIC</th><th scope=col>AICc</th><th scope=col>BIC</th><th scope=col>r_squared</th></tr>\n",
       "\t<tr><th scope=col>&lt;chr&gt;</th><th scope=col>&lt;dbl&gt;</th><th scope=col>&lt;dbl&gt;</th><th scope=col>&lt;dbl&gt;</th><th scope=col>&lt;dbl&gt;</th></tr>\n",
       "</thead>\n",
       "<tbody>\n",
       "\t<tr><td>stlm_s </td><td>1555.015</td><td>1560.448</td><td>1586.143</td><td>0.08092254</td></tr>\n",
       "\t<tr><td>stlm_t </td><td>1372.776</td><td>1373.088</td><td>1379.960</td><td>0.87598246</td></tr>\n",
       "\t<tr><td>stlm_st</td><td>1360.906</td><td>1367.270</td><td>1394.428</td><td>0.91836399</td></tr>\n",
       "</tbody>\n",
       "</table>\n"
      ],
      "text/latex": [
       "A tibble: 3 × 5\n",
       "\\begin{tabular}{lllll}\n",
       " .model & AIC & AICc & BIC & r\\_squared\\\\\n",
       " <chr> & <dbl> & <dbl> & <dbl> & <dbl>\\\\\n",
       "\\hline\n",
       "\t stlm\\_s  & 1555.015 & 1560.448 & 1586.143 & 0.08092254\\\\\n",
       "\t stlm\\_t  & 1372.776 & 1373.088 & 1379.960 & 0.87598246\\\\\n",
       "\t stlm\\_st & 1360.906 & 1367.270 & 1394.428 & 0.91836399\\\\\n",
       "\\end{tabular}\n"
      ],
      "text/markdown": [
       "\n",
       "A tibble: 3 × 5\n",
       "\n",
       "| .model &lt;chr&gt; | AIC &lt;dbl&gt; | AICc &lt;dbl&gt; | BIC &lt;dbl&gt; | r_squared &lt;dbl&gt; |\n",
       "|---|---|---|---|---|\n",
       "| stlm_s  | 1555.015 | 1560.448 | 1586.143 | 0.08092254 |\n",
       "| stlm_t  | 1372.776 | 1373.088 | 1379.960 | 0.87598246 |\n",
       "| stlm_st | 1360.906 | 1367.270 | 1394.428 | 0.91836399 |\n",
       "\n"
      ],
      "text/plain": [
       "  .model  AIC      AICc     BIC      r_squared \n",
       "1 stlm_s  1555.015 1560.448 1586.143 0.08092254\n",
       "2 stlm_t  1372.776 1373.088 1379.960 0.87598246\n",
       "3 stlm_st 1360.906 1367.270 1394.428 0.91836399"
      ]
     },
     "metadata": {},
     "output_type": "display_data"
    },
    {
     "data": {
      "text/html": [
       "<table class=\"dataframe\">\n",
       "<caption>A fbl_ts: 2 × 5</caption>\n",
       "<thead>\n",
       "\t<tr><th scope=col>state</th><th scope=col>.model</th><th scope=col>month_date</th><th scope=col>active_listing_count</th><th scope=col>.mean</th></tr>\n",
       "\t<tr><th scope=col>&lt;chr&gt;</th><th scope=col>&lt;chr&gt;</th><th scope=col>&lt;mth&gt;</th><th scope=col>&lt;dist&gt;</th><th scope=col>&lt;dbl&gt;</th></tr>\n",
       "</thead>\n",
       "<tbody>\n",
       "\t<tr><td>nj</td><td>stlm_s</td><td>2023 Apr</td><td>N(30852, 2.2e+08)</td><td>30852.17</td></tr>\n",
       "\t<tr><td>nj</td><td>stlm_s</td><td>2023 May</td><td>N(32563, 2.2e+08)</td><td>32563.33</td></tr>\n",
       "</tbody>\n",
       "</table>\n"
      ],
      "text/latex": [
       "A fbl\\_ts: 2 × 5\n",
       "\\begin{tabular}{lllll}\n",
       " state & .model & month\\_date & active\\_listing\\_count & .mean\\\\\n",
       " <chr> & <chr> & <mth> & <dist> & <dbl>\\\\\n",
       "\\hline\n",
       "\t nj & stlm\\_s & 2023 Apr & N(30852, 2.2e+08) & 30852.17\\\\\n",
       "\t nj & stlm\\_s & 2023 May & N(32563, 2.2e+08) & 32563.33\\\\\n",
       "\\end{tabular}\n"
      ],
      "text/markdown": [
       "\n",
       "A fbl_ts: 2 × 5\n",
       "\n",
       "| state &lt;chr&gt; | .model &lt;chr&gt; | month_date &lt;mth&gt; | active_listing_count &lt;dist&gt; | .mean &lt;dbl&gt; |\n",
       "|---|---|---|---|---|\n",
       "| nj | stlm_s | 2023 Apr | N(30852, 2.2e+08) | 30852.17 |\n",
       "| nj | stlm_s | 2023 May | N(32563, 2.2e+08) | 32563.33 |\n",
       "\n"
      ],
      "text/plain": [
       "  state .model month_date active_listing_count .mean   \n",
       "1 nj    stlm_s 2023 Apr   N(30852, 2.2e+08)    30852.17\n",
       "2 nj    stlm_s 2023 May   N(32563, 2.2e+08)    32563.33"
      ]
     },
     "metadata": {},
     "output_type": "display_data"
    },
    {
     "name": "stdout",
     "output_type": "stream",
     "text": [
      "[1] \"Checking for negative forecast for nj\"\n"
     ]
    },
    {
     "data": {
      "text/html": [
       "<table class=\"dataframe\">\n",
       "<caption>A fbl_ts: 0 × 5</caption>\n",
       "<thead>\n",
       "\t<tr><th scope=col>state</th><th scope=col>.model</th><th scope=col>month_date</th><th scope=col>active_listing_count</th><th scope=col>.mean</th></tr>\n",
       "\t<tr><th scope=col>&lt;chr&gt;</th><th scope=col>&lt;chr&gt;</th><th scope=col>&lt;mth&gt;</th><th scope=col>&lt;dist&gt;</th><th scope=col>&lt;dbl&gt;</th></tr>\n",
       "</thead>\n",
       "<tbody>\n",
       "</tbody>\n",
       "</table>\n"
      ],
      "text/latex": [
       "A fbl\\_ts: 0 × 5\n",
       "\\begin{tabular}{lllll}\n",
       " state & .model & month\\_date & active\\_listing\\_count & .mean\\\\\n",
       " <chr> & <chr> & <mth> & <dist> & <dbl>\\\\\n",
       "\\hline\n",
       "\\end{tabular}\n"
      ],
      "text/markdown": [
       "\n",
       "A fbl_ts: 0 × 5\n",
       "\n",
       "| state &lt;chr&gt; | .model &lt;chr&gt; | month_date &lt;mth&gt; | active_listing_count &lt;dist&gt; | .mean &lt;dbl&gt; |\n",
       "|---|---|---|---|---|\n",
       "\n"
      ],
      "text/plain": [
       "     state .model month_date active_listing_count .mean"
      ]
     },
     "metadata": {},
     "output_type": "display_data"
    },
    {
     "name": "stderr",
     "output_type": "stream",
     "text": [
      "\u001b[1m\u001b[22mSaving 6.67 x 6.67 in image\n",
      "\u001b[1m\u001b[22mSaving 6.67 x 6.67 in image\n",
      "\u001b[1m\u001b[22mSaving 6.67 x 6.67 in image\n",
      "\u001b[1m\u001b[22mSaving 6.67 x 6.67 in image\n",
      "\u001b[1m\u001b[22mSaving 6.67 x 6.67 in image\n"
     ]
    },
    {
     "data": {
      "image/png": "[encoded data removed]",
      "text/plain": [
       "plot without title"
      ]
     },
     "metadata": {
      "image/png": {
       "height": 420,
       "width": 420
      }
     },
     "output_type": "display_data"
    }
   ],
   "source": [
    "\n",
    "df_train <- state_df_ts %>% filter(month_date <= yearmonth(as.character('2023 Mar'), format = '%Y %m'))\n",
    "df_test <- state_df_ts %>% filter(month_date > yearmonth(as.character('2023 Mar'), format = '%Y %m'))\n",
    "fit_md <- df_train %>% filter(state == 'md') %>% \n",
    "    model(\n",
    "        stlm_s = TSLM(active_listing_count ~ season()),\n",
    "        stlm_t = TSLM(active_listing_count ~ trend()),\n",
    "        stlm_st = TSLM(active_listing_count ~ season() + trend())\n",
    "    )\n",
    "print(\"Active Listing Count MD\")\n",
    "fit_md %>% report() %>%\n",
    "    select(.model, AIC, AICc, BIC, r_squared)\n",
    "frcst_md <- fit_md %>% forecast(h = 12)\n",
    "frcst_md %>% head(2)\n",
    "print('Checking for negative forecast for md')\n",
    "frcst_md %>% filter(.mean <= 0) \n",
    "\n",
    "fit_va <- df_train  %>% filter(state == 'va')%>% \n",
    "    model(\n",
    "        stlm_s = TSLM(active_listing_count ~ season()),\n",
    "        stlm_t = TSLM(active_listing_count ~ trend()),\n",
    "        stlm_st = TSLM(log(active_listing_count) ~ season() + trend())\n",
    "    )\n",
    "print(\"Active Listing Count VA\")\n",
    "fit_va %>% report() %>%\n",
    "    select(.model, AIC, AICc, BIC, r_squared)\n",
    "frcst_va <- fit_va %>% forecast(h = 12)\n",
    "frcst_va %>% head(2)\n",
    "print('Checking for negative forecast for va')\n",
    "frcst_va %>% filter(.mean <= 0) \n",
    "fit_pa <- df_train %>% filter(state == 'pa') %>% \n",
    "    model(\n",
    "        stlm_s = TSLM(active_listing_count ~ season()),\n",
    "        stlm_t = TSLM(active_listing_count ~ trend()),\n",
    "        stlm_st = TSLM(active_listing_count ~ season() + trend())\n",
    "    )\n",
    "print(\"Active Listing Count PA\")\n",
    "fit_pa %>% report() %>%\n",
    "    select(.model, AIC, AICc, BIC, r_squared)\n",
    "frcst_pa <- fit_pa %>% forecast(h = 12)\n",
    "frcst_pa %>% head(2)\n",
    "print('Checking for negative forecast for pa')\n",
    "frcst_pa %>% filter(.mean <= 0) \n",
    "\n",
    "fit_de <- df_train %>% filter(state == 'de') %>% \n",
    "    model(\n",
    "        stlm_s = TSLM(active_listing_count ~ season()),\n",
    "        stlm_t = TSLM(log(active_listing_count) ~ trend()),\n",
    "        stlm_st = TSLM(log(active_listing_count) ~ season() + trend()),\n",
    "        stlm_st_sqrt = TSLM(sqrt(active_listing_count) ~ season() + trend())\n",
    "    )\n",
    "print(\"Active Listing Count DE\")\n",
    "fit_de %>% report() %>%\n",
    "    select(.model, AIC, AICc, BIC, r_squared)\n",
    "frcst_de <- fit_de %>% forecast(h = 12)\n",
    "frcst_de %>% head(2)\n",
    "print('Checking for negative forecast for de')\n",
    "frcst_de %>% filter(.mean <= 0) \n",
    "\n",
    "fit_nj <- df_train %>% filter(state == 'nj') %>% \n",
    "    model(\n",
    "        stlm_s = TSLM(active_listing_count ~ season()),\n",
    "        stlm_t = TSLM(active_listing_count ~ trend()),\n",
    "        stlm_st = TSLM(active_listing_count ~ season() + trend())\n",
    "    )\n",
    "print(\"Active Listing Count NJ\")\n",
    "fit_nj %>% report() %>%\n",
    "    select(.model, AIC, AICc, BIC, r_squared)\n",
    "frcst_nj <- fit_nj %>% forecast(h = 12)\n",
    "frcst_nj %>% head(2)\n",
    "print('Checking for negative forecast for nj')\n",
    "frcst_nj %>% filter(.mean <= 0) \n",
    "\n",
    "p1 <- ggplot(data = df_train %>% filter(state == 'md'), aes(x = month_date)) +\n",
    "        geom_line(aes(y = active_listing_count))+\n",
    "        geom_line(data = df_test %>% filter(state == 'md'), aes(y = active_listing_count), color ='red') +\n",
    "        geom_line(data = frcst_md %>% filter(.model == 'stlm_s'), aes(y = .mean),color = 'blue') +\n",
    "        geom_line(data = frcst_md %>% filter(.model == 'stlm_t'), aes(y = .mean),color = 'green') +\n",
    "        geom_line(data = frcst_md %>% filter(.model == 'stlm_st'), aes(y = .mean),color = 'orange')+\n",
    "        geom_text(data = NULL,aes(x = Inf, y = Inf, label = 'Active Listing Count md'),vjust = -1)\n",
    "\n",
    "p2 <- ggplot(data = df_train %>% filter(state == 'va'), aes(x = month_date)) +\n",
    "        geom_line(aes(y = active_listing_count))+\n",
    "        geom_line(data = df_test %>% filter(state == 'va'), aes(y = active_listing_count), color ='red') +\n",
    "        geom_line(data = frcst_va %>% filter(.model == 'stlm_s'), aes(y = .mean),color = 'blue') +\n",
    "        geom_line(data = frcst_va %>% filter(.model == 'stlm_t'), aes(y = .mean),color = 'green') +\n",
    "        geom_line(data = frcst_va %>% filter(.model == 'stlm_st'), aes(y = .mean),color = 'orange')+\n",
    "        geom_text(data = NULL,aes(x = Inf, y = Inf, label = 'Active Listing Count va'),vjust = -1)\n",
    "\n",
    "p3 <- ggplot(data = df_train %>% filter(state == 'pa'), aes(x = month_date)) +\n",
    "        geom_line(aes(y = active_listing_count))+\n",
    "        geom_line(data = df_test %>% filter(state == 'pa'), aes(y = active_listing_count), color ='red') +\n",
    "        geom_line(data = frcst_pa %>% filter(.model == 'stlm_s'), aes(y = .mean),color = 'blue') +\n",
    "        geom_line(data = frcst_pa %>% filter(.model == 'stlm_t'), aes(y = .mean),color = 'green') +\n",
    "        geom_line(data = frcst_pa %>% filter(.model == 'stlm_st'), aes(y = .mean),color = 'orange')+\n",
    "        geom_text(data = NULL,aes(x = Inf, y = Inf, label = 'Active Listing Count pa'),vjust = -1)\n",
    "\n",
    "\n",
    "p4 <- ggplot(data = df_train  %>% filter(state == 'de'), aes(x = month_date)) +\n",
    "        geom_line(aes(y = active_listing_count))+\n",
    "        geom_line(data = df_test %>% filter(state == 'de'), aes(y = active_listing_count), color ='red') +\n",
    "        geom_line(data = frcst_de %>% filter(.model == 'stlm_s'), aes(y = .mean),color = 'blue') +\n",
    "        geom_line(data = frcst_de %>% filter(.model == 'stlm_t'), aes(y = .mean),color = 'green') +\n",
    "        geom_line(data = frcst_de %>% filter(.model == 'stlm_st'), aes(y = .mean),color = 'orange')+\n",
    "        geom_text(data = NULL,aes(x = Inf, y = Inf, label = 'Active Listing Count de'),vjust = -1)\n",
    "\n",
    "p5 <- ggplot(data = df_train %>% filter(state == 'nj'), aes(x = month_date)) +\n",
    "        geom_line(aes(y = active_listing_count))+\n",
    "        geom_line(data = df_test %>% filter(state == 'nj'), aes(y = active_listing_count), color ='red') +\n",
    "        geom_line(data = frcst_nj %>% filter(.model == 'stlm_s'), aes(y = .mean),color = 'blue') +\n",
    "        geom_line(data = frcst_nj %>% filter(.model == 'stlm_t'), aes(y = .mean),color = 'green') +\n",
    "        geom_line(data = frcst_nj %>% filter(.model == 'stlm_st'), aes(y = .mean),color = 'orange')+\n",
    "        geom_text(data = NULL,aes(x = Inf, y = Inf, label = 'Active Listing Count nj'),vjust = -1)\n",
    "ggsave('./plots/md_if.png',p1)\n",
    "ggsave('./plots/va_if.png',p2)\n",
    "ggsave('./plots/pa_if.png',p3)\n",
    "ggsave('./plots/de_if.png',p4)\n",
    "ggsave('./plots/nj_if.png',p5)\n",
    "grid.arrange(p1,p2,p3,p4,p5,ncol = 3)"
   ]
  },
  {
   "cell_type": "markdown",
   "metadata": {},
   "source": [
    "**Performace Analysis for each of the model:**\n",
    "- **MD**\n",
    "    - **stlm_st:** This model seems to have the best overall performance:\n",
    "        - Highest R-squared (0.87495): It explains the most variance in the data compared to other models.\n",
    "        - Lowest AIC and BIC: Despite explaining the highest variance, its AIC (1289.179) and BIC (1322.701) are the lowest, suggesting a good balance between fit and complexity.\n",
    "    - **stlm_t:** This model also performs well, with a high R-squared (0.82377). However, its AIC (1294.966) and BIC (1302.149) are slightly higher than stlm_st, indicating a slightly less parsimonious model.\n",
    "    - **stlm_s:** This model is the least suitable, as it has the lowest R-squared (0.09030789) and the highest AIC (1447.915) and BIC (1479.043), indicating a poor fit and higher complexity.\n",
    "- **VA**\n",
    "    - **stlm_s:** This model seems to have the poorest performance with the highest AIC, AICc, BIC values and the lowest R-squared. This implies it has a relatively weak fit to the data and may be overfitting.\n",
    "    - **stlm_t:** This model shows a substantial improvement over stlm_s. It has a much higher R-squared (0.878), indicating it explains a good portion of the variance in the data. Its AIC and BIC are also lower than stlm_s, suggesting a better balance between fit and complexity.\n",
    "    - **stlm_st:** This model stands out as the most promising:\n",
    "        - Highest R-squared (0.886): Indicates the best fit to the data. \n",
    "        - Lowest AIC and BIC: Despite fitting the data well, its complexity is still relatively low, reducing the risk of overfitting.\n",
    "- **PA**\n",
    "    - **stlm_st appears to be the best-performing model:** \n",
    "        - It has the highest R-squared value (0.92738788), indicating that it explains the most variance in the data compared to the other two models.\n",
    "        - It also has the lowest AIC (1366.361) and BIC (1399.884) values, suggesting a good balance between model fit and complexity.\n",
    "    - **stlm_t** also performs well, with a high R-squared value (0.88627888) and relatively low AIC (1380.699) and BIC (1387.883).\n",
    "    - **stlm_s** is the least suitable model as it has the lowest R-squared (0.07729799) and highest AIC (1570.277) and BIC (1601.405) values, indicating a poor fit and higher complexity.\n",
    "- **DE**\n",
    "    - **stlm_st_sqrt appears to be the best-fitting model:**\n",
    "        - It has the highest R-squared value (0.898), indicating it explains the largest proportion of variance in the data compared to the other three models.\n",
    "        - However, it also has the highest AIC (289.48), AICc (295.85), and BIC (323.007) values, suggesting it might be slightly overfitting the data due to its increased complexity.\n",
    "    - **stlm_t and stlm_st are strong contenders:**\n",
    "        - Both have relatively high R-squared values (0.852 and 0.862 respectively), demonstrating good fits to the data.\n",
    "        - Their AIC and BIC values are substantially lower than stlm_st_sqrt, indicating they are more parsimonious models.\n",
    "    - **stlm_s is the least suitable model:**\n",
    "        - It has the lowest R-squared value (0.0299), suggesting a poor fit to the data.\n",
    "        - It also has the highest AIC (1242.178), AICc (1247.61), and BIC (1273.306) values, further indicating its lack of suitability.\n",
    "- **NJ**\n",
    "    - **stlm_s:** This model seems to have the poorest performance with the highest AIC, AICc, and BIC values and the lowest R-squared. This implies it has a relatively weak fit to the data and may be overfitting.\n",
    "    - **stlm_t:** This model shows a substantial improvement over stlm_s. It has a much higher R-squared (0.875), indicating it explains a good portion of the variance in the data. Its AIC and BIC are also lower than stlm_s, suggesting a better balance between fit and complexity.\n",
    "    - **stlm_st:** This model stands out as the most promising:\n",
    "        - Highest R-squared (0.918): Indicates the best fit to the data.\n",
    "        - Lowest AIC and BIC: Despite fitting the data well, its complexity is still relatively low, reducing the risk of overfitting.\n",
    "\n",
    "    \n",
    "    "
   ]
  },
  {
   "cell_type": "code",
   "execution_count": 36,
   "metadata": {
    "vscode": {
     "languageId": "r"
    }
   },
   "outputs": [],
   "source": [
    "df_test_md <- df_test %>% filter(state == 'md')\n",
    "df_test_md$active_listing_count <- frcst_md %>%\n",
    "    filter(.model == 'stlm_st') %>%\n",
    "    mutate(active_listing_count_frcst = .mean) %>% as.data.frame() %>%\n",
    "    select(active_listing_count_frcst) %>% unlist()\n",
    "\n",
    "df_test_va <- df_test %>% filter(state == 'va')\n",
    "df_test_va$active_listing_count <- frcst_va %>%\n",
    "    filter(.model == 'stlm_st') %>%\n",
    "    mutate(active_listing_count_frcst = .mean) %>% as.data.frame() %>%\n",
    "    select(active_listing_count_frcst) %>% unlist()\n",
    "\n",
    "df_test_pa <- df_test %>% filter(state == 'pa')\n",
    "df_test_pa$active_listing_count <- frcst_pa %>%\n",
    "    filter(.model == 'stlm_st') %>%\n",
    "    mutate(active_listing_count_frcst = .mean) %>% as.data.frame() %>%\n",
    "    select(active_listing_count_frcst) %>% unlist()\n",
    "\n",
    "df_test_de <- df_test %>% filter(state == 'de')\n",
    "df_test_de$active_listing_count <- frcst_de %>%\n",
    "    filter(.model == 'stlm_st_sqrt') %>%\n",
    "    mutate(active_listing_count_frcst = .mean) %>% as.data.frame() %>%\n",
    "    select(active_listing_count_frcst) %>% unlist()\n",
    "\n",
    "df_test_nj <- df_test %>% filter(state == 'nj')\n",
    "df_test_nj$active_listing_count <- frcst_nj %>%\n",
    "    filter(.model == 'stlm_st') %>%\n",
    "    mutate(active_listing_count_frcst = .mean) %>% as.data.frame() %>%\n",
    "    select(active_listing_count_frcst) %>% unlist()\n",
    "\n",
    "combined_df <- bind_rows(df_train,df_test_md)\n",
    "combined_df <- bind_rows(df_test_va,combined_df)\n",
    "combined_df <- bind_rows(df_test_pa,combined_df)\n",
    "combined_df <- bind_rows(df_test_de,combined_df)\n",
    "combined_df <- bind_rows(df_test_nj,combined_df)"
   ]
  },
  {
   "cell_type": "code",
   "execution_count": 37,
   "metadata": {
    "vscode": {
     "languageId": "r"
    }
   },
   "outputs": [
    {
     "data": {
      "image/png": "[encoded data removed]",
      "text/plain": [
       "plot without title"
      ]
     },
     "metadata": {
      "image/png": {
       "height": 420,
       "width": 420
      }
     },
     "output_type": "display_data"
    }
   ],
   "source": [
    "p1 <- ggplot(data = combined_df %>% as.data.frame()%>% filter(state =='md'),aes(x = month_date,y = active_listing_count))+\n",
    "geom_line()\n",
    "\n",
    "p2 <- ggplot(data = combined_df %>% as.data.frame()%>% filter(state =='va'),aes(x = month_date,y = active_listing_count))+\n",
    "geom_line()\n",
    "\n",
    "p3 <- ggplot(data = combined_df %>% as.data.frame()%>% filter(state =='pa'),aes(x = month_date,y = active_listing_count))+\n",
    "geom_line()\n",
    "\n",
    "p4 <- ggplot(data = combined_df %>% as.data.frame()%>% filter(state =='de'),aes(x = month_date,y = active_listing_count))+\n",
    "geom_line()\n",
    "\n",
    "p5 <- ggplot(data = combined_df %>% as.data.frame()%>% filter(state =='nj'),aes(x = month_date,y = active_listing_count))+\n",
    "geom_line()\n",
    "\n",
    "grid.arrange(p1,p2,p3,p4,p5,ncol = 2)"
   ]
  },
  {
   "cell_type": "code",
   "execution_count": 38,
   "metadata": {
    "vscode": {
     "languageId": "r"
    }
   },
   "outputs": [
    {
     "data": {
      "text/html": [
       "<table class=\"dataframe\">\n",
       "<caption>A tibble: 3 × 5</caption>\n",
       "<thead>\n",
       "\t<tr><th scope=col>.model</th><th scope=col>AIC</th><th scope=col>AICc</th><th scope=col>BIC</th><th scope=col>r_squared</th></tr>\n",
       "\t<tr><th scope=col>&lt;chr&gt;</th><th scope=col>&lt;dbl&gt;</th><th scope=col>&lt;dbl&gt;</th><th scope=col>&lt;dbl&gt;</th><th scope=col>&lt;dbl&gt;</th></tr>\n",
       "</thead>\n",
       "<tbody>\n",
       "\t<tr><td>stlm_s </td><td>1680.02892</td><td>1684.63652</td><td>1712.9527</td><td>0.07277805</td></tr>\n",
       "\t<tr><td>stlm_t </td><td>1476.94161</td><td>1477.21127</td><td>1484.5394</td><td>0.87052185</td></tr>\n",
       "\t<tr><td>stlm_st</td><td> -58.34169</td><td> -52.95707</td><td> -22.8853</td><td>0.60934327</td></tr>\n",
       "</tbody>\n",
       "</table>\n"
      ],
      "text/latex": [
       "A tibble: 3 × 5\n",
       "\\begin{tabular}{lllll}\n",
       " .model & AIC & AICc & BIC & r\\_squared\\\\\n",
       " <chr> & <dbl> & <dbl> & <dbl> & <dbl>\\\\\n",
       "\\hline\n",
       "\t stlm\\_s  & 1680.02892 & 1684.63652 & 1712.9527 & 0.07277805\\\\\n",
       "\t stlm\\_t  & 1476.94161 & 1477.21127 & 1484.5394 & 0.87052185\\\\\n",
       "\t stlm\\_st &  -58.34169 &  -52.95707 &  -22.8853 & 0.60934327\\\\\n",
       "\\end{tabular}\n"
      ],
      "text/markdown": [
       "\n",
       "A tibble: 3 × 5\n",
       "\n",
       "| .model &lt;chr&gt; | AIC &lt;dbl&gt; | AICc &lt;dbl&gt; | BIC &lt;dbl&gt; | r_squared &lt;dbl&gt; |\n",
       "|---|---|---|---|---|\n",
       "| stlm_s  | 1680.02892 | 1684.63652 | 1712.9527 | 0.07277805 |\n",
       "| stlm_t  | 1476.94161 | 1477.21127 | 1484.5394 | 0.87052185 |\n",
       "| stlm_st |  -58.34169 |  -52.95707 |  -22.8853 | 0.60934327 |\n",
       "\n"
      ],
      "text/plain": [
       "  .model  AIC        AICc       BIC       r_squared \n",
       "1 stlm_s  1680.02892 1684.63652 1712.9527 0.07277805\n",
       "2 stlm_t  1476.94161 1477.21127 1484.5394 0.87052185\n",
       "3 stlm_st  -58.34169  -52.95707  -22.8853 0.60934327"
      ]
     },
     "metadata": {},
     "output_type": "display_data"
    },
    {
     "data": {
      "text/html": [
       "<table class=\"dataframe\">\n",
       "<caption>A fbl_ts: 2 × 5</caption>\n",
       "<thead>\n",
       "\t<tr><th scope=col>state</th><th scope=col>.model</th><th scope=col>month_date</th><th scope=col>active_listing_count</th><th scope=col>.mean</th></tr>\n",
       "\t<tr><th scope=col>&lt;chr&gt;</th><th scope=col>&lt;chr&gt;</th><th scope=col>&lt;mth&gt;</th><th scope=col>&lt;dist&gt;</th><th scope=col>&lt;dbl&gt;</th></tr>\n",
       "</thead>\n",
       "<tbody>\n",
       "\t<tr><td>md</td><td>stlm_s</td><td>2024 Apr</td><td>N(13105, 7e+07)</td><td>13104.99</td></tr>\n",
       "\t<tr><td>md</td><td>stlm_s</td><td>2024 May</td><td>N(14114, 7e+07)</td><td>14113.66</td></tr>\n",
       "</tbody>\n",
       "</table>\n"
      ],
      "text/latex": [
       "A fbl\\_ts: 2 × 5\n",
       "\\begin{tabular}{lllll}\n",
       " state & .model & month\\_date & active\\_listing\\_count & .mean\\\\\n",
       " <chr> & <chr> & <mth> & <dist> & <dbl>\\\\\n",
       "\\hline\n",
       "\t md & stlm\\_s & 2024 Apr & N(13105, 7e+07) & 13104.99\\\\\n",
       "\t md & stlm\\_s & 2024 May & N(14114, 7e+07) & 14113.66\\\\\n",
       "\\end{tabular}\n"
      ],
      "text/markdown": [
       "\n",
       "A fbl_ts: 2 × 5\n",
       "\n",
       "| state &lt;chr&gt; | .model &lt;chr&gt; | month_date &lt;mth&gt; | active_listing_count &lt;dist&gt; | .mean &lt;dbl&gt; |\n",
       "|---|---|---|---|---|\n",
       "| md | stlm_s | 2024 Apr | N(13105, 7e+07) | 13104.99 |\n",
       "| md | stlm_s | 2024 May | N(14114, 7e+07) | 14113.66 |\n",
       "\n"
      ],
      "text/plain": [
       "  state .model month_date active_listing_count .mean   \n",
       "1 md    stlm_s 2024 Apr   N(13105, 7e+07)      13104.99\n",
       "2 md    stlm_s 2024 May   N(14114, 7e+07)      14113.66"
      ]
     },
     "metadata": {},
     "output_type": "display_data"
    },
    {
     "name": "stdout",
     "output_type": "stream",
     "text": [
      "[1] \"Checking for negative forecast for md\"\n"
     ]
    },
    {
     "data": {
      "text/html": [
       "<table class=\"dataframe\">\n",
       "<caption>A fbl_ts: 5 × 5</caption>\n",
       "<thead>\n",
       "\t<tr><th scope=col>state</th><th scope=col>.model</th><th scope=col>month_date</th><th scope=col>active_listing_count</th><th scope=col>.mean</th></tr>\n",
       "\t<tr><th scope=col>&lt;chr&gt;</th><th scope=col>&lt;chr&gt;</th><th scope=col>&lt;mth&gt;</th><th scope=col>&lt;dist&gt;</th><th scope=col>&lt;dbl&gt;</th></tr>\n",
       "</thead>\n",
       "<tbody>\n",
       "\t<tr><td>md</td><td>stlm_t</td><td>2024 Nov</td><td>N(-55, 8e+06)</td><td>  -54.93081</td></tr>\n",
       "\t<tr><td>md</td><td>stlm_t</td><td>2024 Dec</td><td>N(-318, 8e+06)</td><td> -317.62490</td></tr>\n",
       "\t<tr><td>md</td><td>stlm_t</td><td>2025 Jan</td><td>N(-580, 8e+06)</td><td> -580.31900</td></tr>\n",
       "\t<tr><td>md</td><td>stlm_t</td><td>2025 Feb</td><td>N(-843, 8e+06)</td><td> -843.01309</td></tr>\n",
       "\t<tr><td>md</td><td>stlm_t</td><td>2025 Mar</td><td>N(-1106, 8e+06)</td><td>-1105.70719</td></tr>\n",
       "</tbody>\n",
       "</table>\n"
      ],
      "text/latex": [
       "A fbl\\_ts: 5 × 5\n",
       "\\begin{tabular}{lllll}\n",
       " state & .model & month\\_date & active\\_listing\\_count & .mean\\\\\n",
       " <chr> & <chr> & <mth> & <dist> & <dbl>\\\\\n",
       "\\hline\n",
       "\t md & stlm\\_t & 2024 Nov & N(-55, 8e+06) &   -54.93081\\\\\n",
       "\t md & stlm\\_t & 2024 Dec & N(-318, 8e+06) &  -317.62490\\\\\n",
       "\t md & stlm\\_t & 2025 Jan & N(-580, 8e+06) &  -580.31900\\\\\n",
       "\t md & stlm\\_t & 2025 Feb & N(-843, 8e+06) &  -843.01309\\\\\n",
       "\t md & stlm\\_t & 2025 Mar & N(-1106, 8e+06) & -1105.70719\\\\\n",
       "\\end{tabular}\n"
      ],
      "text/markdown": [
       "\n",
       "A fbl_ts: 5 × 5\n",
       "\n",
       "| state &lt;chr&gt; | .model &lt;chr&gt; | month_date &lt;mth&gt; | active_listing_count &lt;dist&gt; | .mean &lt;dbl&gt; |\n",
       "|---|---|---|---|---|\n",
       "| md | stlm_t | 2024 Nov | N(-55, 8e+06) |   -54.93081 |\n",
       "| md | stlm_t | 2024 Dec | N(-318, 8e+06) |  -317.62490 |\n",
       "| md | stlm_t | 2025 Jan | N(-580, 8e+06) |  -580.31900 |\n",
       "| md | stlm_t | 2025 Feb | N(-843, 8e+06) |  -843.01309 |\n",
       "| md | stlm_t | 2025 Mar | N(-1106, 8e+06) | -1105.70719 |\n",
       "\n"
      ],
      "text/plain": [
       "  state .model month_date active_listing_count .mean      \n",
       "1 md    stlm_t 2024 Nov   N(-55, 8e+06)          -54.93081\n",
       "2 md    stlm_t 2024 Dec   N(-318, 8e+06)        -317.62490\n",
       "3 md    stlm_t 2025 Jan   N(-580, 8e+06)        -580.31900\n",
       "4 md    stlm_t 2025 Feb   N(-843, 8e+06)        -843.01309\n",
       "5 md    stlm_t 2025 Mar   N(-1106, 8e+06)      -1105.70719"
      ]
     },
     "metadata": {},
     "output_type": "display_data"
    },
    {
     "data": {
      "text/html": [
       "<table class=\"dataframe\">\n",
       "<caption>A tibble: 4 × 5</caption>\n",
       "<thead>\n",
       "\t<tr><th scope=col>.model</th><th scope=col>AIC</th><th scope=col>AICc</th><th scope=col>BIC</th><th scope=col>r_squared</th></tr>\n",
       "\t<tr><th scope=col>&lt;chr&gt;</th><th scope=col>&lt;dbl&gt;</th><th scope=col>&lt;dbl&gt;</th><th scope=col>&lt;dbl&gt;</th><th scope=col>&lt;dbl&gt;</th></tr>\n",
       "</thead>\n",
       "<tbody>\n",
       "\t<tr><td>stlm_s      </td><td>1765.0064</td><td>1769.6140</td><td>1797.9302</td><td>0.06271288</td></tr>\n",
       "\t<tr><td>stlm_t      </td><td>1546.5592</td><td>1546.8289</td><td>1554.1570</td><td>0.88904231</td></tr>\n",
       "\t<tr><td>stlm_st     </td><td>-311.8842</td><td>-306.4996</td><td>-276.4278</td><td>0.91908074</td></tr>\n",
       "\t<tr><td>stlm_st_sqrt</td><td> 470.2794</td><td> 475.6641</td><td> 505.7358</td><td>0.92731325</td></tr>\n",
       "</tbody>\n",
       "</table>\n"
      ],
      "text/latex": [
       "A tibble: 4 × 5\n",
       "\\begin{tabular}{lllll}\n",
       " .model & AIC & AICc & BIC & r\\_squared\\\\\n",
       " <chr> & <dbl> & <dbl> & <dbl> & <dbl>\\\\\n",
       "\\hline\n",
       "\t stlm\\_s       & 1765.0064 & 1769.6140 & 1797.9302 & 0.06271288\\\\\n",
       "\t stlm\\_t       & 1546.5592 & 1546.8289 & 1554.1570 & 0.88904231\\\\\n",
       "\t stlm\\_st      & -311.8842 & -306.4996 & -276.4278 & 0.91908074\\\\\n",
       "\t stlm\\_st\\_sqrt &  470.2794 &  475.6641 &  505.7358 & 0.92731325\\\\\n",
       "\\end{tabular}\n"
      ],
      "text/markdown": [
       "\n",
       "A tibble: 4 × 5\n",
       "\n",
       "| .model &lt;chr&gt; | AIC &lt;dbl&gt; | AICc &lt;dbl&gt; | BIC &lt;dbl&gt; | r_squared &lt;dbl&gt; |\n",
       "|---|---|---|---|---|\n",
       "| stlm_s       | 1765.0064 | 1769.6140 | 1797.9302 | 0.06271288 |\n",
       "| stlm_t       | 1546.5592 | 1546.8289 | 1554.1570 | 0.88904231 |\n",
       "| stlm_st      | -311.8842 | -306.4996 | -276.4278 | 0.91908074 |\n",
       "| stlm_st_sqrt |  470.2794 |  475.6641 |  505.7358 | 0.92731325 |\n",
       "\n"
      ],
      "text/plain": [
       "  .model       AIC       AICc      BIC       r_squared \n",
       "1 stlm_s       1765.0064 1769.6140 1797.9302 0.06271288\n",
       "2 stlm_t       1546.5592 1546.8289 1554.1570 0.88904231\n",
       "3 stlm_st      -311.8842 -306.4996 -276.4278 0.91908074\n",
       "4 stlm_st_sqrt  470.2794  475.6641  505.7358 0.92731325"
      ]
     },
     "metadata": {},
     "output_type": "display_data"
    },
    {
     "data": {
      "text/html": [
       "<table class=\"dataframe\">\n",
       "<caption>A fbl_ts: 2 × 5</caption>\n",
       "<thead>\n",
       "\t<tr><th scope=col>state</th><th scope=col>.model</th><th scope=col>month_date</th><th scope=col>active_listing_count</th><th scope=col>.mean</th></tr>\n",
       "\t<tr><th scope=col>&lt;chr&gt;</th><th scope=col>&lt;chr&gt;</th><th scope=col>&lt;mth&gt;</th><th scope=col>&lt;dist&gt;</th><th scope=col>&lt;dbl&gt;</th></tr>\n",
       "</thead>\n",
       "<tbody>\n",
       "\t<tr><td>va</td><td>stlm_s</td><td>2024 Apr</td><td>N(22200, 1.7e+08)</td><td>22199.79</td></tr>\n",
       "\t<tr><td>va</td><td>stlm_s</td><td>2024 May</td><td>N(23544, 1.7e+08)</td><td>23544.19</td></tr>\n",
       "</tbody>\n",
       "</table>\n"
      ],
      "text/latex": [
       "A fbl\\_ts: 2 × 5\n",
       "\\begin{tabular}{lllll}\n",
       " state & .model & month\\_date & active\\_listing\\_count & .mean\\\\\n",
       " <chr> & <chr> & <mth> & <dist> & <dbl>\\\\\n",
       "\\hline\n",
       "\t va & stlm\\_s & 2024 Apr & N(22200, 1.7e+08) & 22199.79\\\\\n",
       "\t va & stlm\\_s & 2024 May & N(23544, 1.7e+08) & 23544.19\\\\\n",
       "\\end{tabular}\n"
      ],
      "text/markdown": [
       "\n",
       "A fbl_ts: 2 × 5\n",
       "\n",
       "| state &lt;chr&gt; | .model &lt;chr&gt; | month_date &lt;mth&gt; | active_listing_count &lt;dist&gt; | .mean &lt;dbl&gt; |\n",
       "|---|---|---|---|---|\n",
       "| va | stlm_s | 2024 Apr | N(22200, 1.7e+08) | 22199.79 |\n",
       "| va | stlm_s | 2024 May | N(23544, 1.7e+08) | 23544.19 |\n",
       "\n"
      ],
      "text/plain": [
       "  state .model month_date active_listing_count .mean   \n",
       "1 va    stlm_s 2024 Apr   N(22200, 1.7e+08)    22199.79\n",
       "2 va    stlm_s 2024 May   N(23544, 1.7e+08)    23544.19"
      ]
     },
     "metadata": {},
     "output_type": "display_data"
    },
    {
     "name": "stdout",
     "output_type": "stream",
     "text": [
      "[1] \"Checking for negative forecast for va\"\n"
     ]
    },
    {
     "data": {
      "text/html": [
       "<table class=\"dataframe\">\n",
       "<caption>A fbl_ts: 3 × 5</caption>\n",
       "<thead>\n",
       "\t<tr><th scope=col>state</th><th scope=col>.model</th><th scope=col>month_date</th><th scope=col>active_listing_count</th><th scope=col>.mean</th></tr>\n",
       "\t<tr><th scope=col>&lt;chr&gt;</th><th scope=col>&lt;chr&gt;</th><th scope=col>&lt;mth&gt;</th><th scope=col>&lt;dist&gt;</th><th scope=col>&lt;dbl&gt;</th></tr>\n",
       "</thead>\n",
       "<tbody>\n",
       "\t<tr><td>va</td><td>stlm_t</td><td>2025 Jan</td><td>N(-49, 1.7e+07)</td><td> -48.74629</td></tr>\n",
       "\t<tr><td>va</td><td>stlm_t</td><td>2025 Feb</td><td>N(-466, 1.7e+07)</td><td>-465.70449</td></tr>\n",
       "\t<tr><td>va</td><td>stlm_t</td><td>2025 Mar</td><td>N(-883, 1.7e+07)</td><td>-882.66269</td></tr>\n",
       "</tbody>\n",
       "</table>\n"
      ],
      "text/latex": [
       "A fbl\\_ts: 3 × 5\n",
       "\\begin{tabular}{lllll}\n",
       " state & .model & month\\_date & active\\_listing\\_count & .mean\\\\\n",
       " <chr> & <chr> & <mth> & <dist> & <dbl>\\\\\n",
       "\\hline\n",
       "\t va & stlm\\_t & 2025 Jan & N(-49, 1.7e+07) &  -48.74629\\\\\n",
       "\t va & stlm\\_t & 2025 Feb & N(-466, 1.7e+07) & -465.70449\\\\\n",
       "\t va & stlm\\_t & 2025 Mar & N(-883, 1.7e+07) & -882.66269\\\\\n",
       "\\end{tabular}\n"
      ],
      "text/markdown": [
       "\n",
       "A fbl_ts: 3 × 5\n",
       "\n",
       "| state &lt;chr&gt; | .model &lt;chr&gt; | month_date &lt;mth&gt; | active_listing_count &lt;dist&gt; | .mean &lt;dbl&gt; |\n",
       "|---|---|---|---|---|\n",
       "| va | stlm_t | 2025 Jan | N(-49, 1.7e+07) |  -48.74629 |\n",
       "| va | stlm_t | 2025 Feb | N(-466, 1.7e+07) | -465.70449 |\n",
       "| va | stlm_t | 2025 Mar | N(-883, 1.7e+07) | -882.66269 |\n",
       "\n"
      ],
      "text/plain": [
       "  state .model month_date active_listing_count .mean     \n",
       "1 va    stlm_t 2025 Jan   N(-49, 1.7e+07)       -48.74629\n",
       "2 va    stlm_t 2025 Feb   N(-466, 1.7e+07)     -465.70449\n",
       "3 va    stlm_t 2025 Mar   N(-883, 1.7e+07)     -882.66269"
      ]
     },
     "metadata": {},
     "output_type": "display_data"
    },
    {
     "data": {
      "text/html": [
       "<table class=\"dataframe\">\n",
       "<caption>A tibble: 4 × 5</caption>\n",
       "<thead>\n",
       "\t<tr><th scope=col>.model</th><th scope=col>AIC</th><th scope=col>AICc</th><th scope=col>BIC</th><th scope=col>r_squared</th></tr>\n",
       "\t<tr><th scope=col>&lt;chr&gt;</th><th scope=col>&lt;dbl&gt;</th><th scope=col>&lt;dbl&gt;</th><th scope=col>&lt;dbl&gt;</th><th scope=col>&lt;dbl&gt;</th></tr>\n",
       "</thead>\n",
       "<tbody>\n",
       "\t<tr><td>stlm_s      </td><td>1822.4533</td><td>1827.0609</td><td>1855.3771</td><td>0.06097065</td></tr>\n",
       "\t<tr><td>stlm_t      </td><td>1576.3645</td><td>1576.6342</td><td>1583.9623</td><td>0.91741864</td></tr>\n",
       "\t<tr><td>stlm_st     </td><td>-148.1627</td><td>-142.7781</td><td>-112.7063</td><td>0.76173787</td></tr>\n",
       "\t<tr><td>stlm_st_sqrt</td><td> 518.9427</td><td> 524.3273</td><td> 554.3991</td><td>0.92443664</td></tr>\n",
       "</tbody>\n",
       "</table>\n"
      ],
      "text/latex": [
       "A tibble: 4 × 5\n",
       "\\begin{tabular}{lllll}\n",
       " .model & AIC & AICc & BIC & r\\_squared\\\\\n",
       " <chr> & <dbl> & <dbl> & <dbl> & <dbl>\\\\\n",
       "\\hline\n",
       "\t stlm\\_s       & 1822.4533 & 1827.0609 & 1855.3771 & 0.06097065\\\\\n",
       "\t stlm\\_t       & 1576.3645 & 1576.6342 & 1583.9623 & 0.91741864\\\\\n",
       "\t stlm\\_st      & -148.1627 & -142.7781 & -112.7063 & 0.76173787\\\\\n",
       "\t stlm\\_st\\_sqrt &  518.9427 &  524.3273 &  554.3991 & 0.92443664\\\\\n",
       "\\end{tabular}\n"
      ],
      "text/markdown": [
       "\n",
       "A tibble: 4 × 5\n",
       "\n",
       "| .model &lt;chr&gt; | AIC &lt;dbl&gt; | AICc &lt;dbl&gt; | BIC &lt;dbl&gt; | r_squared &lt;dbl&gt; |\n",
       "|---|---|---|---|---|\n",
       "| stlm_s       | 1822.4533 | 1827.0609 | 1855.3771 | 0.06097065 |\n",
       "| stlm_t       | 1576.3645 | 1576.6342 | 1583.9623 | 0.91741864 |\n",
       "| stlm_st      | -148.1627 | -142.7781 | -112.7063 | 0.76173787 |\n",
       "| stlm_st_sqrt |  518.9427 |  524.3273 |  554.3991 | 0.92443664 |\n",
       "\n"
      ],
      "text/plain": [
       "  .model       AIC       AICc      BIC       r_squared \n",
       "1 stlm_s       1822.4533 1827.0609 1855.3771 0.06097065\n",
       "2 stlm_t       1576.3645 1576.6342 1583.9623 0.91741864\n",
       "3 stlm_st      -148.1627 -142.7781 -112.7063 0.76173787\n",
       "4 stlm_st_sqrt  518.9427  524.3273  554.3991 0.92443664"
      ]
     },
     "metadata": {},
     "output_type": "display_data"
    },
    {
     "data": {
      "text/html": [
       "<table class=\"dataframe\">\n",
       "<caption>A fbl_ts: 2 × 5</caption>\n",
       "<thead>\n",
       "\t<tr><th scope=col>state</th><th scope=col>.model</th><th scope=col>month_date</th><th scope=col>active_listing_count</th><th scope=col>.mean</th></tr>\n",
       "\t<tr><th scope=col>&lt;chr&gt;</th><th scope=col>&lt;chr&gt;</th><th scope=col>&lt;mth&gt;</th><th scope=col>&lt;dist&gt;</th><th scope=col>&lt;dbl&gt;</th></tr>\n",
       "</thead>\n",
       "<tbody>\n",
       "\t<tr><td>pa</td><td>stlm_s</td><td>2024 Apr</td><td>N(27109, 3.2e+08)</td><td>27109.12</td></tr>\n",
       "\t<tr><td>pa</td><td>stlm_s</td><td>2024 May</td><td>N(28782, 3.2e+08)</td><td>28781.79</td></tr>\n",
       "</tbody>\n",
       "</table>\n"
      ],
      "text/latex": [
       "A fbl\\_ts: 2 × 5\n",
       "\\begin{tabular}{lllll}\n",
       " state & .model & month\\_date & active\\_listing\\_count & .mean\\\\\n",
       " <chr> & <chr> & <mth> & <dist> & <dbl>\\\\\n",
       "\\hline\n",
       "\t pa & stlm\\_s & 2024 Apr & N(27109, 3.2e+08) & 27109.12\\\\\n",
       "\t pa & stlm\\_s & 2024 May & N(28782, 3.2e+08) & 28781.79\\\\\n",
       "\\end{tabular}\n"
      ],
      "text/markdown": [
       "\n",
       "A fbl_ts: 2 × 5\n",
       "\n",
       "| state &lt;chr&gt; | .model &lt;chr&gt; | month_date &lt;mth&gt; | active_listing_count &lt;dist&gt; | .mean &lt;dbl&gt; |\n",
       "|---|---|---|---|---|\n",
       "| pa | stlm_s | 2024 Apr | N(27109, 3.2e+08) | 27109.12 |\n",
       "| pa | stlm_s | 2024 May | N(28782, 3.2e+08) | 28781.79 |\n",
       "\n"
      ],
      "text/plain": [
       "  state .model month_date active_listing_count .mean   \n",
       "1 pa    stlm_s 2024 Apr   N(27109, 3.2e+08)    27109.12\n",
       "2 pa    stlm_s 2024 May   N(28782, 3.2e+08)    28781.79"
      ]
     },
     "metadata": {},
     "output_type": "display_data"
    },
    {
     "name": "stdout",
     "output_type": "stream",
     "text": [
      "[1] \"Checking for negative forecast for pa\"\n"
     ]
    },
    {
     "data": {
      "text/html": [
       "<table class=\"dataframe\">\n",
       "<caption>A fbl_ts: 6 × 5</caption>\n",
       "<thead>\n",
       "\t<tr><th scope=col>state</th><th scope=col>.model</th><th scope=col>month_date</th><th scope=col>active_listing_count</th><th scope=col>.mean</th></tr>\n",
       "\t<tr><th scope=col>&lt;chr&gt;</th><th scope=col>&lt;chr&gt;</th><th scope=col>&lt;mth&gt;</th><th scope=col>&lt;dist&gt;</th><th scope=col>&lt;dbl&gt;</th></tr>\n",
       "</thead>\n",
       "<tbody>\n",
       "\t<tr><td>pa</td><td>stlm_t</td><td>2024 Oct</td><td>N(-93, 2.3e+07)</td><td>  -92.59468</td></tr>\n",
       "\t<tr><td>pa</td><td>stlm_t</td><td>2024 Nov</td><td>N(-669, 2.3e+07)</td><td> -668.89068</td></tr>\n",
       "\t<tr><td>pa</td><td>stlm_t</td><td>2024 Dec</td><td>N(-1245, 2.3e+07)</td><td>-1245.18668</td></tr>\n",
       "\t<tr><td>pa</td><td>stlm_t</td><td>2025 Jan</td><td>N(-1821, 2.3e+07)</td><td>-1821.48268</td></tr>\n",
       "\t<tr><td>pa</td><td>stlm_t</td><td>2025 Feb</td><td>N(-2398, 2.3e+07)</td><td>-2397.77868</td></tr>\n",
       "\t<tr><td>pa</td><td>stlm_t</td><td>2025 Mar</td><td>N(-2974, 2.3e+07)</td><td>-2974.07468</td></tr>\n",
       "</tbody>\n",
       "</table>\n"
      ],
      "text/latex": [
       "A fbl\\_ts: 6 × 5\n",
       "\\begin{tabular}{lllll}\n",
       " state & .model & month\\_date & active\\_listing\\_count & .mean\\\\\n",
       " <chr> & <chr> & <mth> & <dist> & <dbl>\\\\\n",
       "\\hline\n",
       "\t pa & stlm\\_t & 2024 Oct & N(-93, 2.3e+07) &   -92.59468\\\\\n",
       "\t pa & stlm\\_t & 2024 Nov & N(-669, 2.3e+07) &  -668.89068\\\\\n",
       "\t pa & stlm\\_t & 2024 Dec & N(-1245, 2.3e+07) & -1245.18668\\\\\n",
       "\t pa & stlm\\_t & 2025 Jan & N(-1821, 2.3e+07) & -1821.48268\\\\\n",
       "\t pa & stlm\\_t & 2025 Feb & N(-2398, 2.3e+07) & -2397.77868\\\\\n",
       "\t pa & stlm\\_t & 2025 Mar & N(-2974, 2.3e+07) & -2974.07468\\\\\n",
       "\\end{tabular}\n"
      ],
      "text/markdown": [
       "\n",
       "A fbl_ts: 6 × 5\n",
       "\n",
       "| state &lt;chr&gt; | .model &lt;chr&gt; | month_date &lt;mth&gt; | active_listing_count &lt;dist&gt; | .mean &lt;dbl&gt; |\n",
       "|---|---|---|---|---|\n",
       "| pa | stlm_t | 2024 Oct | N(-93, 2.3e+07) |   -92.59468 |\n",
       "| pa | stlm_t | 2024 Nov | N(-669, 2.3e+07) |  -668.89068 |\n",
       "| pa | stlm_t | 2024 Dec | N(-1245, 2.3e+07) | -1245.18668 |\n",
       "| pa | stlm_t | 2025 Jan | N(-1821, 2.3e+07) | -1821.48268 |\n",
       "| pa | stlm_t | 2025 Feb | N(-2398, 2.3e+07) | -2397.77868 |\n",
       "| pa | stlm_t | 2025 Mar | N(-2974, 2.3e+07) | -2974.07468 |\n",
       "\n"
      ],
      "text/plain": [
       "  state .model month_date active_listing_count .mean      \n",
       "1 pa    stlm_t 2024 Oct   N(-93, 2.3e+07)        -92.59468\n",
       "2 pa    stlm_t 2024 Nov   N(-669, 2.3e+07)      -668.89068\n",
       "3 pa    stlm_t 2024 Dec   N(-1245, 2.3e+07)    -1245.18668\n",
       "4 pa    stlm_t 2025 Jan   N(-1821, 2.3e+07)    -1821.48268\n",
       "5 pa    stlm_t 2025 Feb   N(-2398, 2.3e+07)    -2397.77868\n",
       "6 pa    stlm_t 2025 Mar   N(-2974, 2.3e+07)    -2974.07468"
      ]
     },
     "metadata": {},
     "output_type": "display_data"
    },
    {
     "data": {
      "text/html": [
       "<table class=\"dataframe\">\n",
       "<caption>A tibble: 4 × 5</caption>\n",
       "<thead>\n",
       "\t<tr><th scope=col>.model</th><th scope=col>AIC</th><th scope=col>AICc</th><th scope=col>BIC</th><th scope=col>r_squared</th></tr>\n",
       "\t<tr><th scope=col>&lt;chr&gt;</th><th scope=col>&lt;dbl&gt;</th><th scope=col>&lt;dbl&gt;</th><th scope=col>&lt;dbl&gt;</th><th scope=col>&lt;dbl&gt;</th></tr>\n",
       "</thead>\n",
       "<tbody>\n",
       "\t<tr><td>stlm_s      </td><td>1434.9090</td><td>1439.5166</td><td>1467.8328</td><td>0.02305849</td></tr>\n",
       "\t<tr><td>stlm_t      </td><td>-279.3045</td><td>-279.0348</td><td>-271.7067</td><td>0.89782062</td></tr>\n",
       "\t<tr><td>stlm_st     </td><td>-265.7171</td><td>-260.3325</td><td>-230.2607</td><td>0.90665793</td></tr>\n",
       "\t<tr><td>stlm_st_sqrt</td><td> 315.4884</td><td> 320.8731</td><td> 350.9448</td><td>0.92898392</td></tr>\n",
       "</tbody>\n",
       "</table>\n"
      ],
      "text/latex": [
       "A tibble: 4 × 5\n",
       "\\begin{tabular}{lllll}\n",
       " .model & AIC & AICc & BIC & r\\_squared\\\\\n",
       " <chr> & <dbl> & <dbl> & <dbl> & <dbl>\\\\\n",
       "\\hline\n",
       "\t stlm\\_s       & 1434.9090 & 1439.5166 & 1467.8328 & 0.02305849\\\\\n",
       "\t stlm\\_t       & -279.3045 & -279.0348 & -271.7067 & 0.89782062\\\\\n",
       "\t stlm\\_st      & -265.7171 & -260.3325 & -230.2607 & 0.90665793\\\\\n",
       "\t stlm\\_st\\_sqrt &  315.4884 &  320.8731 &  350.9448 & 0.92898392\\\\\n",
       "\\end{tabular}\n"
      ],
      "text/markdown": [
       "\n",
       "A tibble: 4 × 5\n",
       "\n",
       "| .model &lt;chr&gt; | AIC &lt;dbl&gt; | AICc &lt;dbl&gt; | BIC &lt;dbl&gt; | r_squared &lt;dbl&gt; |\n",
       "|---|---|---|---|---|\n",
       "| stlm_s       | 1434.9090 | 1439.5166 | 1467.8328 | 0.02305849 |\n",
       "| stlm_t       | -279.3045 | -279.0348 | -271.7067 | 0.89782062 |\n",
       "| stlm_st      | -265.7171 | -260.3325 | -230.2607 | 0.90665793 |\n",
       "| stlm_st_sqrt |  315.4884 |  320.8731 |  350.9448 | 0.92898392 |\n",
       "\n"
      ],
      "text/plain": [
       "  .model       AIC       AICc      BIC       r_squared \n",
       "1 stlm_s       1434.9090 1439.5166 1467.8328 0.02305849\n",
       "2 stlm_t       -279.3045 -279.0348 -271.7067 0.89782062\n",
       "3 stlm_st      -265.7171 -260.3325 -230.2607 0.90665793\n",
       "4 stlm_st_sqrt  315.4884  320.8731  350.9448 0.92898392"
      ]
     },
     "metadata": {},
     "output_type": "display_data"
    },
    {
     "data": {
      "text/html": [
       "<table class=\"dataframe\">\n",
       "<caption>A fbl_ts: 2 × 5</caption>\n",
       "<thead>\n",
       "\t<tr><th scope=col>state</th><th scope=col>.model</th><th scope=col>month_date</th><th scope=col>active_listing_count</th><th scope=col>.mean</th></tr>\n",
       "\t<tr><th scope=col>&lt;chr&gt;</th><th scope=col>&lt;chr&gt;</th><th scope=col>&lt;mth&gt;</th><th scope=col>&lt;dist&gt;</th><th scope=col>&lt;dbl&gt;</th></tr>\n",
       "</thead>\n",
       "<tbody>\n",
       "\t<tr><td>de</td><td>stlm_s</td><td>2024 Apr</td><td>N(3324, 5e+06)</td><td>3323.563</td></tr>\n",
       "\t<tr><td>de</td><td>stlm_s</td><td>2024 May</td><td>N(3384, 5e+06)</td><td>3384.255</td></tr>\n",
       "</tbody>\n",
       "</table>\n"
      ],
      "text/latex": [
       "A fbl\\_ts: 2 × 5\n",
       "\\begin{tabular}{lllll}\n",
       " state & .model & month\\_date & active\\_listing\\_count & .mean\\\\\n",
       " <chr> & <chr> & <mth> & <dist> & <dbl>\\\\\n",
       "\\hline\n",
       "\t de & stlm\\_s & 2024 Apr & N(3324, 5e+06) & 3323.563\\\\\n",
       "\t de & stlm\\_s & 2024 May & N(3384, 5e+06) & 3384.255\\\\\n",
       "\\end{tabular}\n"
      ],
      "text/markdown": [
       "\n",
       "A fbl_ts: 2 × 5\n",
       "\n",
       "| state &lt;chr&gt; | .model &lt;chr&gt; | month_date &lt;mth&gt; | active_listing_count &lt;dist&gt; | .mean &lt;dbl&gt; |\n",
       "|---|---|---|---|---|\n",
       "| de | stlm_s | 2024 Apr | N(3324, 5e+06) | 3323.563 |\n",
       "| de | stlm_s | 2024 May | N(3384, 5e+06) | 3384.255 |\n",
       "\n"
      ],
      "text/plain": [
       "  state .model month_date active_listing_count .mean   \n",
       "1 de    stlm_s 2024 Apr   N(3324, 5e+06)       3323.563\n",
       "2 de    stlm_s 2024 May   N(3384, 5e+06)       3384.255"
      ]
     },
     "metadata": {},
     "output_type": "display_data"
    },
    {
     "name": "stdout",
     "output_type": "stream",
     "text": [
      "[1] \"Checking for negative forecast for de\"\n"
     ]
    },
    {
     "data": {
      "text/html": [
       "<table class=\"dataframe\">\n",
       "<caption>A fbl_ts: 0 × 5</caption>\n",
       "<thead>\n",
       "\t<tr><th scope=col>state</th><th scope=col>.model</th><th scope=col>month_date</th><th scope=col>active_listing_count</th><th scope=col>.mean</th></tr>\n",
       "\t<tr><th scope=col>&lt;chr&gt;</th><th scope=col>&lt;chr&gt;</th><th scope=col>&lt;mth&gt;</th><th scope=col>&lt;dist&gt;</th><th scope=col>&lt;dbl&gt;</th></tr>\n",
       "</thead>\n",
       "<tbody>\n",
       "</tbody>\n",
       "</table>\n"
      ],
      "text/latex": [
       "A fbl\\_ts: 0 × 5\n",
       "\\begin{tabular}{lllll}\n",
       " state & .model & month\\_date & active\\_listing\\_count & .mean\\\\\n",
       " <chr> & <chr> & <mth> & <dist> & <dbl>\\\\\n",
       "\\hline\n",
       "\\end{tabular}\n"
      ],
      "text/markdown": [
       "\n",
       "A fbl_ts: 0 × 5\n",
       "\n",
       "| state &lt;chr&gt; | .model &lt;chr&gt; | month_date &lt;mth&gt; | active_listing_count &lt;dist&gt; | .mean &lt;dbl&gt; |\n",
       "|---|---|---|---|---|\n",
       "\n"
      ],
      "text/plain": [
       "     state .model month_date active_listing_count .mean"
      ]
     },
     "metadata": {},
     "output_type": "display_data"
    },
    {
     "data": {
      "text/html": [
       "<table class=\"dataframe\">\n",
       "<caption>A tibble: 4 × 5</caption>\n",
       "<thead>\n",
       "\t<tr><th scope=col>.model</th><th scope=col>AIC</th><th scope=col>AICc</th><th scope=col>BIC</th><th scope=col>r_squared</th></tr>\n",
       "\t<tr><th scope=col>&lt;chr&gt;</th><th scope=col>&lt;dbl&gt;</th><th scope=col>&lt;dbl&gt;</th><th scope=col>&lt;dbl&gt;</th><th scope=col>&lt;dbl&gt;</th></tr>\n",
       "</thead>\n",
       "<tbody>\n",
       "\t<tr><td>stlm_s      </td><td>1804.5994</td><td>1809.2070</td><td>1837.5232</td><td>0.06404659</td></tr>\n",
       "\t<tr><td>stlm_t      </td><td>1566.9614</td><td>1567.2310</td><td>1574.5591</td><td>0.90985935</td></tr>\n",
       "\t<tr><td>stlm_st     </td><td>-194.0890</td><td>-188.7044</td><td>-158.6326</td><td>0.82398658</td></tr>\n",
       "\t<tr><td>stlm_st_sqrt</td><td> 503.2739</td><td> 508.6585</td><td> 538.7303</td><td>0.92767183</td></tr>\n",
       "</tbody>\n",
       "</table>\n"
      ],
      "text/latex": [
       "A tibble: 4 × 5\n",
       "\\begin{tabular}{lllll}\n",
       " .model & AIC & AICc & BIC & r\\_squared\\\\\n",
       " <chr> & <dbl> & <dbl> & <dbl> & <dbl>\\\\\n",
       "\\hline\n",
       "\t stlm\\_s       & 1804.5994 & 1809.2070 & 1837.5232 & 0.06404659\\\\\n",
       "\t stlm\\_t       & 1566.9614 & 1567.2310 & 1574.5591 & 0.90985935\\\\\n",
       "\t stlm\\_st      & -194.0890 & -188.7044 & -158.6326 & 0.82398658\\\\\n",
       "\t stlm\\_st\\_sqrt &  503.2739 &  508.6585 &  538.7303 & 0.92767183\\\\\n",
       "\\end{tabular}\n"
      ],
      "text/markdown": [
       "\n",
       "A tibble: 4 × 5\n",
       "\n",
       "| .model &lt;chr&gt; | AIC &lt;dbl&gt; | AICc &lt;dbl&gt; | BIC &lt;dbl&gt; | r_squared &lt;dbl&gt; |\n",
       "|---|---|---|---|---|\n",
       "| stlm_s       | 1804.5994 | 1809.2070 | 1837.5232 | 0.06404659 |\n",
       "| stlm_t       | 1566.9614 | 1567.2310 | 1574.5591 | 0.90985935 |\n",
       "| stlm_st      | -194.0890 | -188.7044 | -158.6326 | 0.82398658 |\n",
       "| stlm_st_sqrt |  503.2739 |  508.6585 |  538.7303 | 0.92767183 |\n",
       "\n"
      ],
      "text/plain": [
       "  .model       AIC       AICc      BIC       r_squared \n",
       "1 stlm_s       1804.5994 1809.2070 1837.5232 0.06404659\n",
       "2 stlm_t       1566.9614 1567.2310 1574.5591 0.90985935\n",
       "3 stlm_st      -194.0890 -188.7044 -158.6326 0.82398658\n",
       "4 stlm_st_sqrt  503.2739  508.6585  538.7303 0.92767183"
      ]
     },
     "metadata": {},
     "output_type": "display_data"
    },
    {
     "data": {
      "text/html": [
       "<table class=\"dataframe\">\n",
       "<caption>A fbl_ts: 2 × 5</caption>\n",
       "<thead>\n",
       "\t<tr><th scope=col>state</th><th scope=col>.model</th><th scope=col>month_date</th><th scope=col>active_listing_count</th><th scope=col>.mean</th></tr>\n",
       "\t<tr><th scope=col>&lt;chr&gt;</th><th scope=col>&lt;chr&gt;</th><th scope=col>&lt;mth&gt;</th><th scope=col>&lt;dist&gt;</th><th scope=col>&lt;dbl&gt;</th></tr>\n",
       "</thead>\n",
       "<tbody>\n",
       "\t<tr><td>nj</td><td>stlm_s</td><td>2024 Apr</td><td>N(27760, 2.7e+08)</td><td>27760.09</td></tr>\n",
       "\t<tr><td>nj</td><td>stlm_s</td><td>2024 May</td><td>N(29471, 2.7e+08)</td><td>29471.26</td></tr>\n",
       "</tbody>\n",
       "</table>\n"
      ],
      "text/latex": [
       "A fbl\\_ts: 2 × 5\n",
       "\\begin{tabular}{lllll}\n",
       " state & .model & month\\_date & active\\_listing\\_count & .mean\\\\\n",
       " <chr> & <chr> & <mth> & <dist> & <dbl>\\\\\n",
       "\\hline\n",
       "\t nj & stlm\\_s & 2024 Apr & N(27760, 2.7e+08) & 27760.09\\\\\n",
       "\t nj & stlm\\_s & 2024 May & N(29471, 2.7e+08) & 29471.26\\\\\n",
       "\\end{tabular}\n"
      ],
      "text/markdown": [
       "\n",
       "A fbl_ts: 2 × 5\n",
       "\n",
       "| state &lt;chr&gt; | .model &lt;chr&gt; | month_date &lt;mth&gt; | active_listing_count &lt;dist&gt; | .mean &lt;dbl&gt; |\n",
       "|---|---|---|---|---|\n",
       "| nj | stlm_s | 2024 Apr | N(27760, 2.7e+08) | 27760.09 |\n",
       "| nj | stlm_s | 2024 May | N(29471, 2.7e+08) | 29471.26 |\n",
       "\n"
      ],
      "text/plain": [
       "  state .model month_date active_listing_count .mean   \n",
       "1 nj    stlm_s 2024 Apr   N(27760, 2.7e+08)    27760.09\n",
       "2 nj    stlm_s 2024 May   N(29471, 2.7e+08)    29471.26"
      ]
     },
     "metadata": {},
     "output_type": "display_data"
    },
    {
     "name": "stdout",
     "output_type": "stream",
     "text": [
      "[1] \"Checking for negative forecast for nj\"\n"
     ]
    },
    {
     "data": {
      "text/html": [
       "<table class=\"dataframe\">\n",
       "<caption>A fbl_ts: 3 × 5</caption>\n",
       "<thead>\n",
       "\t<tr><th scope=col>state</th><th scope=col>.model</th><th scope=col>month_date</th><th scope=col>active_listing_count</th><th scope=col>.mean</th></tr>\n",
       "\t<tr><th scope=col>&lt;chr&gt;</th><th scope=col>&lt;chr&gt;</th><th scope=col>&lt;mth&gt;</th><th scope=col>&lt;dist&gt;</th><th scope=col>&lt;dbl&gt;</th></tr>\n",
       "</thead>\n",
       "<tbody>\n",
       "\t<tr><td>nj</td><td>stlm_t</td><td>2025 Jan</td><td>N(-457, 2.1e+07)</td><td> -457.0039</td></tr>\n",
       "\t<tr><td>nj</td><td>stlm_t</td><td>2025 Feb</td><td>N(-979, 2.1e+07)</td><td> -979.2487</td></tr>\n",
       "\t<tr><td>nj</td><td>stlm_t</td><td>2025 Mar</td><td>N(-1501, 2.1e+07)</td><td>-1501.4935</td></tr>\n",
       "</tbody>\n",
       "</table>\n"
      ],
      "text/latex": [
       "A fbl\\_ts: 3 × 5\n",
       "\\begin{tabular}{lllll}\n",
       " state & .model & month\\_date & active\\_listing\\_count & .mean\\\\\n",
       " <chr> & <chr> & <mth> & <dist> & <dbl>\\\\\n",
       "\\hline\n",
       "\t nj & stlm\\_t & 2025 Jan & N(-457, 2.1e+07) &  -457.0039\\\\\n",
       "\t nj & stlm\\_t & 2025 Feb & N(-979, 2.1e+07) &  -979.2487\\\\\n",
       "\t nj & stlm\\_t & 2025 Mar & N(-1501, 2.1e+07) & -1501.4935\\\\\n",
       "\\end{tabular}\n"
      ],
      "text/markdown": [
       "\n",
       "A fbl_ts: 3 × 5\n",
       "\n",
       "| state &lt;chr&gt; | .model &lt;chr&gt; | month_date &lt;mth&gt; | active_listing_count &lt;dist&gt; | .mean &lt;dbl&gt; |\n",
       "|---|---|---|---|---|\n",
       "| nj | stlm_t | 2025 Jan | N(-457, 2.1e+07) |  -457.0039 |\n",
       "| nj | stlm_t | 2025 Feb | N(-979, 2.1e+07) |  -979.2487 |\n",
       "| nj | stlm_t | 2025 Mar | N(-1501, 2.1e+07) | -1501.4935 |\n",
       "\n"
      ],
      "text/plain": [
       "  state .model month_date active_listing_count .mean     \n",
       "1 nj    stlm_t 2025 Jan   N(-457, 2.1e+07)      -457.0039\n",
       "2 nj    stlm_t 2025 Feb   N(-979, 2.1e+07)      -979.2487\n",
       "3 nj    stlm_t 2025 Mar   N(-1501, 2.1e+07)    -1501.4935"
      ]
     },
     "metadata": {},
     "output_type": "display_data"
    },
    {
     "name": "stderr",
     "output_type": "stream",
     "text": [
      "\u001b[1m\u001b[22mSaving 6.67 x 6.67 in image\n",
      "\u001b[1m\u001b[22mSaving 6.67 x 6.67 in image\n",
      "\u001b[1m\u001b[22mSaving 6.67 x 6.67 in image\n",
      "\u001b[1m\u001b[22mSaving 6.67 x 6.67 in image\n",
      "\u001b[1m\u001b[22mSaving 6.67 x 6.67 in image\n"
     ]
    },
    {
     "data": {
      "image/png": "[encoded data removed]",
      "text/plain": [
       "plot without title"
      ]
     },
     "metadata": {
      "image/png": {
       "height": 420,
       "width": 420
      }
     },
     "output_type": "display_data"
    }
   ],
   "source": [
    "df_train <- combined_df\n",
    "\n",
    "fit_md <- df_train %>% filter(state == 'md') %>% \n",
    "    model(\n",
    "        stlm_s = TSLM(active_listing_count ~ season()),\n",
    "        stlm_t = TSLM(active_listing_count ~ trend()),\n",
    "        stlm_st = TSLM(log(active_listing_count) ~ season() + trend())\n",
    "    )\n",
    "\n",
    "fit_md %>% report() %>%\n",
    "    select(.model, AIC, AICc, BIC, r_squared)\n",
    "frcst_md <- fit_md %>% forecast(h = 12)\n",
    "frcst_md %>% head(2)\n",
    "print('Checking for negative forecast for md')\n",
    "frcst_md %>% filter(.mean <= 0) \n",
    "\n",
    "fit_va <- df_train  %>% filter(state == 'va')%>% \n",
    "    model(\n",
    "        stlm_s = TSLM(active_listing_count ~ season()),\n",
    "        stlm_t = TSLM(active_listing_count ~ trend()),\n",
    "        stlm_st = TSLM(log(active_listing_count) ~ season() + trend()),\n",
    "        stlm_st_sqrt = TSLM(sqrt(active_listing_count) ~ season() + trend())\n",
    "    )\n",
    "\n",
    "fit_va %>% report() %>%\n",
    "    select(.model, AIC, AICc, BIC, r_squared)\n",
    "frcst_va <- fit_va %>% forecast(h = 12)\n",
    "frcst_va %>% head(2)\n",
    "print('Checking for negative forecast for va')\n",
    "frcst_va %>% filter(.mean <= 0) \n",
    "fit_pa <- df_train %>% filter(state == 'pa') %>% \n",
    "    model(\n",
    "        stlm_s = TSLM(active_listing_count ~ season()),\n",
    "        stlm_t = TSLM(active_listing_count ~ trend()),\n",
    "        stlm_st = TSLM(log(active_listing_count) ~ season() + trend()),\n",
    "        stlm_st_sqrt = TSLM(sqrt(active_listing_count) ~ season() + trend())\n",
    "    )\n",
    "\n",
    "fit_pa %>% report() %>%\n",
    "    select(.model, AIC, AICc, BIC, r_squared)\n",
    "frcst_pa <- fit_pa %>% forecast(h = 12)\n",
    "frcst_pa %>% head(2)\n",
    "print('Checking for negative forecast for pa')\n",
    "frcst_pa %>% filter(.mean <= 0) \n",
    "\n",
    "fit_de <- df_train %>% filter(state == 'de') %>% \n",
    "    model(\n",
    "        stlm_s = TSLM(active_listing_count ~ season()),\n",
    "        stlm_t = TSLM(log(active_listing_count) ~ trend()),\n",
    "        stlm_st = TSLM(log(active_listing_count) ~ season() + trend()),\n",
    "        stlm_st_sqrt = TSLM(sqrt(active_listing_count) ~ season() + trend())\n",
    "    )\n",
    "\n",
    "fit_de %>% report() %>%\n",
    "    select(.model, AIC, AICc, BIC, r_squared)\n",
    "frcst_de <- fit_de %>% forecast(h = 12)\n",
    "frcst_de %>% head(2)\n",
    "print('Checking for negative forecast for de')\n",
    "frcst_de %>% filter(.mean <= 0) \n",
    "\n",
    "fit_nj <- df_train %>% filter(state == 'nj') %>% \n",
    "    model(\n",
    "        stlm_s = TSLM(active_listing_count ~ season()),\n",
    "        stlm_t = TSLM(active_listing_count ~ trend()),\n",
    "        stlm_st = TSLM(log(active_listing_count) ~ season() + trend()),\n",
    "        stlm_st_sqrt = TSLM(sqrt(active_listing_count) ~ season() + trend())\n",
    "    )\n",
    "\n",
    "fit_nj %>% report() %>%\n",
    "    select(.model, AIC, AICc, BIC, r_squared)\n",
    "frcst_nj <- fit_nj %>% forecast(h = 12)\n",
    "frcst_nj %>% head(2)\n",
    "print('Checking for negative forecast for nj')\n",
    "frcst_nj %>% filter(.mean <= 0) \n",
    "\n",
    "p1 <- ggplot(data = df_train %>% filter(state == 'md'), aes(x = month_date)) +\n",
    "        geom_line(aes(y = active_listing_count))+\n",
    "        geom_line(data = frcst_md %>% filter(.model == 'stlm_s'), aes(y = .mean),color = 'blue') +\n",
    "        geom_line(data = frcst_md %>% filter(.model == 'stlm_t'), aes(y = .mean),color = 'green') +\n",
    "        geom_line(data = frcst_md %>% filter(.model == 'stlm_st'), aes(y = .mean),color = 'orange')+\n",
    "        geom_text(data = NULL,aes(x = Inf, y = Inf, label = 'Active Listing Count md'),vjust = -1)\n",
    "\n",
    "p2 <- ggplot(data = df_train %>% filter(state == 'va'), aes(x = month_date)) +\n",
    "        geom_line(aes(y = active_listing_count))+\n",
    "        geom_line(data = frcst_va %>% filter(.model == 'stlm_s'), aes(y = .mean),color = 'blue') +\n",
    "        geom_line(data = frcst_va %>% filter(.model == 'stlm_t'), aes(y = .mean),color = 'green') +\n",
    "        geom_line(data = frcst_va %>% filter(.model == 'stlm_st'), aes(y = .mean),color = 'orange')+\n",
    "        geom_text(data = NULL,aes(x = Inf, y = Inf, label = 'Active Listing Count va'),vjust = -1)\n",
    "\n",
    "p3 <- ggplot(data = df_train %>% filter(state == 'pa'), aes(x = month_date)) +\n",
    "        geom_line(aes(y = active_listing_count))+\n",
    "        geom_line(data = frcst_pa %>% filter(.model == 'stlm_s'), aes(y = .mean),color = 'blue') +\n",
    "        geom_line(data = frcst_pa %>% filter(.model == 'stlm_t'), aes(y = .mean),color = 'green') +\n",
    "        geom_line(data = frcst_pa %>% filter(.model == 'stlm_st'), aes(y = .mean),color = 'orange')+\n",
    "        geom_text(data = NULL,aes(x = Inf, y = Inf, label = 'Active Listing Count pa'),vjust = -1)\n",
    "\n",
    "\n",
    "p4 <- ggplot(data = df_train  %>% filter(state == 'de'), aes(x = month_date)) +\n",
    "        geom_line(aes(y = active_listing_count))+\n",
    "        geom_line(data = frcst_de %>% filter(.model == 'stlm_s'), aes(y = .mean),color = 'blue') +\n",
    "        geom_line(data = frcst_de %>% filter(.model == 'stlm_t'), aes(y = .mean),color = 'green') +\n",
    "        geom_line(data = frcst_de %>% filter(.model == 'stlm_st'), aes(y = .mean),color = 'orange')+\n",
    "        geom_text(data = NULL,aes(x = Inf, y = Inf, label = 'Active Listing Count de'),vjust = -1)\n",
    "\n",
    "p5 <- ggplot(data = df_train %>% filter(state == 'nj'), aes(x = month_date)) +\n",
    "        geom_line(aes(y = active_listing_count))+\n",
    "        geom_line(data = frcst_nj %>% filter(.model == 'stlm_s'), aes(y = .mean),color = 'blue') +\n",
    "        geom_line(data = frcst_nj %>% filter(.model == 'stlm_t'), aes(y = .mean),color = 'green') +\n",
    "        geom_line(data = frcst_nj %>% filter(.model == 'stlm_st'), aes(y = .mean),color = 'orange')+\n",
    "        geom_text(data = NULL,aes(x = Inf, y = Inf, label = 'Active Listing Count nj'),vjust = -1)\n",
    "\n",
    "grid.arrange(p1,p2,p3,p4,p5,ncol = 3)\n",
    "\n",
    "ggsave('./plots/md_of.png',p1)\n",
    "ggsave('./plots/va_of.png',p2)\n",
    "ggsave('./plots/pa_of.png',p3)\n",
    "ggsave('./plots/de_of.png',p4)\n",
    "ggsave('./plots/nj_of.png',p5)"
   ]
  },
  {
   "cell_type": "code",
   "execution_count": 39,
   "metadata": {
    "vscode": {
     "languageId": "r"
    }
   },
   "outputs": [
    {
     "data": {
      "image/png": "[encoded data removed]",
      "text/plain": [
       "plot without title"
      ]
     },
     "metadata": {
      "image/png": {
       "height": 420,
       "width": 420
      }
     },
     "output_type": "display_data"
    }
   ],
   "source": [
    "p1 <- ggplot(data = df_train %>% filter(state == 'md'), aes(x = month_date)) +\n",
    "    geom_line(aes(y = active_listing_count))+\n",
    "    geom_line(data = frcst_md %>% filter(.model == 'stlm_st'), aes(y = .mean),color = 'orange')+\n",
    "    geom_text(data = NULL,aes(x = Inf, y = Inf, label = 'Active Listing Count MD'),vjust = -1)\n",
    "\n",
    "p2 <- ggplot(data = df_train  %>% filter(state == 'va'), aes(x = month_date)) +\n",
    "    geom_line(aes(y = active_listing_count))+\n",
    "    geom_line(data = frcst_va %>% filter(.model == 'stlm_st'), aes(y = .mean),color = 'orange')+\n",
    "    geom_text(data = NULL,aes(x = Inf, y = Inf, label = 'Active Listing Count VA'),vjust = -1)\n",
    "\n",
    "p3 <- ggplot(data = df_train  %>% filter(state == 'pa'), aes(x = month_date)) +\n",
    "    geom_line(aes(y = active_listing_count))+\n",
    "    geom_line(data = frcst_pa %>% filter(.model == 'stlm_st'), aes(y = .mean),color = 'orange')+\n",
    "    geom_text(data = NULL,aes(x = Inf, y = Inf, label = 'Active Listing Count PA'),vjust = -1)\n",
    "\n",
    "p4 <- ggplot(data = df_train  %>% filter(state == 'de'), aes(x = month_date)) +\n",
    "    geom_line(aes(y = active_listing_count))+\n",
    "    geom_line(data = frcst_de %>% filter(.model == 'stlm_st'), aes(y = .mean),color = 'orange')+\n",
    "    geom_text(data = NULL,aes(x = Inf, y = Inf, label = 'Active Listing Count DE'),vjust = -1)\n",
    "\n",
    "p5 <- ggplot(data = df_train  %>% filter(state == 'nj'), aes(x = month_date)) +\n",
    "    geom_line(aes(y = active_listing_count))+\n",
    "    geom_line(data = frcst_nj %>% filter(.model == 'stlm_st'), aes(y = .mean),color = 'orange')+\n",
    "    geom_text(data = NULL,aes(x = Inf, y = Inf, label = 'Active Listing Count NJ'),vjust = -1)\n",
    "grid.arrange(p1,p2,p3,p4,p5,ncol=3)"
   ]
  },
  {
   "cell_type": "code",
   "execution_count": null,
   "metadata": {
    "vscode": {
     "languageId": "r"
    }
   },
   "outputs": [],
   "source": []
  }
 ],
 "metadata": {
  "kernelspec": {
   "display_name": "R",
   "language": "R",
   "name": "ir"
  },
  "language_info": {
   "codemirror_mode": "r",
   "file_extension": ".r",
   "mimetype": "text/x-r-source",
   "name": "R",
   "pygments_lexer": "r",
   "version": "4.3.3"
  }
 },
 "nbformat": 4,
 "nbformat_minor": 2
}
